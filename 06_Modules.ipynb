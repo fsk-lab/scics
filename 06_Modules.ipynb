{
  "nbformat": 4,
  "nbformat_minor": 0,
  "metadata": {
    "colab": {
      "provenance": [],
      "collapsed_sections": [
        "ex1LQ7DB1MYr",
        "szIM7HSy9O9b",
        "tPLkBLq1Z6hS",
        "HYjocrHC11LB",
        "hPnha5n1ANln",
        "G0sLOLLkDaGE"
      ],
      "authorship_tag": "ABX9TyOloFPJy+GmcDLrwv9m/lMi",
      "include_colab_link": true
    },
    "kernelspec": {
      "name": "python3",
      "display_name": "Python 3"
    },
    "language_info": {
      "name": "python"
    }
  },
  "cells": [
    {
      "cell_type": "markdown",
      "metadata": {
        "id": "view-in-github",
        "colab_type": "text"
      },
      "source": [
        "<a href=\"https://colab.research.google.com/github/fsk-lab/scics/blob/main/06_Modules.ipynb\" target=\"_parent\"><img src=\"https://colab.research.google.com/assets/colab-badge.svg\" alt=\"Open In Colab\"/></a>"
      ]
    },
    {
      "cell_type": "markdown",
      "source": [
        "# Modules and Imports in Python"
      ],
      "metadata": {
        "id": "ed9y8OAv0K61"
      }
    },
    {
      "cell_type": "markdown",
      "source": [
        "So far, we have written all code that should be executed into a single file (here: a Jupyter notebook). For simple pieces of code, this is perfectly fine. However, if our code becomes more complex – or if we want to use code that other people have written – it makes sense to divide code into multiple Python files. This has a number of practical advantages:\n",
        "* It makes the code more readable.\n",
        "* It enables the reuse of code – handy pieces of code can be shared between multiple applications without copy-pasting.\n",
        "* It simplifies code maintenance.\n",
        "\n",
        "To make this possible, Python provides a way to define a function or a variable in one file (which we refer to as the **module**), and then use it in another file. We will learn about the idea of modules, and how to use them, in this tutorial."
      ],
      "metadata": {
        "id": "zu7D0AJ41IGu"
      }
    },
    {
      "cell_type": "markdown",
      "source": [
        "## Importing from Modules and Packages"
      ],
      "metadata": {
        "id": "ex1LQ7DB1MYr"
      }
    },
    {
      "cell_type": "markdown",
      "source": [
        "Let us start with a simple example. In the same folder where we store this notebook, let us create a file called `test_module.py`.\n",
        "\n",
        "> 💡  In Google Colabs, we can do this using the folder symbol (📁) on the left-hand side, and open the right-click menu.\n",
        "\n",
        "Copy the following function to the file:\n",
        "```\n",
        "def fibonacci(n):\n",
        "    result = []\n",
        "    a, b = 0, 1\n",
        "    while a < n:\n",
        "        result.append(a)\n",
        "        a, b = b, a + b\n",
        "    return result\n",
        "```"
      ],
      "metadata": {
        "id": "uep2Pskj1ulJ"
      }
    },
    {
      "cell_type": "markdown",
      "source": [
        "The file `test_module.py` is now a Python module that defines a function. If we now want to use this module, and the definitions it contains, we need to `import` it."
      ],
      "metadata": {
        "id": "CRc85IL_1x1C"
      }
    },
    {
      "cell_type": "code",
      "source": [
        "import test_module"
      ],
      "metadata": {
        "id": "vP4U1Hr54y1U"
      },
      "execution_count": null,
      "outputs": []
    },
    {
      "cell_type": "markdown",
      "source": [
        "Any definition from within this module can now be accessed using the \"dot syntax\", i.e. `module.name_within_module`.\n",
        "\n"
      ],
      "metadata": {
        "id": "1hk015J446al"
      }
    },
    {
      "cell_type": "code",
      "source": [
        "a = test_module.fibonacci(10)\n",
        "\n",
        "print(a)"
      ],
      "metadata": {
        "id": "c0fWjepC45lu"
      },
      "execution_count": null,
      "outputs": []
    },
    {
      "cell_type": "markdown",
      "source": [
        "Alternatively, we can only import selected functions or variables from the module. The syntax for this is `from module import name_within_module`."
      ],
      "metadata": {
        "id": "jHY64Vgz5Qjn"
      }
    },
    {
      "cell_type": "code",
      "source": [
        "from test_module import fibonacci\n",
        "\n",
        "b = fibonacci(20)\n",
        "\n",
        "print(b)"
      ],
      "metadata": {
        "id": "1JzEGgN45Zys"
      },
      "execution_count": null,
      "outputs": []
    },
    {
      "cell_type": "markdown",
      "source": [
        "Imports are not limited to functions – any variable that is defined within a module can be imported to another file.\n",
        "\n",
        "As an example, we can add the variable assignment `fibonacci_numbers = [1, 1, 2, 3, 5, 8, 13]` to our module `test_module.py`. Once we do that, we can also import and use this variable in our current code."
      ],
      "metadata": {
        "id": "J04oI4-t6NrC"
      }
    },
    {
      "cell_type": "code",
      "source": [
        "from test_module import fibonacci_numbers\n",
        "\n",
        "print(fibonacci_numbers[-5:-1])"
      ],
      "metadata": {
        "id": "1BBKAJft6taa"
      },
      "execution_count": null,
      "outputs": []
    },
    {
      "cell_type": "markdown",
      "source": [
        "> ❗  Modules are only imported at the first call of `import`! Re-import of a module does not \"refresh\" the module import – which is problematic when using Jupyter notebooks. If we want to force the Python code to re-import a module, we have to completely re-start the code (and delete all run-time variables)."
      ],
      "metadata": {
        "id": "h8gWA6U977m4"
      }
    },
    {
      "cell_type": "markdown",
      "source": [
        "In principle, we can also assign a new name to any function or variable that we import. For this purpose, we use the `as` statement, that we have learned about already in Tutorial 5 on exception handling."
      ],
      "metadata": {
        "id": "AHR-WBkX8ky5"
      }
    },
    {
      "cell_type": "code",
      "source": [
        "from test_module import fibonacci as fib\n",
        "\n",
        "c = fib(100)\n",
        "\n",
        "print(c)"
      ],
      "metadata": {
        "id": "Nzf_LFA587M4"
      },
      "execution_count": null,
      "outputs": []
    },
    {
      "cell_type": "markdown",
      "source": [
        "### Where are modules stored?"
      ],
      "metadata": {
        "id": "szIM7HSy9O9b"
      }
    },
    {
      "cell_type": "markdown",
      "source": [
        "When the Python interpreter finds a statement like `import test_module`, it will search for a module named `test_module` in the following locations:\n",
        "\n",
        "\n",
        "1.   It will check if Python contains a built-in module named `test_module`. We will learn more about built-in modules later.\n",
        "2.   It will search all directories which are part of the so-called PYTHONPATH. By default, the PYTHONPATH contains the current working directory$^*$, as well as further installation-specific directories.\n",
        "\n",
        "$^*$ This is the reason why we could import from the `test_module.py`, which is directly in our current working directory.\n",
        "\n",
        "Any module which is not part of the PYTHONPATH will not be found by the interpreter. The respective import will raise an `ImportError`!"
      ],
      "metadata": {
        "id": "zoU0qUJG9db_"
      }
    },
    {
      "cell_type": "markdown",
      "source": [
        "### 🧠 Packages"
      ],
      "metadata": {
        "id": "tPLkBLq1Z6hS"
      }
    },
    {
      "cell_type": "markdown",
      "source": [
        "In many cases, we want to create a set of useful code functionality that easily becomes too complex to be stored in a single file. However, all that code still belongs together, and should be distributed under the same name. For this purpose, Python provides us with the concept of a **package**.\n",
        "\n",
        "In principle, a package is nothing but a folder that contains multiple modules (or sub-folders with modules). For example, consider the following toy module called `filereader`, which contains a number of sub-modules and sub-sub-modules.\n",
        "\n",
        "```\n",
        "filereader/\n",
        "    __init__.py\n",
        "    csv.py\n",
        "    json.py\n",
        "    office_files/\n",
        "        __init__.py\n",
        "        docx.py\n",
        "        xlsx.py\n",
        "        pptx.py\n",
        "    \n",
        "```\n",
        "\n",
        "> ❗  Note that the Python interpreter needs the file `__init__.py` to recognize a folder as a Python module. Without this file, we cannot import anything from this folder! Further details on the `__init__.py` file are discussed below.\n",
        "\n",
        "In other words: A Python **package** is a folder with an `__init__.py` file in it!"
      ],
      "metadata": {
        "id": "6HGeqyd9Z8xH"
      }
    },
    {
      "cell_type": "markdown",
      "source": [
        "If we have a package, then we can import functions or variables using the same \"dot syntax\" as shown above.\n",
        "\n",
        "e.g.\n",
        "```\n",
        "from filereader.csv import read_csv\n",
        "from filereader.office_files.docx import read_docx\n",
        "```"
      ],
      "metadata": {
        "id": "6T-SuxXTdYRr"
      }
    },
    {
      "cell_type": "markdown",
      "source": [
        "The `__init__.py` file also allows us to make specific functions or variables accessible directly from the package name.\n",
        "\n",
        "Let us consider the `filereader` example from above, where the `__init__.py` file contains the following code:\n",
        "```\n",
        "# filereader/__init__.py\n",
        "\n",
        "from .csv import read_csv\n",
        "```\n",
        "\n",
        "> ❗ Note that within a package, files are imported through *relative* imports imports (i.e. the path to the source file is given relative to the current file). The path of the current file is indicated by `.`. In other words, the import statement above means: \"In the same directory where this file is located, there is a file called `csv.py`. From this file, import `read_csv`.\n",
        "\n",
        "> **IMPORTANT:** This \"dot-import\" only works within packages!"
      ],
      "metadata": {
        "id": "dZd_cGGMir_q"
      }
    },
    {
      "cell_type": "markdown",
      "source": [
        "With the `__init__.py` file described above, then we can directly import the `read_csv` function from the `filereader` namespace through\n",
        "```\n",
        "from filereader import read_csv\n",
        "```"
      ],
      "metadata": {
        "id": "cX3ggrwlbKn0"
      }
    },
    {
      "cell_type": "markdown",
      "source": [
        "## External Modules"
      ],
      "metadata": {
        "id": "HYjocrHC11LB"
      }
    },
    {
      "cell_type": "markdown",
      "source": [
        "On many occasions, we don't want to write all code by ourselves – but rather re-use code that others have written already. In fact, Python is one of the programming languages with the widest community support, and a large number of modules are publicly available.\n",
        "\n",
        "By *installing* them – i.e. downloading the packages and modules, and saving them in a directory that is part of the PYTHONPATH – we can directly make them usable in our Python code."
      ],
      "metadata": {
        "id": "noCkHm2jAIva"
      }
    },
    {
      "cell_type": "markdown",
      "source": [
        "### The Standard Library"
      ],
      "metadata": {
        "id": "hPnha5n1ANln"
      }
    },
    {
      "cell_type": "markdown",
      "source": [
        "By default, every Python installation comes with a number of built-in modules that we can use without downloading or installing any further code. Some of the most common built-in libraries are:\n",
        "* `os` for interacting with the operating system\n",
        "* `pathlib` for managing the file system\n",
        "* `sys` for handling system variables (like the PYTHONPATH)\n",
        "* `math` for advanced mathematical operations\n",
        "* `time` and `datetime` for dealing with times\n",
        "* `itertools` for advanced loops\n",
        "* `argparse` for passing command-line arguments to Python code\n",
        "* `logging` for advanced options of parsing code\n",
        "* `urllib` for accessing webpages\n",
        "\n",
        "...and many many more!"
      ],
      "metadata": {
        "id": "46U-sOgiARsC"
      }
    },
    {
      "cell_type": "markdown",
      "source": [
        "It is obviously not necessary (or even possible) to know all modules from the standard library. In the next tutorials, however, we will get to know some of these modules and their useful functionalities.\n",
        "\n",
        "A full overview of all packages of the standard library is given at the [following link](https://docs.python.org/3/library/index.html)."
      ],
      "metadata": {
        "id": "wksFF3TTBDEJ"
      }
    },
    {
      "cell_type": "markdown",
      "source": [
        "### Sharing and Installing External Packages"
      ],
      "metadata": {
        "id": "G0sLOLLkDaGE"
      }
    },
    {
      "cell_type": "markdown",
      "source": [
        "There is a vast range of functionality that is not covered by the modules in the standard library – and millions of Python users worldwide have already written modules that can be useful for such purposes. In this case, we don't want to reinvent the wheel, but rather re-use the code that others have written already. This becomes possible by making code available through public **package distributions**."
      ],
      "metadata": {
        "id": "452-Fx24Dems"
      }
    },
    {
      "cell_type": "markdown",
      "source": [
        "One of the most common Python package distributions is the Python package index (PyPI), from which we can install any available package using the PyPI installer called `pip`.\n",
        "\n",
        "Usually, we would use `pip` from the command line (i.e. in a *terminal* application). For example, if we want to install the `numpy` package, which is extremely useful for vector or matrix operations in Python, we would open a terminal, and install the package via\n",
        "```\n",
        "pip install numpy\n",
        "```\n",
        "\n",
        "> 💡  In a Jupyter notebook, we can install modules through `pip` by starting a code cell with an exclamation mark."
      ],
      "metadata": {
        "id": "OenPjJ-nEaQD"
      }
    },
    {
      "cell_type": "code",
      "source": [
        "! pip install numpy"
      ],
      "metadata": {
        "id": "52PKdiUoDeCC"
      },
      "execution_count": null,
      "outputs": []
    },
    {
      "cell_type": "markdown",
      "source": [
        "Installing a package can be a tedious procedure, especially in those scenarios where the package uses other packages, which need to be installed, too. These other packages are referred to as *requirements* or *dependencies*. An installer like `pip` takes care of installing not only a package, but also its dependencies (and their dependencies, and so on).\n",
        "\n",
        "However, this can rapidly lead to conflicts, especially if version requirements are involved. In these scenarios, manual resolutions of these conflicts are often required, which can be tedious and time-consuming."
      ],
      "metadata": {
        "id": "RjVfw52FWiMs"
      }
    },
    {
      "cell_type": "markdown",
      "source": [
        "Therefore, for local installations of Python, it is usually best practice to setup separate **environments** for each coding project. Every environment corresponds to a local installation of Python with only those packages installed that are required for that specific project. If we switch to a new project, we create a new environment with new installed packages. This minimizes dependency conflicts between projects, and enables easier transfer of Python environments.\n",
        "\n",
        "Within this course, you find a separate *best practice* tutorial for locally setting up and managing Python installations."
      ],
      "metadata": {
        "id": "3ciEgWyRYaZJ"
      }
    },
    {
      "cell_type": "code",
      "source": [],
      "metadata": {
        "id": "S3sNEio5ZRzg"
      },
      "execution_count": null,
      "outputs": []
    }
  ]
}