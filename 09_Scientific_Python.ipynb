{
  "nbformat": 4,
  "nbformat_minor": 0,
  "metadata": {
    "colab": {
      "provenance": [],
      "collapsed_sections": [
        "0Ey1GEfHWZRe",
        "S9m22uyYbHlo",
        "usLBcfhGaeKL",
        "apsmpk1e1acd",
        "3kdua3j-zsmp",
        "3CVYlZAq5kqY",
        "O6RCt6YP7sgx",
        "D9ZNC1VY8ct1"
      ],
      "authorship_tag": "ABX9TyMRPN6+1DIvZnQrQdkYwqLQ",
      "include_colab_link": true
    },
    "kernelspec": {
      "name": "python3",
      "display_name": "Python 3"
    },
    "language_info": {
      "name": "python"
    }
  },
  "cells": [
    {
      "cell_type": "markdown",
      "metadata": {
        "id": "view-in-github",
        "colab_type": "text"
      },
      "source": [
        "<a href=\"https://colab.research.google.com/github/fsk-lab/scics/blob/main/09_Scientific_Python.ipynb\" target=\"_parent\"><img src=\"https://colab.research.google.com/assets/colab-badge.svg\" alt=\"Open In Colab\"/></a>"
      ]
    },
    {
      "cell_type": "markdown",
      "source": [
        "# Python for Scientific Applications"
      ],
      "metadata": {
        "id": "a5JWlamCUMxE"
      }
    },
    {
      "cell_type": "markdown",
      "source": [
        "In the first eight tutorials, we have learned about the most important concepts of programming in Python: Variables and data types, conditions, loops, functions, and classes. Moreover, we got to know the most important built-in data types (including `int`, `float`, `bool`, `None`, `list`, `tuple`, `set` and `dict`); and we learned how to use Python to interact with the operating system to navigate the file tree, and read/write files. In principle, this knowledge provides us with all the tools to solve various scientific tasks.\n",
        "\n",
        "At the same time, Python is arguably the programming language with the most active community that constantly develops new tools that make our lives easier. There are a number of packages out there which contain useful functionality for scientific applications. Four of these packages will be introduced in the following tutorial:\n",
        "* `numpy`: Numerical and logical operations on large arrays and matrices.\n",
        "* `pandas`: Useful tools for tabular data.\n",
        "* `scipy`: Advanced mathematical tools for scientific problems\n",
        "* `matplotlib`: Plotting and visualization"
      ],
      "metadata": {
        "id": "2n9kCR_CUSt6"
      }
    },
    {
      "cell_type": "markdown",
      "source": [
        "## Numerical Operations with `numpy`"
      ],
      "metadata": {
        "id": "0Ey1GEfHWZRe"
      }
    },
    {
      "cell_type": "markdown",
      "source": [
        "In science, we often deal with larger amounts of data – for example, an experimental spectrum can easily consist of tens of thousands of individual data points. In these scenarios, the built-in data types and their operations are not necessarily the most efficient solutions. In particular, looping over very long lists, and performing a mathematical operation on each list element, can become relatively inefficient.\n",
        "\n",
        "The `numpy` library (short for \"numerical Python\") addresses these issues by providing highly efficient array structures and mathematical operations."
      ],
      "metadata": {
        "id": "LrXXzqqqWcqb"
      }
    },
    {
      "cell_type": "markdown",
      "source": [
        "```\n",
        "🧠 `numpy` makes a number of operations more efficient by providing specific\n",
        "data types and implementing a large number of looping operations\n",
        "in hardware-oriented languages like C or Fortran.\n",
        "```"
      ],
      "metadata": {
        "id": "td8mRu2XXgOn"
      }
    },
    {
      "cell_type": "markdown",
      "source": [
        "In a regular Python setup, `numpy` can be installed from the Python Package Index (PyPi) through\n",
        "```\n",
        "pip install numpy\n",
        "```"
      ],
      "metadata": {
        "id": "PLE2rr1pYexR"
      }
    },
    {
      "cell_type": "markdown",
      "source": [
        "Google Colabs provides a `numpy` installation by default."
      ],
      "metadata": {
        "id": "-4yuxBPEgO-I"
      }
    },
    {
      "cell_type": "markdown",
      "source": [
        "In this chapter, we will learn about the most important functionalities of `numpy`, and how to efficiently use it."
      ],
      "metadata": {
        "id": "3T2bneV-YM7C"
      }
    },
    {
      "cell_type": "markdown",
      "source": [
        "### `numpy` Arrays"
      ],
      "metadata": {
        "id": "2OVZo2V_YWXI"
      }
    },
    {
      "cell_type": "markdown",
      "source": [
        "#### Basics of `numpy` arrays"
      ],
      "metadata": {
        "id": "WQBPk_EdbMmQ"
      }
    },
    {
      "cell_type": "markdown",
      "source": [
        "The fundamental data structure in `numpy` is called an **array** (data type: `ndarray`, short for \"n-dimensional array\"). We can think about an array like a list – on many occasions, it behaves very similarly.\n",
        "\n",
        "Numpy arrays can be created from lists:"
      ],
      "metadata": {
        "id": "aiTQiE-yYZ1a"
      }
    },
    {
      "cell_type": "code",
      "execution_count": null,
      "metadata": {
        "id": "v4Ml4RZ4UGDy"
      },
      "outputs": [],
      "source": [
        "import numpy as np  # it is common practice to import numpy as the shortcut `np`\n",
        "\n",
        "a = np.array([1, 2, 3, 4, 5, 6, 7, 8, 9, 10])\n",
        "print(a)\n",
        "print(type(a))"
      ]
    },
    {
      "cell_type": "markdown",
      "source": [
        "In fact, if we print it, it looks exactly like a list."
      ],
      "metadata": {
        "id": "dZZbPBh3ZXBu"
      }
    },
    {
      "cell_type": "markdown",
      "source": [
        "If we want to access specific elements (or sub-arrays) from a `numpy` array, we can use **indexing** and **slicing** – just as we have learned it for the case of lists."
      ],
      "metadata": {
        "id": "yNoSJc-tZgmv"
      }
    },
    {
      "cell_type": "code",
      "source": [
        "print(a[2])\n",
        "print(a[2:6])"
      ],
      "metadata": {
        "id": "Y8sR30J6ZPSx"
      },
      "execution_count": null,
      "outputs": []
    },
    {
      "cell_type": "markdown",
      "source": [
        "Note that, in principle, `numpy` arrays are mutable. That means, we can also use indexing and slicing to modify the value of a specific element in a `numpy` array."
      ],
      "metadata": {
        "id": "iIh0p8_BZ4mW"
      }
    },
    {
      "cell_type": "code",
      "source": [
        "a[2] = 100\n",
        "print(a)"
      ],
      "metadata": {
        "id": "VvdSVgWyZ4M3"
      },
      "execution_count": null,
      "outputs": []
    },
    {
      "cell_type": "markdown",
      "source": [
        "However, there are also a number of very notable differences between a list and a `numpy` array. Most importantly, `numpy` arrays have a fixed data type – meaning that all elements within the array must be of the same data type. We can get the data type of an array through the `dtype` attribute."
      ],
      "metadata": {
        "id": "K7KkDNfzaPau"
      }
    },
    {
      "cell_type": "code",
      "source": [
        "print(a.dtype)"
      ],
      "metadata": {
        "id": "lYqxD5QbZwly"
      },
      "execution_count": null,
      "outputs": []
    },
    {
      "cell_type": "markdown",
      "source": [
        "This has an important consequence: New elements of the array can only be set to values that can be casted to the specific data type – otherwise, this will cause an error!"
      ],
      "metadata": {
        "id": "5Sve2kBOa_P0"
      }
    },
    {
      "cell_type": "code",
      "source": [
        "a[4] = \"Test\""
      ],
      "metadata": {
        "id": "ik3ytbtaa7SY"
      },
      "execution_count": null,
      "outputs": []
    },
    {
      "cell_type": "markdown",
      "source": [
        "We can convert an array to a new data type using the `array.astype(new_type)` function."
      ],
      "metadata": {
        "id": "rajrdOdjgl-L"
      }
    },
    {
      "cell_type": "markdown",
      "source": [
        "#### Multi-dimensional Arrays"
      ],
      "metadata": {
        "id": "S9m22uyYbHlo"
      }
    },
    {
      "cell_type": "markdown",
      "source": [
        "One of the key features of `numpy` is that it supports multi-dimensional arrays. So far, we have looked at a one-dimensional array, i.e. a list of values (or, in mathematical words, a *vector*). In `numpy`, we can also work with arrays of any other dimensionality. A two-dimensional array would be a table (or in mathematical wording, a *matrix*). Arrays of three or more dimensions are difficult to imagine – but they can become useful at times."
      ],
      "metadata": {
        "id": "I0gncH3rbXPw"
      }
    },
    {
      "cell_type": "markdown",
      "source": [
        "We can instantiate a two-dimensional array from a nested list:"
      ],
      "metadata": {
        "id": "Iaw_rXoWb4Uh"
      }
    },
    {
      "cell_type": "code",
      "source": [
        "b = np.array([[1, 2, 3], [4, 5, 6]])\n",
        "# table of two rows and three columns"
      ],
      "metadata": {
        "id": "YrOfpxQ4b-vv"
      },
      "execution_count": null,
      "outputs": []
    },
    {
      "cell_type": "markdown",
      "source": [
        "Each `numpy` array has the `shape` attribute, which tells us about what the array looks like. For a 1D array, it is a tuple with one element – which is the length of the array. For a 2D array, it is a tuple with two elements – the first one being the number of rows, and the second one being the number of columns. This works similar for higher-dimensional arrays."
      ],
      "metadata": {
        "id": "pXZUV8H8cLUG"
      }
    },
    {
      "cell_type": "code",
      "source": [
        "print(a.shape)\n",
        "print(b.shape)"
      ],
      "metadata": {
        "id": "sLdDcEMEagXP"
      },
      "execution_count": null,
      "outputs": []
    },
    {
      "cell_type": "markdown",
      "source": [
        "In a 2D array, both dimensions of the array (often called the *axes*) can be indexed separately:"
      ],
      "metadata": {
        "id": "KM_Kj-2zdGek"
      }
    },
    {
      "cell_type": "code",
      "source": [
        "print(b[1, 2])"
      ],
      "metadata": {
        "id": "eeRFLi-udPZX"
      },
      "execution_count": null,
      "outputs": []
    },
    {
      "cell_type": "markdown",
      "source": [
        "```\n",
        "🔁  Remember that the \":\" can be used to slice all elements from a list or\n",
        "a string. We can use this to get e.g. all values from a specific row\n",
        "or column of a `numpy` array!\n",
        "````"
      ],
      "metadata": {
        "id": "5GA7_9CjdmCl"
      }
    },
    {
      "cell_type": "markdown",
      "source": [
        "```\n",
        "🎮  Create a numpy array of the following matrix:\n",
        "\n",
        " 1  4 -2\n",
        " 0 -1  0\n",
        " 7 -4  0\n",
        " 1  2 -1\n",
        "\n",
        "Predict the shape of the numpy array!\n",
        "\n",
        " Print out a slice of the matrix that represents...\n",
        " a) the first row\n",
        " b) the second column\n",
        "```"
      ],
      "metadata": {
        "id": "cGXsoboReBkI"
      }
    },
    {
      "cell_type": "code",
      "source": [
        "# Try it out!"
      ],
      "metadata": {
        "id": "CUqUFeMxfEBq"
      },
      "execution_count": null,
      "outputs": []
    },
    {
      "cell_type": "markdown",
      "source": [
        "#### Creating Arrays with Special Values"
      ],
      "metadata": {
        "id": "usLBcfhGaeKL"
      }
    },
    {
      "cell_type": "markdown",
      "source": [
        "Numpy provides several functions to create arrays filled with specific values:\n",
        "* `np.zeros(shape)` creates an array of the given shape filled with zeros.\n",
        "* `np.ones(shape)` creates an array of the given shape filled with ones.\n",
        "* `np.full(shape, val)` creates an array of the given shape filled with the value `val`.\n",
        "* `np.random.rand(shape)` creates an array of the given shape filled with random numbers from the [0, 1] interval."
      ],
      "metadata": {
        "id": "h8RgXW8TfW3H"
      }
    },
    {
      "cell_type": "code",
      "source": [
        "arr_1 = np.zeros((5, 7))\n",
        "arr_2 = np.full((2, ), 2.0)\n",
        "\n",
        "print(arr_1)\n",
        "print(arr_2)"
      ],
      "metadata": {
        "id": "RxIj8kJEfc8N"
      },
      "execution_count": null,
      "outputs": []
    },
    {
      "cell_type": "markdown",
      "source": [
        "```\n",
        "❗  Remember: A `shape` is always a tuple, even for 1D arrays!\n",
        "```"
      ],
      "metadata": {
        "id": "cubDMu-eh575"
      }
    },
    {
      "cell_type": "markdown",
      "source": [
        "#### Combining Arrays"
      ],
      "metadata": {
        "id": "apsmpk1e1acd"
      }
    },
    {
      "cell_type": "markdown",
      "source": [
        "In `numpy`, we can combine two arrays into a single array – provided that the shapes of the two arrays match. Let us consider the following example of two 2D arrays:"
      ],
      "metadata": {
        "id": "8T412oAY1d1q"
      }
    },
    {
      "cell_type": "code",
      "source": [
        "a = np.array([[1, 2], [3, 4]])\n",
        "b = np.array([[5, 6], [7, 8]])"
      ],
      "metadata": {
        "id": "PuAYk_Br1xkA"
      },
      "execution_count": null,
      "outputs": []
    },
    {
      "cell_type": "markdown",
      "source": [
        "There could be two ways to combine these arrays.\n",
        "1. We get a new array with four rows and two columns (\"vertical stacking\").\n",
        "2. We get a new array with two rows and four columns (\"horizontal stacking\").\n",
        "\n",
        "For these two scenarios, `numpy` provides the functions `np.hstack()` (**h**orizontal stacking) and `np.vstack()` (**v**ertical stacking). Both functions take a list or tuple of arrays as their argument."
      ],
      "metadata": {
        "id": "sHLaq4Sh12NC"
      }
    },
    {
      "cell_type": "code",
      "source": [
        "ver_stacked = np.vstack([a, b])\n",
        "print(ver_stacked)"
      ],
      "metadata": {
        "id": "vZqqI-Oq2Sps"
      },
      "execution_count": null,
      "outputs": []
    },
    {
      "cell_type": "code",
      "source": [
        "hor_stacked = np.hstack([a, b])\n",
        "print(hor_stacked)"
      ],
      "metadata": {
        "id": "1v_4peHk2lUx"
      },
      "execution_count": null,
      "outputs": []
    },
    {
      "cell_type": "markdown",
      "source": [
        "```\n",
        "❗ Note that, for stacking arrays, the shapes of both arrays need to match.\n",
        "- For `np.vstack([a, b])`, `a` and `b` need to have the same number of columns.\n",
        "- For `np.hstack([a, b])`, `a` and `b` need to have the same number of rows.\n",
        "```\n",
        "\n",
        "This may require changing the shape of an array (see below)!"
      ],
      "metadata": {
        "id": "Tub-eJX03ByV"
      }
    },
    {
      "cell_type": "markdown",
      "source": [
        "```\n",
        "🧠  `np.hstack` and `np.vstack` are special cases of `np.concatenate` for 2D arrays.\n",
        "    `np.concatenate` provides a generalized interface for combining arrays of\n",
        "    arbitrary dimensionality.\n",
        "\n",
        "np.concatenate(\n",
        "    arrays,  # list or tuple of arrays to combine\n",
        "    axis  # axis along which to combine\n",
        ")\n",
        "```"
      ],
      "metadata": {
        "id": "zerNCBtC2lDs"
      }
    },
    {
      "cell_type": "markdown",
      "source": [
        "#### 🧠 Changing the Shape of Arrays"
      ],
      "metadata": {
        "id": "3kdua3j-zsmp"
      }
    },
    {
      "cell_type": "markdown",
      "source": [
        "At times, it can become necessary to change the shape of an array.\n",
        "\n",
        "Here, the `array.reshape(m, n, ...)` changes the shape of an array to `(m, n, ...)` without changing its data. The product of `m * n * ...` must match the total number of elements."
      ],
      "metadata": {
        "id": "IzJjOTr5z6h0"
      }
    },
    {
      "cell_type": "code",
      "source": [
        "a = np.array([1, 2, 3, 4, 5, 6])\n",
        "\n",
        "# Reshape to 2 rows and 3 columns\n",
        "b = a.reshape(2, 3)\n",
        "print(\"Reshaped array (2x3):\\n\", b)"
      ],
      "metadata": {
        "id": "5EgkDqNhzwma"
      },
      "execution_count": null,
      "outputs": []
    },
    {
      "cell_type": "markdown",
      "source": [
        "In addition to *reshaping*, we often want (or rather, need) to add or remove a dimension of size 1. This is usually necessary when we want to combine multiple arrays.\n",
        "\n",
        "As an example, we want to turn an array (one-dimensional) into a matrix (two-dimensional) with a single column. This can be done with the `expand_dims` function."
      ],
      "metadata": {
        "id": "UtdZW5t50Roy"
      }
    },
    {
      "cell_type": "code",
      "source": [
        "a = np.array([1, 2, 3, 4, 5, 6])\n",
        "print(a.shape)\n",
        "\n",
        "b = np.expand_dims(a, axis=-1)\n",
        "print(b.shape)\n",
        "\n",
        "print(b)\n"
      ],
      "metadata": {
        "id": "F96jAorX0ROH"
      },
      "execution_count": null,
      "outputs": []
    },
    {
      "cell_type": "markdown",
      "source": [
        "Similarly, dimensions of size 1 can be removed using `np.squeeze()`."
      ],
      "metadata": {
        "id": "zwV3fmS41IqB"
      }
    },
    {
      "cell_type": "markdown",
      "source": [
        "```\n",
        "🧠 Note that `expand_dims` and `squeeze` are just special cases of the\n",
        "  `reshape` function discussed above!\n",
        "```"
      ],
      "metadata": {
        "id": "5WgG_6Pt3344"
      }
    },
    {
      "cell_type": "markdown",
      "source": [
        "### Basic Operations on `numpy` Arrays"
      ],
      "metadata": {
        "id": "D4QA2H8QaTv8"
      }
    },
    {
      "cell_type": "markdown",
      "source": [
        "`numpy`'s most important strength is its ability to support **vectorized** operations – which means we can apply certain operations to entire arrays without the explicit need to write a `for` loop. This does not only make our code more readable – but most importantly, is computationally much (!) more efficient than the `for` loop."
      ],
      "metadata": {
        "id": "DjHvMCJZg9Gf"
      }
    },
    {
      "cell_type": "markdown",
      "source": [
        "#### Element-Wise Operations with Scalars"
      ],
      "metadata": {
        "id": "K2tZTanbg4mT"
      }
    },
    {
      "cell_type": "markdown",
      "source": [
        "Let us start with a simple example – we have an array of ten numbers, and want to create a new array in which every element from the original array is multiplied by 2."
      ],
      "metadata": {
        "id": "5Wh8rh2xhfHz"
      }
    },
    {
      "cell_type": "markdown",
      "source": [
        "```\n",
        "🔁 How would we do this with a normal Python `list`?\n",
        "```"
      ],
      "metadata": {
        "id": "Nly9TWqkhz7b"
      }
    },
    {
      "cell_type": "code",
      "source": [
        "a = [1, 7, -2, 4, 3, 1, 5, 0, 2, -3]\n",
        "\n",
        "# Complete the code using \"classical\" Python."
      ],
      "metadata": {
        "id": "VVBU__LQaWeV"
      },
      "execution_count": null,
      "outputs": []
    },
    {
      "cell_type": "markdown",
      "source": [
        "In `numpy`, this can be done in a single line – by \"multiplying\" the entire array with 2, which automatically performs an element-wise multiplication."
      ],
      "metadata": {
        "id": "gsqah85Zignu"
      }
    },
    {
      "cell_type": "code",
      "source": [
        "a = np.array(a)\n",
        "\n",
        "b = 2 * a\n",
        "\n",
        "print(b)"
      ],
      "metadata": {
        "id": "eN5PU-J3izc6"
      },
      "execution_count": null,
      "outputs": []
    },
    {
      "cell_type": "markdown",
      "source": [
        "Such element-wise operations cannot only be done with multiplication, but with a number of further operations that we have learned about in the previous chapters, including:\n",
        "* The basic mathematical operations `+`, `-`, `*`, `**`, `/`, `//`, `%`\n",
        "* Comparisons like `>`, `>=`, `<`, `<=`, `==`\n",
        "* Element-wise Boolean operations like `~`(NOT), `&` (AND), `|` (OR)\n"
      ],
      "metadata": {
        "id": "o2t2KFcQjETR"
      }
    },
    {
      "cell_type": "markdown",
      "source": [
        "```\n",
        "🎮 Predict the outcome of the following code cell!\n",
        "```"
      ],
      "metadata": {
        "id": "lCFx8qz7kHsZ"
      }
    },
    {
      "cell_type": "code",
      "source": [
        "a = np.array(\n",
        "    [\n",
        "        [1, -2, 4],\n",
        "        [2, 0, -1]\n",
        "    ]\n",
        ")\n",
        "\n",
        "b = a >= 0\n",
        "\n",
        "print(b)"
      ],
      "metadata": {
        "id": "wm4aM1PCizCS"
      },
      "execution_count": null,
      "outputs": []
    },
    {
      "cell_type": "markdown",
      "source": [
        "```\n",
        "❗ Element-wise operations in `numpy` are never performed in-place!\n",
        "These operations create a new array, and the original array is not modified!\n",
        "```"
      ],
      "metadata": {
        "id": "kCE2gv9lkkwn"
      }
    },
    {
      "cell_type": "markdown",
      "source": [
        "#### Advanced Element-Wise Mathematical Operations"
      ],
      "metadata": {
        "id": "ZaReHZe3lCzJ"
      }
    },
    {
      "cell_type": "markdown",
      "source": [
        "In addition to the basic mathematical operations that we have known from \"normal\" Python, `numpy` provides us with *vectorized* versions of many further mathematical operations.\n",
        "* Square root: `np.sqrt(array)`\n",
        "* Exponential function: `np.exp(array)`\n",
        "* Logarithms: `np.log(array)`, `np.log2(array)`, `np.log10(array)`, ...\n",
        "* Trigonometric functions: `np.sin(array)`, `np.cos(array)`, `np.tan(array)`, `np.arcsin(array)`, `np.arccos(array)`, `np.arctan(array)`, `np.sinh(array)`, `np.cosh(array)`, `np.tanh(array)`\n",
        "* Rounding operations: `np.round(array)`, `np.floor(array)`, `np.ceil(array)`\n",
        "* and many more\n",
        "\n",
        "Their usage is very similar to the \"basic\" element-wise operations."
      ],
      "metadata": {
        "id": "QSRBDKL0ngpL"
      }
    },
    {
      "cell_type": "code",
      "source": [
        "a = np.array([1, 7, -2, 4, 3, 1, 5, 0, 2, -3])\n",
        "\n",
        "b = np.sqrt(a)\n",
        "c = np.sin(a)\n",
        "\n",
        "print(b)\n",
        "print(c)"
      ],
      "metadata": {
        "id": "q9RbHRCtiyMr"
      },
      "execution_count": null,
      "outputs": []
    },
    {
      "cell_type": "markdown",
      "source": [
        "This example shows us an important feature of `numpy`: The result of infeasible calculations (e.g. square roots of negative numbers, divisions by zero etc.) is a value called **nan** (for \"**n**ot **a** **n**umber). `numpy` does not raise errors in these scenarios!\n",
        "\n",
        "Similarly, numpy contains the `inf` value for any value that is larger than what the current data type can represent."
      ],
      "metadata": {
        "id": "knEYiJermXAR"
      }
    },
    {
      "cell_type": "markdown",
      "source": [
        "Moreover, `numpy` has the number of important mathematical constants stored, which we can directly use in calculations, including\n",
        "* `np.pi` for the value of π\n",
        "* `np.e` for the value of Euler's number e"
      ],
      "metadata": {
        "id": "8gdUlf9NnDQb"
      }
    },
    {
      "cell_type": "code",
      "source": [
        "print(np.pi)\n",
        "print(np.e)"
      ],
      "metadata": {
        "id": "CwhR_ZD2mQ4L"
      },
      "execution_count": null,
      "outputs": []
    },
    {
      "cell_type": "markdown",
      "source": [
        "#### Element-Wise Operations between Multiple Arrays"
      ],
      "metadata": {
        "id": "7zstBok-nkFQ"
      }
    },
    {
      "cell_type": "markdown",
      "source": [
        "So far, we have only seen (mathematical) operations that are performed on each element of a *single* array – e.g. multiplying each element by 2, or taking the square root of each element."
      ],
      "metadata": {
        "id": "949XFuM7nv4a"
      }
    },
    {
      "cell_type": "markdown",
      "source": [
        "Importantly, `numpy` also supports element-wise operations between two arrays – as long as these arrays have the same shape.\n",
        "\n",
        "As an example, we can do an element-wise addition of two arrays:"
      ],
      "metadata": {
        "id": "patrgbPpoNjh"
      }
    },
    {
      "cell_type": "code",
      "source": [
        "arr1 = np.array([1, 2, 3, 4])\n",
        "arr2 = np.array([10, 20, 30, 40])\n",
        "\n",
        "# Element-wise addition\n",
        "print(\"Element-wise addition:\", arr1 + arr2)\n",
        "\n",
        "# Element-wise multiplication\n",
        "print(\"Element-wise multiplication:\", arr1 * arr2)"
      ],
      "metadata": {
        "id": "nVGwvZSYnsnW"
      },
      "execution_count": null,
      "outputs": []
    },
    {
      "cell_type": "markdown",
      "source": [
        "```\n",
        "🎮  Find out what happens if the two arrays do not have matching shapes!\n",
        "```"
      ],
      "metadata": {
        "id": "XdlbfLhnoaF-"
      }
    },
    {
      "cell_type": "code",
      "source": [
        "# Try it!"
      ],
      "metadata": {
        "id": "7RqtygQnokHv"
      },
      "execution_count": null,
      "outputs": []
    },
    {
      "cell_type": "markdown",
      "source": [
        "#### 🧠 Further Element-Wise Operations"
      ],
      "metadata": {
        "id": "3CVYlZAq5kqY"
      }
    },
    {
      "cell_type": "markdown",
      "source": [
        "* `np.diff(array)`: Each element at index *i* in the new array is the difference between the old array's elements at index *i+1* and *i*. This is particularly useful for calculating derivatives or integrals.\n",
        "* `np.cumsum(array)`: Each element at index *i* in the new array is the cumulative sum of all elements in the old array from index 0 to *i*. This is particularly useful for calculating integrals.  "
      ],
      "metadata": {
        "id": "8VwbY33e5ocD"
      }
    },
    {
      "cell_type": "markdown",
      "source": [
        "#### Reducing Operations\n",
        "\n"
      ],
      "metadata": {
        "id": "aCVUMK2voqWg"
      }
    },
    {
      "cell_type": "markdown",
      "source": [
        "In addition to element-wise operations, `numpy` provides vectorized versions of further useful operations, including\n",
        "* `np.sum()` for calculating the sum of all elements in an array\n",
        "* `np.prod()` for calculating the product of all elements in an array\n",
        "* `np.mean()` for calculating the mean of all elements in an array\n",
        "* `np.max()` for finding the maximum of all elements in an array\n",
        "* `np.min()` for finding the minimum of all elements in an array"
      ],
      "metadata": {
        "id": "0mXT_dpToypt"
      }
    },
    {
      "cell_type": "code",
      "source": [
        "a = np.array(\n",
        "    [\n",
        "        [1, -2, 4],\n",
        "        [2, 0, -1]\n",
        "    ]\n",
        ")\n",
        "\n",
        "print(np.sum(a))"
      ],
      "metadata": {
        "id": "WPiWDqm-pU9-"
      },
      "execution_count": null,
      "outputs": []
    },
    {
      "cell_type": "markdown",
      "source": [
        "Importantly, these operations can either be applied on the full array, or *along a dimension* of the array. In other words, we could also use the `np.sum()` function to calculate the sum of all values in each row of the array, or the sum of all values in each column of the array.\n",
        "\n",
        "For this purpose, we have to specify the `axis` keyword in the function, specifying the dimension along which we want to consider all values – i.e. the dimension that should \"disappear\" after we perform the operation. In the example above, if we want to calculate the sum of all values in each row, we want to sum over all columns, so we would have to specify `axis = 1`."
      ],
      "metadata": {
        "id": "mumIfuUap5ED"
      }
    },
    {
      "cell_type": "code",
      "source": [
        "a = np.array(\n",
        "    [\n",
        "        [1, -2, 4],\n",
        "        [2, 0, -1]\n",
        "    ]\n",
        ")\n",
        "\n",
        "print(np.sum(a, axis=1))"
      ],
      "metadata": {
        "id": "AcBk_jIfpXtJ"
      },
      "execution_count": null,
      "outputs": []
    },
    {
      "cell_type": "markdown",
      "source": [
        "```\n",
        "🎮  Predict the outcome of\n",
        "\n",
        "print(np.sum(a, axis=0))\n",
        "```"
      ],
      "metadata": {
        "id": "u1e1-iWoquKA"
      }
    },
    {
      "cell_type": "markdown",
      "source": [
        "These functions are often referred to as \"reducing\" functions – since they reduce the dimensionality / shape of the resulting array by the dimension specified as `axis`."
      ],
      "metadata": {
        "id": "KK9nU3SXraiU"
      }
    },
    {
      "cell_type": "markdown",
      "source": [
        "### Selecting Elements from `numpy` Arrays"
      ],
      "metadata": {
        "id": "NAKtzxsprpgb"
      }
    },
    {
      "cell_type": "markdown",
      "source": [
        "#### Array Indexing and Boolean Masks"
      ],
      "metadata": {
        "id": "2RErbVj1vQXD"
      }
    },
    {
      "cell_type": "markdown",
      "source": [
        "In the introductory chapter on `numpy` arrays, we have seen that we can access elements from `numpy` arrays through indexing or slicing, as we have learned it for lists.\n",
        "\n",
        "However, `numpy` provides two further, advanced ways of getting specific elements from a `numpy` array, which makes `numpy` a very powerful tool for performing complex operations in few, simple lines of code: **array indexing** and **boolean masks**."
      ],
      "metadata": {
        "id": "3GFUiF-FuV76"
      }
    },
    {
      "cell_type": "markdown",
      "source": [
        "In **array indexing**, we can provide an array of integer indices inside the square brackets. This will return us a new array of the same size as the index array – and at each position, it contains the value from the original array at the specific index position.\n",
        "\n",
        "Let us illustrate that at a specific example:"
      ],
      "metadata": {
        "id": "9UrLmrFMvFZD"
      }
    },
    {
      "cell_type": "code",
      "source": [
        "a = np.array([1, 7, -2, 4, 3, 1, 5, 0, 2, -3])\n",
        "\n",
        "indices = [1, 1, 2, 4, 8]\n",
        "\n",
        "b = a[indices]\n",
        "print(b)"
      ],
      "metadata": {
        "id": "y-TbLUQlrvwG"
      },
      "execution_count": null,
      "outputs": []
    },
    {
      "cell_type": "markdown",
      "source": [
        "A **boolean mask** is an array of the same shape as the original array. If we use this boolean mask in the square brackets, we get a new array back – which only contains those values from the original array where the mask was `True`.\n",
        "\n",
        "Let us, again, illustrate that at an example:"
      ],
      "metadata": {
        "id": "0JFwq4kzwBA3"
      }
    },
    {
      "cell_type": "code",
      "source": [
        "a = np.array([1, 7, -2, 4, 3, 1, 5, 0, 2, -3])\n",
        "\n",
        "mask = [True, False, True, False, False, False, True, False, False, True]\n",
        "\n",
        "b = a[mask]\n",
        "print(b)"
      ],
      "metadata": {
        "id": "xnZGlwhpuLmc"
      },
      "execution_count": null,
      "outputs": []
    },
    {
      "cell_type": "markdown",
      "source": [
        "This allows us to perform more complex logical operations on numpy arrays: As an example, we can select all elements from `a` which are greater than 1. This requires two steps:\n",
        "1. We create a Boolean array via an element-wise comparison (see chapter on Element-wise operations).\n",
        "2. We use this array as a Boolean mask to select the respective elements from `a`."
      ],
      "metadata": {
        "id": "K2GNCzpgwsxc"
      }
    },
    {
      "cell_type": "code",
      "source": [
        "mask = a > 1\n",
        "print(mask)\n",
        "\n",
        "b = a[mask]\n",
        "print(b)"
      ],
      "metadata": {
        "id": "7TnoexHIwWj1"
      },
      "execution_count": null,
      "outputs": []
    },
    {
      "cell_type": "markdown",
      "source": [
        "In principle, we can write all of this in a single line:"
      ],
      "metadata": {
        "id": "jPOK6TvvxcRQ"
      }
    },
    {
      "cell_type": "code",
      "source": [
        "b = a[a > 1]\n",
        "# \"b contains all elements from a where the value is greater than 1\""
      ],
      "metadata": {
        "id": "HJzlh6cixfXF"
      },
      "execution_count": null,
      "outputs": []
    },
    {
      "cell_type": "markdown",
      "source": [
        "This feature of `numpy` arrays can be very useful for complex logical operations!"
      ],
      "metadata": {
        "id": "sab0mNSskErQ"
      }
    },
    {
      "cell_type": "markdown",
      "source": [
        "#### Finding Special Indices in Numpy Arrays"
      ],
      "metadata": {
        "id": "_110ykKb4RSw"
      }
    },
    {
      "cell_type": "markdown",
      "source": [
        "Boolean comparisons allow us to get a Boolean mask that indicates which elements of an array satisfy a specific criterion.\n",
        "\n",
        "We can get the corresponding indices using `np.where()`."
      ],
      "metadata": {
        "id": "MGyzU1jc4VY7"
      }
    },
    {
      "cell_type": "code",
      "source": [
        "a = np.array([1, 7, -2, 4, 3, 1, 5, 0, 2, -3])\n",
        "\n",
        "b = np.where(a > 1)\n",
        "print(b)"
      ],
      "metadata": {
        "id": "-c0TS78p4hEH"
      },
      "execution_count": null,
      "outputs": []
    },
    {
      "cell_type": "markdown",
      "source": [
        "Moreover, we can get the specific indices of the `max` or `min` operations – i.e. the index at which the maximum or minimum value can be found. The corresponding functions are called `np.argmax()` and `np.argmin()`."
      ],
      "metadata": {
        "id": "IehXwwXy7LKE"
      }
    },
    {
      "cell_type": "code",
      "source": [
        "a = np.array([1, 7, -2, 4, 3, 1, 5, 0, 2, -3])\n",
        "\n",
        "print(np.argmax(a))\n",
        "print(np.argmin(a))"
      ],
      "metadata": {
        "id": "FqLeO2Hs7fSp"
      },
      "execution_count": null,
      "outputs": []
    },
    {
      "cell_type": "markdown",
      "source": [
        "Especially when dealing with larger (and/or numerical) data, it is highly recommended to work with `numpy` for storing arrays and matrices for two reasons:\n",
        "1. The implementation in C / Fortran makes element-wise operations much faster and more efficient.\n",
        "2. Vectorized operations and advanced indexing significantly simplifies your code. This makes it more readable, and less prone to errors!"
      ],
      "metadata": {
        "id": "EScoB8CKkRkt"
      }
    },
    {
      "cell_type": "markdown",
      "source": [
        "## Handling Tabular Data with `pandas`"
      ],
      "metadata": {
        "id": "O6RCt6YP7sgx"
      }
    },
    {
      "cell_type": "markdown",
      "source": [
        "In many practical use cases, data comes in the form of tables – where each row and column have specific names / headers. In principle, `numpy` already provides us with a  toolbox to handle such data – a 2D `numpy` array would, in most of the cases, be suitable for storing, accessing and modifying data in a tabular format.\n",
        "\n",
        "However, this is not always the most practical solution. Rows and columns can only be accessed by their index (and not by their row/column name); and the entire table would need to have a single data type.\n",
        "\n",
        "To make handling of tabular data more practical, there is the `pandas` package – which we are going to learn about in this section."
      ],
      "metadata": {
        "id": "n3Vo3TT5_hq2"
      }
    },
    {
      "cell_type": "markdown",
      "source": [
        "Pandas can be installed from the Python Package Index (*PyPI*) using\n",
        "\n",
        "```\n",
        "pip install pandas\n",
        "```\n",
        "\n",
        "In a Colabs environment, we do not need to worry about installing `pandas`. Since the package is so widespread (and useful), it is installed by default!"
      ],
      "metadata": {
        "id": "ayAMfuAn8LK2"
      }
    },
    {
      "cell_type": "markdown",
      "source": [
        "Typically, `pandas` is imported as the shortcut `pd`."
      ],
      "metadata": {
        "id": "iss5AGBsBMlg"
      }
    },
    {
      "cell_type": "code",
      "source": [
        "import pandas as pd"
      ],
      "metadata": {
        "id": "mHLAhOC3BQ61"
      },
      "execution_count": null,
      "outputs": []
    },
    {
      "cell_type": "markdown",
      "source": [
        "### `pandas` DataFrames"
      ],
      "metadata": {
        "id": "KbwiKdASA9wk"
      }
    },
    {
      "cell_type": "markdown",
      "source": [
        "The central data type in `pandas` – which is used to represent tabular data – is called a **DataFrame**.\n",
        "\n",
        "DataFrames are effectively tables of rows and columns. Each row and each column have specific row/column names and can be accessed by those. Notably, each column can have its own data type – which is very practical for many applications!"
      ],
      "metadata": {
        "id": "5p6r3O7pBDYC"
      }
    },
    {
      "cell_type": "markdown",
      "source": [
        "DataFrames can be created in Python directly (e.g. from a dictionary). Here, each key becomes a column name, and the values are the data for that column."
      ],
      "metadata": {
        "id": "vg_KLuw6B8TM"
      }
    },
    {
      "cell_type": "code",
      "source": [
        "raw_data = {\n",
        "    \"Name\": [\"Alice\", \"Bob\", \"Charlie\"],\n",
        "    \"Age\": [25, 30, 35]\n",
        "}\n",
        "\n",
        "df = pd.DataFrame(raw_data)\n",
        "\n",
        "df"
      ],
      "metadata": {
        "id": "qLN_CusnBCqu"
      },
      "execution_count": null,
      "outputs": []
    },
    {
      "cell_type": "markdown",
      "source": [
        "```\n",
        "💡  `pandas` has an excellent integration with IPython (i.e. the Python that is used for e.g. Colabs or\n",
        "Jupyter notebooks. Therefore, DataFrames, and a number of further `pandas` data structures,\n",
        "can be nicely displayed in a notebook if we only provide the variable name.\n",
        "```"
      ],
      "metadata": {
        "id": "gjeEI3tdInvS"
      }
    },
    {
      "cell_type": "markdown",
      "source": [
        "#### Loading and saving `pandas` DataFrames"
      ],
      "metadata": {
        "id": "66FPbgaBCxuV"
      }
    },
    {
      "cell_type": "markdown",
      "source": [
        "Usually, we would not create a `pandas` DataFrame directly in the code. One of the most useful features of `pandas` is the ability to read data from external files – including both `.csv` files and Excel files – and save the data back to these formats."
      ],
      "metadata": {
        "id": "tR889mSKC2Yr"
      }
    },
    {
      "cell_type": "code",
      "source": [
        "df = pd.read_csv(\"sample_data/california_housing_train.csv\")\n",
        "\n",
        "df"
      ],
      "metadata": {
        "id": "-lzGmM-ADGvS"
      },
      "execution_count": null,
      "outputs": []
    },
    {
      "cell_type": "markdown",
      "source": [
        "*Microsoft* Excel files (`.xls` or `.xlsx`) can be read using `pd.read_excel(...)`."
      ],
      "metadata": {
        "id": "oUhXsEGRFDJK"
      }
    },
    {
      "cell_type": "markdown",
      "source": [
        "Analogously, an existing `pandas` DataFrame can be written to a `csv` or `excel` file:"
      ],
      "metadata": {
        "id": "uvR13HwDFTaz"
      }
    },
    {
      "cell_type": "code",
      "source": [
        "df.to_csv(\"test.csv\")\n",
        "df.to_excel(\"test.xlsx\", index=False)"
      ],
      "metadata": {
        "id": "DbXVmiMKFZ-m"
      },
      "execution_count": null,
      "outputs": []
    },
    {
      "cell_type": "markdown",
      "source": [
        "```\n",
        "❗  The `index` argument specifies whether the row index (usually: the row\n",
        "number) should be written to the file, too.\n",
        "```"
      ],
      "metadata": {
        "id": "cG1afngcFheB"
      }
    },
    {
      "cell_type": "markdown",
      "source": [
        "#### Inspecting `pandas` DataFrames"
      ],
      "metadata": {
        "id": "b1dMyvN5F344"
      }
    },
    {
      "cell_type": "markdown",
      "source": [
        "`pandas` DataFrames are most commonly used to load tabular data from external sources. Therefore, it is usually important to understand the structure and content of the dataset a bit better.\n",
        "\n",
        "For this, a `pandas.DataFrame` provides a number of useful attributes and methods, including:\n",
        "* The `df.info()` method, which provides the names, data types, missing values for each column.\n",
        "* The `df.describe()` method, which provdes some summary statistics of the DataFrame\n",
        "* The `df.shape` attribute, which provides the shape of the DataFrame (i.e. the number of rows and columns). This is analogous to the `shape` attribute of a `numpy` array."
      ],
      "metadata": {
        "id": "85S8bwzHGB--"
      }
    },
    {
      "cell_type": "code",
      "source": [
        "df.info()"
      ],
      "metadata": {
        "id": "5hyorYRFF6xz"
      },
      "execution_count": null,
      "outputs": []
    },
    {
      "cell_type": "code",
      "source": [
        "df.describe()"
      ],
      "metadata": {
        "id": "LaVdtqqyHAno"
      },
      "execution_count": null,
      "outputs": []
    },
    {
      "cell_type": "code",
      "source": [
        "df.shape"
      ],
      "metadata": {
        "id": "Huy8YMGmHMy-"
      },
      "execution_count": null,
      "outputs": []
    },
    {
      "cell_type": "markdown",
      "source": [
        "#### Accessing Data from `pandas` DataFrames"
      ],
      "metadata": {
        "id": "g76G-9wxF7FF"
      }
    },
    {
      "cell_type": "markdown",
      "source": [
        "`pandas` supports a number of different ways to access individual cells, or segments of cells, from a DataFrame."
      ],
      "metadata": {
        "id": "ZIuLfnktH5sv"
      }
    },
    {
      "cell_type": "markdown",
      "source": [
        "*Indexing* using the square brackets can be used to access a single (index: column name), or multiple columns (index: list of column names) from the DataFrame. This gives us a copy of the individual column, or a new DataFrame copied from the original DataFrame."
      ],
      "metadata": {
        "id": "gGkdc2FeIE1B"
      }
    },
    {
      "cell_type": "code",
      "source": [
        "latitude_column = df[\"latitude\"]\n",
        "latitude_column"
      ],
      "metadata": {
        "id": "HIw7mMF6ITOO"
      },
      "execution_count": null,
      "outputs": []
    },
    {
      "cell_type": "code",
      "source": [
        "coordinates = df[[\"longitude\", \"latitude\"]]\n",
        "coordinates"
      ],
      "metadata": {
        "id": "TuIs5FOmIfVN"
      },
      "execution_count": null,
      "outputs": []
    },
    {
      "cell_type": "markdown",
      "source": [
        "Individual cells, or custom ranges of cells can be accessed using the `loc` and `iloc` attributes, respectively, which can be indexed as follows:\n",
        "* `df.loc[row_name, col_name]` returns the content of a cell based on row and column **names**\n",
        "* `df.iloc[row_idx, col_idx]` returns the content of a cell based on row and column **index** (similar to indexing a `numpy` array).\n",
        "\n",
        "The `loc` and `iloc` attributes of a `pandas` DataFrame also support indexing by Boolean masks (as we have learned for `numpy` arrays), or indexing by slices (for `iloc`)."
      ],
      "metadata": {
        "id": "4r7ASt0hJP8T"
      }
    },
    {
      "cell_type": "code",
      "source": [
        "print(df.loc[10000, \"total_bedrooms\"], \"\\n\\n\")\n",
        "print(df.loc[10000, [\"longitude\", \"latitude\"]], \"\\n\\n\")\n",
        "print(df.iloc[:10, :])"
      ],
      "metadata": {
        "id": "M2lhDuLzKahP"
      },
      "execution_count": null,
      "outputs": []
    },
    {
      "cell_type": "markdown",
      "source": [
        "The `df.loc` and `df.iloc` attributes can also be used to set the respective values in a `pandas` DataFrame (see below)."
      ],
      "metadata": {
        "id": "Pr32ny2ALOTb"
      }
    },
    {
      "cell_type": "markdown",
      "source": [
        "### Processing Data with `pandas`"
      ],
      "metadata": {
        "id": "P9DNyw9NK7cl"
      }
    },
    {
      "cell_type": "markdown",
      "source": [
        "`pandas` provides a number of useful tools to process data in Python."
      ],
      "metadata": {
        "id": "SU3DrP4_LY8J"
      }
    },
    {
      "cell_type": "markdown",
      "source": [
        "#### Filtering DataFrames"
      ],
      "metadata": {
        "id": "cuUIb4r9Q6_Q"
      }
    },
    {
      "cell_type": "markdown",
      "source": [
        "As a simple example, we can use `pandas` to filter data – e.g. to take only the ones from the Housing dataset where the median house value is greater than 300,000 $. For this, we can create a Boolean mask."
      ],
      "metadata": {
        "id": "W5qcYzBXLn4q"
      }
    },
    {
      "cell_type": "code",
      "source": [
        "mask = df[\"median_house_value\"] > 300000\n",
        "\n",
        "mask"
      ],
      "metadata": {
        "id": "JIW2s_jKMFUB"
      },
      "execution_count": null,
      "outputs": []
    },
    {
      "cell_type": "markdown",
      "source": [
        "As in the case of `numpy` arrays, such a Boolean mask can be used for indexing – keeping only those rows in which the Boolean index is `True`."
      ],
      "metadata": {
        "id": "jIPFQk3NM6fw"
      }
    },
    {
      "cell_type": "code",
      "source": [
        "filtered_houses = df[mask]\n",
        "\n",
        "filtered_houses"
      ],
      "metadata": {
        "id": "4NY0VfgwMa9O"
      },
      "execution_count": null,
      "outputs": []
    },
    {
      "cell_type": "markdown",
      "source": [
        "We could write the same in one line:"
      ],
      "metadata": {
        "id": "gdLwE96dNxxJ"
      }
    },
    {
      "cell_type": "code",
      "source": [
        "filtered_houses = df[df[\"median_house_value\"] > 300000]\n",
        "\n",
        "filtered_houses"
      ],
      "metadata": {
        "id": "dgZIXE_VNzwS"
      },
      "execution_count": null,
      "outputs": []
    },
    {
      "cell_type": "markdown",
      "source": [
        "```\n",
        "❗  Note that, in the new DataFrame obtained from this \"filtering\", the row names from the original table\n",
        "are kept! To drop the original row numbers, and get a fresh set of row numbers, we can use\n",
        "\n",
        "`df = df.reset_index(drop = True)`\n",
        "```"
      ],
      "metadata": {
        "id": "Gtj9QofKN6e7"
      }
    },
    {
      "cell_type": "markdown",
      "source": [
        "Especially when reading data from files, having invalid entries in a column is a common phenomenon. In `pandas`, we can filter for these invalid entries using the `df.isna()` function – which checks which entries are `nan`. This function gives a Boolean mask – which we can then use to select, modify or remove values from the DataFrame."
      ],
      "metadata": {
        "id": "AY7ngs_JPEkR"
      }
    },
    {
      "cell_type": "markdown",
      "source": [
        "#### Modifying Data"
      ],
      "metadata": {
        "id": "0W9P03MuQ-OH"
      }
    },
    {
      "cell_type": "markdown",
      "source": [
        "The methods to access specific cells or groups of cells from a DataFrame can also be used to modify the data within a DataFrame."
      ],
      "metadata": {
        "id": "cGhKpo4iRErr"
      }
    },
    {
      "cell_type": "code",
      "source": [
        "df.loc[0, \"longitude\"] = 1000.0\n",
        "\n",
        "df"
      ],
      "metadata": {
        "id": "sOxvUZsVRTJW"
      },
      "execution_count": null,
      "outputs": []
    },
    {
      "cell_type": "markdown",
      "source": [
        "The same can also be done for groups of cells, or even entire columns.\n",
        "\n",
        "We can select an entire column, perform a mathematical operation on it, and then assign the newly obtained values to the column in the original dataframe. Similar to `numpy`, many mathematical operations are vectorized, meaning that they can be executed on a full row / column without the need to write a loop.\n",
        "\n",
        "For example, we can increase all \"latitudes\" by a value of 1.2:"
      ],
      "metadata": {
        "id": "GN43Yo9GRa7R"
      }
    },
    {
      "cell_type": "code",
      "source": [
        "new_latitudes = df[\"latitude\"] + 1.2\n",
        "df[\"latitude\"] = new_latitudes\n",
        "\n",
        "df"
      ],
      "metadata": {
        "id": "70ME6el4R_Qg"
      },
      "execution_count": null,
      "outputs": []
    },
    {
      "cell_type": "markdown",
      "source": [
        "```\n",
        "🎮 For all houses where the median age is greater than 50, double the value of the median age!\n",
        "```"
      ],
      "metadata": {
        "id": "u80r1u56Sf62"
      }
    },
    {
      "cell_type": "code",
      "source": [
        "# Try it!"
      ],
      "metadata": {
        "id": "xaFnPJvfSzHf"
      },
      "execution_count": null,
      "outputs": []
    },
    {
      "cell_type": "markdown",
      "source": [
        "#### Adding or Removing Rows or Columns"
      ],
      "metadata": {
        "id": "yuqs0f7TRB0n"
      }
    },
    {
      "cell_type": "markdown",
      "source": [
        "The existing methods for accessing or setting specific elements in a `pandas` DataFrame make it easy to add new columns or rows:\n",
        "* A new column is added e.g. by `df[col_name] = [val1, val2, ...]`\n",
        "* A new row is added e.g. by `df.loc[row_name, :] = [val1, val2, ...]`"
      ],
      "metadata": {
        "id": "BZnIEdONTQRt"
      }
    },
    {
      "cell_type": "markdown",
      "source": [
        "Rows or columns are removed using the `df.drop()` method:\n",
        "* `df.drop(labels, axis=0)` removes a row or multiple rows specified by `labels`.\n",
        "* `df.drop(labels, axis=1)` removes a row or multiple rows specified by `labels`.\n",
        "\n",
        "```\n",
        "❗ Note that, by default, `df.drop()` returns a copy of the dataframe without the specified column(s).\n",
        "Otherwise, the `inplace` argument can be used to indicate that the dataframe object should be modified directly.\n",
        "\n",
        "In other words, `df = df.drop(...)` and `df.drop(..., inplace=True)` behave identically.\n",
        "```"
      ],
      "metadata": {
        "id": "tmMomu8nUCdM"
      }
    },
    {
      "cell_type": "markdown",
      "source": [
        "## 🧠 Advanced Scientific Calculations: `scipy`"
      ],
      "metadata": {
        "id": "wHTf31YK8Ovm"
      }
    },
    {
      "cell_type": "markdown",
      "source": [
        "Chapter coming soon!"
      ],
      "metadata": {
        "id": "wcy5MpM-8YAK"
      }
    },
    {
      "cell_type": "markdown",
      "source": [
        "## Plotting with `matplotlib`"
      ],
      "metadata": {
        "id": "D9ZNC1VY8ct1"
      }
    },
    {
      "cell_type": "markdown",
      "source": [
        "So far, we have mainly seen how to read and process data using Python. Ideally, we also want to make data visually accessible – by e.g. plotting graphs, surfaces, diagrams, and many more. In Python, this can be done using the `matplotlib` package.  "
      ],
      "metadata": {
        "id": "_Wttz8-G8kw3"
      }
    },
    {
      "cell_type": "markdown",
      "source": [
        "`matplotlib` can be installed from the Python Package Index (*PyPI*) using\n",
        "\n",
        "```\n",
        "pip install matplotlib\n",
        "```\n",
        "\n",
        "In a Colabs environment, again, we do not need to worry about installing `matplotlib` – it is installed by default!"
      ],
      "metadata": {
        "id": "otYMfTHmazs3"
      }
    },
    {
      "cell_type": "markdown",
      "source": [
        "`matplotlib` is a very large and powerful Python library. In this tutorial, we will only cover some of the fundamentals of how to visualize data using `matplotlib`. The official package documentation provides many more insights on what can be done using `matplotlib` – and, in fact, Large Language Models like *ChatGPT* can be useful assistants when customizing the behavior of `matplotlib` figures."
      ],
      "metadata": {
        "id": "SAlaoBVzbR0_"
      }
    },
    {
      "cell_type": "markdown",
      "source": [
        "Usually, we only import the `pyplot` submodule using the shortcut `plt`."
      ],
      "metadata": {
        "id": "5YJefskmbrxI"
      }
    },
    {
      "cell_type": "code",
      "source": [
        "import matplotlib.pyplot as plt"
      ],
      "metadata": {
        "id": "HnpjW2XybxzC"
      },
      "execution_count": null,
      "outputs": []
    },
    {
      "cell_type": "markdown",
      "source": [
        "The most straightforward way of plotting data in `matplotlib` is the scatter plot. We provide a number of `(x, y)` pairs, which are then plotted into a single diagram.\n"
      ],
      "metadata": {
        "id": "GGqullTUa7PB"
      }
    },
    {
      "cell_type": "code",
      "source": [
        "x = [1, 2, 3, 4, 5]\n",
        "y = [0.5, 2, 4.5, 8, 12.5]\n",
        "\n",
        "plt.scatter(x, y)\n",
        "plt.show()  # visualizes the plot"
      ],
      "metadata": {
        "id": "z806ozhw8fh1"
      },
      "execution_count": null,
      "outputs": []
    },
    {
      "cell_type": "markdown",
      "source": [
        "```\n",
        "💡 Note that `matplotlib` has a very advanced IPython integration. In notebooks (e.g. in Google Colab),\n",
        "the plots are visualized directly, and a call to the `plt.show()` method is not strictly necessary.\n",
        "```"
      ],
      "metadata": {
        "id": "ms1wUv48c7SZ"
      }
    },
    {
      "cell_type": "markdown",
      "source": [
        "We can also customize the plots, e.g. by adding axis labels, or a plot title:"
      ],
      "metadata": {
        "id": "qPV0qJJfdAEo"
      }
    },
    {
      "cell_type": "code",
      "source": [
        "x = [1, 2, 3, 4, 5]\n",
        "y = [0.5, 2, 4.5, 8, 12.5]\n",
        "\n",
        "plt.scatter(x, y)\n",
        "plt.xlabel(\"The X Axis\")\n",
        "plt.ylabel(\"The Y Axis\")\n",
        "plt.title(\"The Title\")\n",
        "plt.show()"
      ],
      "metadata": {
        "id": "dZ2sJaNWcQTl"
      },
      "execution_count": null,
      "outputs": []
    },
    {
      "cell_type": "markdown",
      "source": [
        "Alternatively, `matplotlib` allows us to do **line plots** using `plt.plot()`"
      ],
      "metadata": {
        "id": "O4dmLl2ydXKe"
      }
    },
    {
      "cell_type": "code",
      "source": [
        "x = [1, 2, 3, 4, 5]\n",
        "y = [0.5, 2, 4.5, 8, 12.5]\n",
        "\n",
        "plt.plot(x, y)\n",
        "plt.xlabel(\"The X Axis\")\n",
        "plt.ylabel(\"The Y Axis\")\n",
        "plt.title(\"The Title\")\n",
        "plt.show()"
      ],
      "metadata": {
        "id": "vU3JET-4dNls"
      },
      "execution_count": null,
      "outputs": []
    },
    {
      "cell_type": "markdown",
      "source": [
        "We can also draw multiple plots in the same figure, and create a legend."
      ],
      "metadata": {
        "id": "TKBWYX_XfObm"
      }
    },
    {
      "cell_type": "code",
      "source": [
        "x = [1, 2, 3, 4, 5]\n",
        "points = [0.5, 2, 4.5, 8, 12.5]\n",
        "line = [1, 4, 7, 10, 13]\n",
        "\n",
        "plt.scatter(x, points, label=\"Points\")\n",
        "plt.plot(x, line, label=\"Line\")\n",
        "plt.xlabel(\"The X Axis\")\n",
        "plt.ylabel(\"The Y Axis\")\n",
        "plt.title(\"The Title\")\n",
        "plt.legend()\n",
        "plt.show()"
      ],
      "metadata": {
        "id": "AYyKH0SlfUso"
      },
      "execution_count": null,
      "outputs": []
    },
    {
      "cell_type": "markdown",
      "source": [
        "We can save such a plot to a file using the `plt.savefig()` method. Matplotlib automatically infers the file format from the file extension, and converts the file accordingly!"
      ],
      "metadata": {
        "id": "MVAZ1GPufUa-"
      }
    },
    {
      "cell_type": "code",
      "source": [
        "x = [1, 2, 3, 4, 5]\n",
        "y = [0.5, 2, 4.5, 8, 12.5]\n",
        "\n",
        "plt.plot(x, y)\n",
        "plt.xlabel(\"The X Axis\")\n",
        "plt.ylabel(\"The Y Axis\")\n",
        "plt.title(\"The Title\")\n",
        "plt.savefig(\"test.png\")"
      ],
      "metadata": {
        "id": "Ur-ezf9TfLHj"
      },
      "execution_count": null,
      "outputs": []
    },
    {
      "cell_type": "markdown",
      "source": [
        "Plotting directly with `plt.plot()`, `plt.scatter()` etc. is useful when creating a quick, single plot in a single code cell. However, this approach has severe limitations, e.g. if we want to modify the same plot at different places of the code, if we want to include multiple plots in a single figure, etc."
      ],
      "metadata": {
        "id": "SVMIq-nif9CI"
      }
    },
    {
      "cell_type": "markdown",
      "source": [
        "---"
      ],
      "metadata": {
        "id": "gzfPtIb4W1Fk"
      }
    },
    {
      "cell_type": "markdown",
      "source": [
        "Therefore, `matplotlib` provides us with an object-oriented way of handling figures. The `plt.subplots()` function generates a new `Figure` object (which represents the entire figure), as well as an `Axes` object, which represents the plot within that figure. While the distinction between `Figure` and ` Axes` does not seem logical right now, it will become important once we are looking at multiple sub-plots in a single figure.\n",
        "\n",
        "We can then use the `Axes` object to do the same plotting operations as before:"
      ],
      "metadata": {
        "id": "7xr7CNrrWzNo"
      }
    },
    {
      "cell_type": "code",
      "source": [
        "x = [1, 2, 3, 4, 5]\n",
        "y = [0.5, 2, 4.5, 8, 12.5]\n",
        "\n",
        "fig, ax = plt.subplots()\n",
        "\n",
        "ax.plot(x, y)\n",
        "ax.set_xlabel(\"The X Axis\")\n",
        "ax.set_ylabel(\"The Y Axis\")\n",
        "ax.set_title(\"The Title\")\n",
        "\n",
        "fig.savefig(\"test.png\")"
      ],
      "metadata": {
        "id": "9boPWQCSg1sI"
      },
      "execution_count": null,
      "outputs": []
    },
    {
      "cell_type": "markdown",
      "source": [
        "```\n",
        "❗  Note that the methods to set titles and axis labels have slightly different names now!\n",
        "```"
      ],
      "metadata": {
        "id": "0C1L88qdXARQ"
      }
    },
    {
      "cell_type": "markdown",
      "source": [
        "As indicated above, `plt.subplots()` allows us to create multi-panel figures. The syntax for this is `plt.subplots(n_rows, n_columns)`. This function returns a `Figure` object, as well as a `numpy` array of `Axes` objects of the shape `(n_rows, n_columns)`.\n",
        "\n",
        "For example, if we want to create a plot with two panels next to each other, we could do this the following way:"
      ],
      "metadata": {
        "id": "IsQGnB6ehJMz"
      }
    },
    {
      "cell_type": "code",
      "source": [
        "x = [1, 2, 3, 4, 5]\n",
        "y1 = [0.5, 2, 4.5, 8, 12.5]\n",
        "y2 = [2, 4, 6, 8, 10]\n",
        "\n",
        "fig, axs = plt.subplots(1, 2)  # one row, two columns\n",
        "\n",
        "axs[0].plot(x, y1)\n",
        "axs[0].set_xlabel(\"The X Axis\")\n",
        "axs[0].set_ylabel(\"The Y Axis\")\n",
        "axs[0].set_title(\"Plot Number 1\")\n",
        "\n",
        "axs[1].plot(x, y2)\n",
        "axs[1].set_xlabel(\"The X Axis\")\n",
        "axs[1].set_ylabel(\"The Y Axis\")\n",
        "axs[1].set_title(\"Plot Number 2\")\n",
        "\n",
        "fig.tight_layout()  # This cleans up the figure and avoids e.g. overlap. of panels!\n",
        "fig.show()"
      ],
      "metadata": {
        "id": "d2BgVosHhEpU"
      },
      "execution_count": null,
      "outputs": []
    },
    {
      "cell_type": "markdown",
      "source": [
        "`matplotlib` provides an enormous number of options to customize the appearance of a single plot. As such, functions like `plt.plot()` or `plt.scatter()` take additional keyword arguments, e.g. :\n",
        "* `c: str` or `color: str` The color of the plot (either one of the internally defined colors, or any color as a hex-encoded string).\n",
        "* `lw: float` or `linewidth: float` The line width.\n",
        "* `alpha: float` The transparency of the plot (0: fully transparent; 1: not transparent)\n",
        "* `marker: str` The marker used for representing points. In addition, marker properties can be set by `markeredgecolor`, `markeredgewidth`, `markerfacecolor`."
      ],
      "metadata": {
        "id": "wjTzwrhZiYn6"
      }
    },
    {
      "cell_type": "markdown",
      "source": [
        "At the same time, the appearance of a plot (i.e. an `Axes` instance) can be customized with a number of methods:\n",
        "* `set_title(title: str)`\n",
        "* `set_xlabel(xlabel: str)`\n",
        "* `set_ylabel(ylabel: str)`\n",
        "* `set_xlim(min = None, max = None)`\n",
        "* `set_ylim(min = None, max = None)`\n",
        "* `set_xticks(...)` / `set_yticks(...)` set the positions at which the axis ticks are drawn.\n",
        "* `set_xticklabels(...)` / `set_yticklabels(...)` set the values which are depcited at the axis ticks.\n",
        "* ...  "
      ],
      "metadata": {
        "id": "TGbrVq-UkGOs"
      }
    },
    {
      "cell_type": "markdown",
      "source": [
        "The number of individual configurations in `matplotlib` is enormous – and the package documentation provides many resources on how to configure plots in `matplotlib`. As indicated above, LLMs can also be a great resource for that!"
      ],
      "metadata": {
        "id": "CLlLwHUnkv9k"
      }
    },
    {
      "cell_type": "markdown",
      "source": [
        "It should be noted that `matplotlib` is not limited to simple line or scatter plots – but can be used for a vast number of different plot types, including...\n",
        "* 1D and 2D histograms\n",
        "* bar charts\n",
        "* box plots and violin plots\n",
        "* pie charts\n",
        "* grid visualizations and countour plots\n",
        "* 3D plots and surfaces\n",
        "* ...\n",
        "\n",
        "The [package documentation](https://matplotlib.org/stable/plot_types/index.html) and the [example gallery](https://matplotlib.org/stable/gallery/index.html) provide a large catalogue of further options – along with examples on how to create them with `matplotlib`. Play around with it to get some hands-on experience!"
      ],
      "metadata": {
        "id": "W8EiopI7k9Ja"
      }
    }
  ]
}