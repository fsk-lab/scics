{
  "nbformat": 4,
  "nbformat_minor": 0,
  "metadata": {
    "colab": {
      "provenance": [],
      "collapsed_sections": [
        "8Pd2PAuFKsId",
        "b4yrdYWsS5cW",
        "Hc3jzeq_UQ-F",
        "ELaScnBHK69t",
        "Z8f_L9BVLN5W",
        "LNrHNYcYLQ7q"
      ],
      "authorship_tag": "ABX9TyPFz8nyMrWwbiy80+YGIaOE",
      "include_colab_link": true
    },
    "kernelspec": {
      "name": "python3",
      "display_name": "Python 3"
    },
    "language_info": {
      "name": "python"
    }
  },
  "cells": [
    {
      "cell_type": "markdown",
      "metadata": {
        "id": "view-in-github",
        "colab_type": "text"
      },
      "source": [
        "<a href=\"https://colab.research.google.com/github/fsk-lab/scics/blob/main/08_Object_Orientation.ipynb\" target=\"_parent\"><img src=\"https://colab.research.google.com/assets/colab-badge.svg\" alt=\"Open In Colab\"/></a>"
      ]
    },
    {
      "cell_type": "markdown",
      "source": [
        "# Classes and Object Orientation"
      ],
      "metadata": {
        "id": "YuZ-Z5a6Kkdy"
      }
    },
    {
      "cell_type": "markdown",
      "source": [
        "In our previous tutorials, we have learned about a number of different data types: e.g. `float`, `bool`, `str`, `list`, and others. These data types are built-in to Python, and already allow us to do a large number of operations.\n",
        "\n",
        "However, in some situations, these data types are not perfectly suited for the problems that we want to solve. In other situations, we *could* solve all our problems with these data types, but it would become unnecessarily complicated. For these reasons, we may want to define our own data types that behave exactly the way we want them to behave. Python allows us to do so by defining custom **classes**. Therefore, this tutorial will cover the fundamentals of how to work with classes.\n",
        "\n",
        "In fact, writing custom data types for everything is a *coding philosophy*. This is referred to as **object-oriented programming**, and we will discuss its main ideas towards the end of this chapter. But before doing that, we have to briefly discuss the use of words like \"type\", \"class\" or \"object\", and take a closer look at what they actually mean."
      ],
      "metadata": {
        "id": "gGAs-aJpcdIJ"
      }
    },
    {
      "cell_type": "markdown",
      "source": [
        "## Terminology: Types, Classes and Objects"
      ],
      "metadata": {
        "id": "8Pd2PAuFKsId"
      }
    },
    {
      "cell_type": "markdown",
      "source": [
        "Before covering the details of object-oriented programming, and the syntax of specifying classes, we have to take a brief look at some of the words that we have already implicitly used in the previous tutorials – like \"(data) type\", \"object\", and others.  "
      ],
      "metadata": {
        "id": "6E3kprjzSgsa"
      }
    },
    {
      "cell_type": "markdown",
      "source": [
        "### Objects and Types"
      ],
      "metadata": {
        "id": "b4yrdYWsS5cW"
      }
    },
    {
      "cell_type": "markdown",
      "source": [
        "In Python, **everything is an object**. Integers, strings, lists, and even functions are objects. Each object has a **type** that tells Python what kind of object it is and what operations are allowed on it."
      ],
      "metadata": {
        "id": "zMNtWVRoQnZy"
      }
    },
    {
      "cell_type": "code",
      "execution_count": null,
      "metadata": {
        "id": "phslo3uJKUVc"
      },
      "outputs": [],
      "source": [
        "a = 3\n",
        "b = 4.0\n",
        "\n",
        "print(type(a))\n",
        "print(type(b))\n",
        "\n",
        "c = a * b\n",
        "\n",
        "print(type(c))"
      ]
    },
    {
      "cell_type": "markdown",
      "source": [
        "In the example above, `a` is an object of the type *int*, `b` is an object of the type `float`. From the multiplication operation, Python automatically infers that `c` is another object of the type `float`."
      ],
      "metadata": {
        "id": "UKu0_9mSTQ5o"
      }
    },
    {
      "cell_type": "markdown",
      "source": [
        "Similar to these data types, we have learned about a number of further data types, e.g. `bool`, `None`, `list`, `tuple`, `dict`, `set`, ... . All these data types come with specific actions that we can perform on them, and specific ways how to use them."
      ],
      "metadata": {
        "id": "pt98-7reTwk-"
      }
    },
    {
      "cell_type": "markdown",
      "source": [
        "### Custom Data Types"
      ],
      "metadata": {
        "id": "Hc3jzeq_UQ-F"
      }
    },
    {
      "cell_type": "markdown",
      "source": [
        "In many cases, the existing data types may not cover all of the functionalities that we need for a specific purpose. Instead, we may want to define custom data types with custom functionalities that better match our program's needs.\n",
        "\n",
        "This is the idea behind `classes`: A **class** is a definition that describes what data (attributes) and actions (methods) related objects will have. It acts like a blueprint for creating individual objects. In other words, classes allow users to define custom data types.\n",
        "\n",
        "```\n",
        "💡 Formally, all built-in data types (e.g. list, dict, ...) are classes themselves!\n",
        "```"
      ],
      "metadata": {
        "id": "3sgxSdGzUUfa"
      }
    },
    {
      "cell_type": "markdown",
      "source": [
        "An **attribute** is a variable bound to an object or class. It holds information about the state of that object or class. A **method** is a function defined inside a class. It describes an action that objects of that class can perform.\n",
        "\n",
        "```\n",
        "💡  For the `list` class, its length is an example of an attribute.\n",
        "The `append` function is an example of a method that belongs to the class.\n",
        "```"
      ],
      "metadata": {
        "id": "aP-qHkT26Ri0"
      }
    },
    {
      "cell_type": "markdown",
      "source": [
        "An **instance** is a specific object created using a class. If we consider the class as the blueprint, then an instance is the actual object built from that blueprint.\n"
      ],
      "metadata": {
        "id": "GXzRIArV6rMH"
      }
    },
    {
      "cell_type": "markdown",
      "source": [
        "Let us discuss this at an actual example:\n",
        "\n",
        "```\n",
        "a = [1, 2, 3]\n",
        "```\n",
        "* `a` is an *object* of the type `list`.\n",
        "* `a` is an *instance* of the `list` class."
      ],
      "metadata": {
        "id": "2enPXgAL6_E3"
      }
    },
    {
      "cell_type": "markdown",
      "source": [
        "## Defining Classes in Python"
      ],
      "metadata": {
        "id": "ELaScnBHK69t"
      }
    },
    {
      "cell_type": "markdown",
      "source": [
        "Python is a programming language which explicitly supports object-oriented programming, and allows for the definition of custom data types through classes."
      ],
      "metadata": {
        "id": "wP7gOTBa7PsE"
      }
    },
    {
      "cell_type": "markdown",
      "source": [
        "On a syntax level, this is done with the `class` statement, followed by the name of the class and a colon.\n",
        "\n",
        "```\n",
        "❗ Commonly, classes are named with capitalized words and \"camel-case\" wording.\n",
        "  - Animal  (not `animal`)\n",
        "  - BigAnimal  (not `Big_Animal`)\n",
        "\n",
        "Note that this is not mandatory, but best-practice for defining Python code.\n",
        "```"
      ],
      "metadata": {
        "id": "IPDaY3GW7YlV"
      }
    },
    {
      "cell_type": "markdown",
      "source": [
        "After the colon, all class-specific code is written with indentation. Here, we can define...\n",
        "* **class attributes**, i.e. variables that are bound to this class and all of its instances.\n",
        "* **methods**, i.e. functions that are bound to all instances of this class."
      ],
      "metadata": {
        "id": "8hEaOICSTZge"
      }
    },
    {
      "cell_type": "markdown",
      "source": [
        "Let us discuss this at very simple example first:"
      ],
      "metadata": {
        "id": "LS_9H2V8UIU0"
      }
    },
    {
      "cell_type": "code",
      "source": [
        "class Animal:\n",
        "\n",
        "    # a class attribute\n",
        "    alive = True"
      ],
      "metadata": {
        "id": "huR1fsX6fjuo"
      },
      "execution_count": null,
      "outputs": []
    },
    {
      "cell_type": "markdown",
      "source": [
        "We can now create an instance of the class `Animal`:"
      ],
      "metadata": {
        "id": "SHk9TtRDfnfg"
      }
    },
    {
      "cell_type": "code",
      "source": [
        "jack = Animal()\n",
        "\n",
        "print(type(jack))"
      ],
      "metadata": {
        "id": "8Uks5Wg8ft6P"
      },
      "execution_count": null,
      "outputs": []
    },
    {
      "cell_type": "markdown",
      "source": [
        "Similarly, we can access the class attribute `alive` using the dot syntax that we have learned about in the chapter on modules and imports:"
      ],
      "metadata": {
        "id": "4VDsBz1ffyM9"
      }
    },
    {
      "cell_type": "code",
      "source": [
        "print(jack.alive)"
      ],
      "metadata": {
        "id": "XRAEdyCggCOS"
      },
      "execution_count": null,
      "outputs": []
    },
    {
      "cell_type": "markdown",
      "source": [
        "Arguably, this definition of a class is not very useful yet – in fact, it becomes much more practical once we start defining methods, and further instance-specific attributes. For this, we consider a more complex definition of the `Animal` class."
      ],
      "metadata": {
        "id": "9tXSXBengOxC"
      }
    },
    {
      "cell_type": "code",
      "source": [
        "class Animal:\n",
        "\n",
        "    # a class attribute\n",
        "    alive = True\n",
        "\n",
        "    # a method (__init__ is a special method that is discussed below)\n",
        "    def __init__(self, species: str, noise: str):\n",
        "        self.species = species\n",
        "        self.noise = noise\n",
        "\n",
        "    # another method\n",
        "    def make_noise(self):\n",
        "        print(self.noise)\n",
        "\n",
        "\n",
        "dog = Animal(\"dog\", \"woof\")"
      ],
      "metadata": {
        "id": "mZJB-qMcK98u"
      },
      "execution_count": null,
      "outputs": []
    },
    {
      "cell_type": "markdown",
      "source": [
        "Let us discuss this example in some further detail. The code defines the class `Animal` – in other words, we make `Animal` a new data type that can be used in our code. From now on, we can create new objects of the type `Animal`.\n",
        "\n",
        "The `__init__(self, ...)` is a special function which is automatically called when creating a new *instance* of a class. In the last line, we create a new object named `dog`, and this line automatically calls the `__init__` method of the `Animal` class.\n",
        "\n",
        "The `__init__` function, as well as most other methods within a class, need a first argument which refers to the specific object (i.e. the instance of the class) that is currently in use. This variable is usually referred to as `self`. `self` refers to the current instance of a class, and we can use it to set or change specific attributes of that very instance. In the last line of the example above, the `dog` object is instantiated, and the `__init__` method sets the `species` and `noise` attributes only for the `dog` object.\n",
        "\n",
        "Similarly, the `make_noise` method can access these attributes of the `dog` object.\n",
        "\n",
        "```\n",
        "❗  When calling a method from a class or its instances, the `self` argument is automatically passed.\n",
        "We do not need to pass it explicitly.\n",
        "```"
      ],
      "metadata": {
        "id": "ml_5xQN4UNQZ"
      }
    },
    {
      "cell_type": "code",
      "source": [
        "dog.make_noise()"
      ],
      "metadata": {
        "id": "C2lq1mwgZdwW"
      },
      "execution_count": null,
      "outputs": []
    },
    {
      "cell_type": "markdown",
      "source": [
        "Importantly, a class serves as a *blueprint* for different objects of the same data type. We can, for example, instantiate further objects of the `Animal` data type."
      ],
      "metadata": {
        "id": "8sakeCz0ZOAL"
      }
    },
    {
      "cell_type": "code",
      "source": [
        "cat = Animal(\"cat\", \"meow\")\n",
        "bird = Animal(\"bird\", \"beep\")\n",
        "cow = Animal(\"cow\", \"moo\")"
      ],
      "metadata": {
        "id": "B4iqmAIPPhvd"
      },
      "execution_count": null,
      "outputs": []
    },
    {
      "cell_type": "markdown",
      "source": [
        "```\n",
        "🎮 Predict the outcome(s) of the following code cell!\n",
        "```"
      ],
      "metadata": {
        "id": "vuoX2ys4Px-7"
      }
    },
    {
      "cell_type": "code",
      "source": [
        "cat.make_noise()\n",
        "print(bird.species)\n",
        "print(cow.alive)"
      ],
      "metadata": {
        "id": "jttV61E3PxtO"
      },
      "execution_count": null,
      "outputs": []
    },
    {
      "cell_type": "markdown",
      "source": [
        "We can also modify attributes of an object:"
      ],
      "metadata": {
        "id": "jNfwj3t2bAw-"
      }
    },
    {
      "cell_type": "code",
      "source": [
        "dog.noise = \"wooooooof\"\n",
        "\n",
        "dog.make_noise()"
      ],
      "metadata": {
        "id": "-9VmIxAkhPpp"
      },
      "execution_count": null,
      "outputs": []
    },
    {
      "cell_type": "markdown",
      "source": [
        "```\n",
        "🎮  Create a custom class named `Molecule`. The class should be instantiated by passing a list\n",
        "of all atoms within the molecule. The method `get_formula` should return a string that contains\n",
        "the molecular formula.\n",
        "```"
      ],
      "metadata": {
        "id": "7MAipTPwhtkA"
      }
    },
    {
      "cell_type": "code",
      "source": [
        "# Write the `Molecule` class and test it!"
      ],
      "metadata": {
        "id": "To2FQ0iWivLc"
      },
      "execution_count": null,
      "outputs": []
    },
    {
      "cell_type": "markdown",
      "source": [
        "### 🧠 Class vs. Instance Attributes and Methods"
      ],
      "metadata": {
        "id": "21Oad7VOUw4X"
      }
    },
    {
      "cell_type": "markdown",
      "source": [
        "The `Animal` class above has already implicitly introduced and important distinction when it comes to attributes within a class.\n",
        "- **Class attributes** are defined inside the class body but outside any method. They are shared by all instances of the class (e.g. the `alive` attribute from above), and can even be accessed without creating a special instance.\n",
        "- **Instance attributes** are typically defined inside the `__init__` method (or other instance methods), and each instance has its own separate copy (e.g. the `species` and `noise` attributes)."
      ],
      "metadata": {
        "id": "i0fIKDKjU7Qd"
      }
    },
    {
      "cell_type": "code",
      "source": [
        "print(Animal.alive)  # accessing a class attribute without referring to a specific instance"
      ],
      "metadata": {
        "id": "0imPAse3kx_d"
      },
      "execution_count": null,
      "outputs": []
    },
    {
      "cell_type": "code",
      "source": [
        "print(Animal.species)  # accessing an instance attribute without referring to a specific instance"
      ],
      "metadata": {
        "id": "975GDEj3k9G9"
      },
      "execution_count": null,
      "outputs": []
    },
    {
      "cell_type": "markdown",
      "source": [
        "Similarly, we can define class methods and instance methods:\n",
        "* **Instance methods** (the most common type of methods) are bound to a specific instance of a class. They automatically receive the reference to the current object (i.e. the `self`) as the first argument, and can access both class and instance attributes and methods.\n",
        "* **Class methods** are not bound to a specific instance of a class, but can be accessed without referring to a specific instance. They automatically receive a reference to the class (usally named `cls`) as the first argument. A classmethod is specified with the `@classmethod` decorator. [*We will learn more about decorators at a later stage of this tutorial series.*]"
      ],
      "metadata": {
        "id": "nKQBiab9lA6J"
      }
    },
    {
      "cell_type": "code",
      "source": [
        "class Cation:\n",
        "\n",
        "    charge = +1\n",
        "\n",
        "    def __init__(self, atoms: list):\n",
        "        self.atoms = atoms\n",
        "\n",
        "    def formula(self) -> str:\n",
        "        \"\"\"\n",
        "        Returns the formula of the cation as a string.\n",
        "        \"\"\"\n",
        "\n",
        "        formula = \"\"\n",
        "        unique_atoms = set(self.atoms)\n",
        "\n",
        "        for a in unique_atoms:\n",
        "            atom_count = self.atoms.count(a)\n",
        "            formula += f\"{a}{atom_count}\"\n",
        "\n",
        "        formula += \"+\"\n",
        "        return formula\n",
        "\n",
        "    @classmethod\n",
        "    def describe(cls) -> str:\n",
        "        \"\"\"\n",
        "        Describes the type of structure represented by this class.\n",
        "        \"\"\"\n",
        "        description = f\"This is a class that represents ionic species with the charge {cls.charge}\"\n",
        "        return description"
      ],
      "metadata": {
        "id": "y9NnbH8rmJcP"
      },
      "execution_count": null,
      "outputs": []
    },
    {
      "cell_type": "code",
      "source": [
        "methyl_cation = Cation([\"C\", \"H\", \"H\", \"H\"])\n",
        "print(methyl_cation.formula())"
      ],
      "metadata": {
        "id": "O8HgGvI4n6h0"
      },
      "execution_count": null,
      "outputs": []
    },
    {
      "cell_type": "code",
      "source": [
        "print(Cation.describe())"
      ],
      "metadata": {
        "id": "ygckZC5voIv2"
      },
      "execution_count": null,
      "outputs": []
    },
    {
      "cell_type": "markdown",
      "source": [
        "In principle, a function within a class does not necessarily need access\n",
        "to the class or a specific instance (e.g. if it does not refer to any of the istance's attributes or methods). Such a function would be referred to as a **static** method. From a code functionality perspective, there is no need to define such a function within a class – we can simply define a \"normal\" function in this case. However, static functions can be useful at times to organize your code better.\n",
        "\n",
        "Similar to class methods, static methods are created using a `staticmethod` decorator."
      ],
      "metadata": {
        "id": "djgBLtHSnnQ-"
      }
    },
    {
      "cell_type": "code",
      "source": [
        "class Cation:\n",
        "\n",
        "    charge = +1\n",
        "\n",
        "    def __init__(self, atoms: list):\n",
        "        self.atoms = atoms\n",
        "\n",
        "    def formula(self) -> str:\n",
        "        \"\"\"\n",
        "        Returns the formula of the cation as a string.\n",
        "        \"\"\"\n",
        "\n",
        "        formula = \"\"\n",
        "        unique_atoms = set(self.atoms)\n",
        "\n",
        "        for a in unique_atoms:\n",
        "            atom_count = self.atoms.count(a)\n",
        "            formula += f\"{a}\"\n",
        "\n",
        "        formula += \"+\"\n",
        "        return formula\n",
        "\n",
        "    @staticmethod\n",
        "    def calculate_weight(counts: list[int], masses: list[float]) -> float:\n",
        "        \"\"\"\n",
        "        Calculates a molecular weight from a list of element counts, and a list\n",
        "        of masses for each element.\n",
        "        \"\"\"\n",
        "        weight = 0.0\n",
        "\n",
        "        for count, mass in zip(counts, masses):\n",
        "            weight += count * mass\n",
        "\n",
        "        return weight"
      ],
      "metadata": {
        "id": "B5ssBNeYoPV2"
      },
      "execution_count": null,
      "outputs": []
    },
    {
      "cell_type": "code",
      "source": [
        "Cation.calculate_weight(\n",
        "    counts=[1, 3],\n",
        "    masses=[12.01, 1.01]\n",
        ")"
      ],
      "metadata": {
        "id": "G8Egflgpo3wE"
      },
      "execution_count": null,
      "outputs": []
    },
    {
      "cell_type": "markdown",
      "source": [
        "### 🧠 \"Public\" and \"Private\" Attributes and Functions"
      ],
      "metadata": {
        "id": "jaRajaq0pS5K"
      }
    },
    {
      "cell_type": "markdown",
      "source": [
        "In object-oriented programming, there can be certain attributes of an object that we want to use when working with this object. Others, however, should merely be used internally within this class, and should not be \"exposed\" to the outside. The former type of attributes is referred to as **public** attributes, the latter are named **private** attributes."
      ],
      "metadata": {
        "id": "RzFoh8gLpXUv"
      }
    },
    {
      "cell_type": "markdown",
      "source": [
        "In Python, strict private attributes and methods do not exist in the same way as in some other languages. However, there is a naming convention that can be used to indicate that certain attributes or methods are intended for internal use only:\n",
        "\n",
        "Attributes and methods starting with a single underscore (_attribute) are considered “protected” or internal-use only. This is merely a convention.\n",
        "Attributes and methods starting with two underscores (__attribute) trigger name mangling to help prevent accidental access or overriding in subclasses. They are sometimes referred to as “private,” but can still be accessed (in a more cumbersome way) if truly needed."
      ],
      "metadata": {
        "id": "8Z8Bikrzp5qu"
      }
    },
    {
      "cell_type": "code",
      "source": [
        "class Container:\n",
        "    def __init__(self, content):\n",
        "        self.content = content          # Public attribute\n",
        "        self._internal_state = \"stable\" # Convention: internal use only\n",
        "\n",
        "    # Public method\n",
        "    def show_content(self):\n",
        "        print(f\"Content: {self.content}\")\n",
        "\n",
        "    # Private method\n",
        "    def _update_internal_state(self, new_state):\n",
        "        \"\"\"Intended for internal usage only.\"\"\"\n",
        "        self._internal_state = new_state\n",
        "\n",
        "\n",
        "# Usage\n",
        "c = Container(\"Some chemicals\")\n",
        "\n",
        "# Access the \"public\" attribute\n",
        "print(c.content)\n",
        "\n",
        "# We can directly access the \"private\" attribute, but it's not recommended:\n",
        "print(\"Internal state:\", c._internal_state)"
      ],
      "metadata": {
        "id": "KRtTsvV5p8Yf"
      },
      "execution_count": null,
      "outputs": []
    },
    {
      "cell_type": "markdown",
      "source": [
        "```\n",
        "🧠 Attributes and methods starting with two underscores (__attribute) trigger name mangling\n",
        "to help prevent accidental access or overriding in subclasses. They are sometimes referred\n",
        "to as “private,” but can still be accessed (in a more cumbersome way) if truly needed.\n",
        "```"
      ],
      "metadata": {
        "id": "UW1sI4VKqWNZ"
      }
    },
    {
      "cell_type": "markdown",
      "source": [
        "### 🧠 Properties"
      ],
      "metadata": {
        "id": "kMDyLUXDqsh7"
      }
    },
    {
      "cell_type": "markdown",
      "source": [
        "Properties in Python are used to control how an attribute is accessed or modified, without changing the way the attribute is used by external code. In other words, you can create a property to intercept `obj.attribute` reads or writes, adding logic or validation behind the scenes."
      ],
      "metadata": {
        "id": "kRx5VmaPqu4U"
      }
    },
    {
      "cell_type": "markdown",
      "source": [
        "To create a property, you can use the `@property` decorator, along with optional `@<property_name>.setter` and `@<property_name>.deleter` decorators if needed."
      ],
      "metadata": {
        "id": "wVvd-aBCq2tg"
      }
    },
    {
      "cell_type": "code",
      "source": [
        "class ReactionTemperature:\n",
        "    def __init__(self, temperature):\n",
        "        self._temperature = temperature  # Internal storage\n",
        "\n",
        "    @property\n",
        "    def temperature(self):\n",
        "        \"\"\"\n",
        "        Getter for temperature.\n",
        "        \"\"\"\n",
        "        return self._temperature\n",
        "\n",
        "    @temperature.setter\n",
        "    def temperature(self, new_value):\n",
        "        \"\"\"\n",
        "        Setter for temperature with simple validation.\n",
        "        \"\"\"\n",
        "        if new_value < 0:\n",
        "            raise ValueError(\"Temperature cannot be negative in this context.\")\n",
        "        self._temperature = new_value\n",
        "\n",
        "# Usage\n",
        "rxn_temp = ReactionTemperature(25)\n",
        "print(\"Current temperature:\", rxn_temp.temperature)\n",
        "\n",
        "# Setting the temperature through the property\n",
        "rxn_temp.temperature = 50\n",
        "print(\"New temperature:\", rxn_temp.temperature)\n"
      ],
      "metadata": {
        "id": "5dcBvE1rqr_k"
      },
      "execution_count": null,
      "outputs": []
    },
    {
      "cell_type": "code",
      "source": [
        "# This will trigger our validation logic\n",
        "rxn_temp.temperature = -10"
      ],
      "metadata": {
        "id": "N7tvozcprHBS"
      },
      "execution_count": null,
      "outputs": []
    },
    {
      "cell_type": "markdown",
      "source": [
        "## Inheritance"
      ],
      "metadata": {
        "id": "Z8f_L9BVLN5W"
      }
    },
    {
      "cell_type": "markdown",
      "source": [
        "An important feature of using classes, and class-based programming, is the ability to define class hierarchies. By this, we can allow one class (usually named the *child class* or *subclass*) to inherit attributes and methods from another class (the *parent class* or *base class*). This is extremely helpful for reusing code, and to build increasingly specialized classes."
      ],
      "metadata": {
        "id": "33TW2zv-rSMy"
      }
    },
    {
      "cell_type": "markdown",
      "source": [
        "The syntax for inheriting from a parent class is `class ChildClass(ParentClass)`. In the following example, we use the `Animal` class from above, and then define a class `Dog` that inherits from the `Animal` class. After instantiation, the child class automatically inherits all methods from the parent class, and we can define further child-specific attributes and names.\n",
        "\n",
        "```\n",
        "💡  This follows \"normal\" logic: All dogs are animals, but not all animals are dogs.\n",
        "```"
      ],
      "metadata": {
        "id": "wXLHNXG4sWIa"
      }
    },
    {
      "cell_type": "code",
      "source": [
        "class Animal:\n",
        "\n",
        "    alive = True\n",
        "\n",
        "    def __init__(self, species: str, noise: str):\n",
        "        self.species = species\n",
        "        self.noise = noise\n",
        "\n",
        "    def make_noise(self):\n",
        "        print(self.noise)"
      ],
      "metadata": {
        "id": "C3dwfK4XLQMf"
      },
      "execution_count": null,
      "outputs": []
    },
    {
      "cell_type": "code",
      "source": [
        "class Dog(Animal):\n",
        "\n",
        "    def __init__(self, name: str, weight: float):\n",
        "        super().__init__(\"dog\", \"woof\")  # call the __init__() method of the parent class\n",
        "        self.name = name  # dog-specific attributes\n",
        "        self.weight = weight"
      ],
      "metadata": {
        "id": "2pfxTpqRyzod"
      },
      "execution_count": null,
      "outputs": []
    },
    {
      "cell_type": "code",
      "source": [
        "lassie = Dog(\"Lassie\", 25.0)\n",
        "\n",
        "print(lassie.weight)"
      ],
      "metadata": {
        "id": "TVsL1YwZNCKV"
      },
      "execution_count": null,
      "outputs": []
    },
    {
      "cell_type": "code",
      "source": [
        "lassie.make_noise()"
      ],
      "metadata": {
        "id": "yAhuzDNMPABL"
      },
      "execution_count": null,
      "outputs": []
    },
    {
      "cell_type": "markdown",
      "source": [
        "A child class can also override methods from the parent class:"
      ],
      "metadata": {
        "id": "6MtNOPy8NYcq"
      }
    },
    {
      "cell_type": "code",
      "source": [
        "class Dog(Animal):\n",
        "\n",
        "    def __init__(self, name: str, weight: float):\n",
        "        super().__init__(\"dog\", \"Woof\")\n",
        "        self.name = name\n",
        "        self.weight = weight\n",
        "\n",
        "    def make_noise(self, num_barks: int):  # a \"new\" make_noise function\n",
        "        print((self.noise + \" \") * num_barks)"
      ],
      "metadata": {
        "id": "EbwRxgbDNaLV"
      },
      "execution_count": null,
      "outputs": []
    },
    {
      "cell_type": "code",
      "source": [
        "jack = Dog(\"Jack\", 12.5)\n",
        "\n",
        "jack.make_noise(5)"
      ],
      "metadata": {
        "id": "D_oBMvMpteDb"
      },
      "execution_count": null,
      "outputs": []
    },
    {
      "cell_type": "markdown",
      "source": [
        "Naturally, we can define multiple child classes that inherint from the same parent class – each of the child classes can implement specific, custom attributes and functions."
      ],
      "metadata": {
        "id": "kzkTvVXOtYKN"
      }
    },
    {
      "cell_type": "code",
      "source": [
        "class Cat(Animal):\n",
        "\n",
        "    def __init__(self, name: str):\n",
        "        super().__init__(\"cat\", \"meaow\")\n",
        "        self.name = name\n",
        "\n",
        "    def pet_me(self):\n",
        "        print(\"I don't care. I am a cat. I run away.\")\n"
      ],
      "metadata": {
        "id": "Bvb-DZsEOppy"
      },
      "execution_count": null,
      "outputs": []
    },
    {
      "cell_type": "code",
      "source": [
        "lucky = Cat(\"Lucky\")\n",
        "\n",
        "lucky.pet_me()"
      ],
      "metadata": {
        "id": "Lonhwl_2t2N5"
      },
      "execution_count": null,
      "outputs": []
    },
    {
      "cell_type": "markdown",
      "source": [
        "As such, inheritance is an extremely powerful strategy to define complex data types that follow a fixed structure – and is one of the core principles of object-oriented programming."
      ],
      "metadata": {
        "id": "Jj6nsYqbuDGD"
      }
    },
    {
      "cell_type": "markdown",
      "source": [
        "## Object-Oriented Programming"
      ],
      "metadata": {
        "id": "LNrHNYcYLQ7q"
      }
    },
    {
      "cell_type": "markdown",
      "source": [
        "The idea of defining custom data types, and structuring your code as a collection of interacting objects of these types, is referred to as **object-oriented programming**. Naturally, OOP involves defining numerous classes, which can either correspond to real-life objects (e.g. a `Molecule`, or a `MassSpectrum`), or to abstract \"objects\" (such as a `SpectrumCalculator`).\n",
        "\n",
        "In OOP, each object classically has\n",
        "* an internal state (i.e. attributes)\n",
        "* a defined interface to interact with other objects (through public methods)"
      ],
      "metadata": {
        "id": "CfJISNAcuP9X"
      }
    },
    {
      "cell_type": "markdown",
      "source": [
        "The key principles for writing object-oriented code are:\n",
        "\n",
        "1. **Encapsulation**: Bundling the data (attributes) and functionality (methods) together inside classes.\n",
        "\n",
        "2. **Abstraction**: Providing a clear, standardized interface (i.e. methods) while hiding the implementation details.\n",
        "\n",
        "3. **Inheritance**: Sharing attributes and methods among classes in a hierarchical manner to avoid duplication.\n",
        "\n",
        "4. **Polymorphism**: Allowing subclasses to override or implement methods differently while keeping a unified interface.\n",
        "\n",
        "\n"
      ],
      "metadata": {
        "id": "QcwAe8dDvJF_"
      }
    },
    {
      "cell_type": "markdown",
      "source": [
        "```\n",
        "💡 In Python, OOP is not mandatory (you can write excellent code in a purely procedural or functional style),\n",
        "but it is often a natural approach for many kinds of problems—especially when you want to group data and methods\n",
        "in a consistent and reusable manner.\n",
        "```"
      ],
      "metadata": {
        "id": "I3BWtNJJu_x7"
      }
    }
  ]
}