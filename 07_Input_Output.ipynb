{
  "nbformat": 4,
  "nbformat_minor": 0,
  "metadata": {
    "colab": {
      "provenance": [],
      "collapsed_sections": [
        "k7m0sqiTmoD-",
        "CZH_3VWfnZWo",
        "grnbtO1PdcwO",
        "CghAoXfEnJh4",
        "YZBKPmXanP38"
      ],
      "authorship_tag": "ABX9TyMG2DUdOuWJNw1j9Tta6xfd",
      "include_colab_link": true
    },
    "kernelspec": {
      "name": "python3",
      "display_name": "Python 3"
    },
    "language_info": {
      "name": "python"
    }
  },
  "cells": [
    {
      "cell_type": "markdown",
      "metadata": {
        "id": "view-in-github",
        "colab_type": "text"
      },
      "source": [
        "<a href=\"https://colab.research.google.com/github/fsk-lab/scics/blob/main/07_Input_Output.ipynb\" target=\"_parent\"><img src=\"https://colab.research.google.com/assets/colab-badge.svg\" alt=\"Open In Colab\"/></a>"
      ]
    },
    {
      "cell_type": "markdown",
      "source": [
        "# Code Input and Output"
      ],
      "metadata": {
        "id": "Y9Daj1KtlE_T"
      }
    },
    {
      "cell_type": "markdown",
      "source": [
        "All the previous tutorials on coding have left out one enormously important aspect. So far, we have defined all variables and assigned all values by directly writing down the values in our Python code. All code outputs were inspected by printing the result to the console output. For learning how to code, this is certainly a good start!\n",
        "\n",
        "However, in practice, this easily becomes impractical. We don't always want to type values into our Python code! It's tedious, prone to errors, and with large input sizes, simply not possible. At the same time, we want to save our results somewhere, and not only read them from the console output, which disappears after we close the code execution window.\n",
        "\n",
        "The solution for this is easy – we need to be able to read and write files. And that's exactly what this tutorial covers."
      ],
      "metadata": {
        "id": "SVDRBF9FlKLW"
      }
    },
    {
      "cell_type": "markdown",
      "source": [
        "## Reading and Writing Files"
      ],
      "metadata": {
        "id": "J-CLoumTmkVD"
      }
    },
    {
      "cell_type": "markdown",
      "source": [
        "Python natively provides support for interacting with files – mainly through the `file` data type and the `open()` function. Therefore, we will first learn the basics of how to handle them. In the later part of this section, we will see that Python contains a number of readers / writers for specific file types."
      ],
      "metadata": {
        "id": "a_UZp6wOsfDa"
      }
    },
    {
      "cell_type": "markdown",
      "source": [
        "### The `open()` function"
      ],
      "metadata": {
        "id": "k7m0sqiTmoD-"
      }
    },
    {
      "cell_type": "markdown",
      "source": [
        "The `open()` function can be flexibly used to access (existing and non-existing) files. It usually takes two positional and one keyword argument, and returns an object of the `file` data type.\n",
        "\n",
        "```\n",
        "open(filename: str, mode: str, encoding: str = \"utf-8\") -> file\n",
        "```\n",
        "* `filename` is the absolute or relative path of the file that should be opened.\n",
        "* `mode` refers to the mode in which the file should be opened. The following are the most common modes:\n",
        "  - `\"r\"`: read-only\n",
        "  - `\"w\"`: write-only (any file content is overwritten)\n",
        "  - `\"rw\"` or `\"r+\"`: read and write\n",
        "  - `\"a\"`: append\n",
        "  - `\"rb\"`: read-only in binary mode\n",
        "  - ...\n",
        "* `encoding` refers to the way the bit sequence that represents the file is read in. Unless you know that your file follows a different encoding, \"utf-8\" is a very good assumption.\n",
        "\n",
        "The `open()` function returns a file-type object."
      ],
      "metadata": {
        "id": "1jwW4AVHtA8i"
      }
    },
    {
      "cell_type": "markdown",
      "source": [
        "```\n",
        "🎮  In the file manager of Google colabs, create a new file called `text_file.txt`.\n",
        "\n",
        "Paste the following content to it:\n",
        "-------------------------------------------------------------------------\n",
        "This is a test text file. It doesn't contain any meaningful information.\n",
        "\n",
        "But in the next lines, it contains some data, separated by spaces.\n",
        "124 754 137\n",
        "44 81 91\n",
        "1 7 2\n",
        "7522 9012 5621\n",
        "-------------------------------------------------------------------------\n",
        "\n",
        "Now, open this file using the `open()` method and print out the type of the new object.\n",
        "```"
      ],
      "metadata": {
        "id": "id5YlKMfvkDP"
      }
    },
    {
      "cell_type": "code",
      "source": [
        "# Try it!\n",
        "\n",
        "f = open(\"test_file.txt\", \"r\")\n",
        "\n",
        "print(type(f))"
      ],
      "metadata": {
        "id": "E_sY2N4vwCYt"
      },
      "execution_count": null,
      "outputs": []
    },
    {
      "cell_type": "markdown",
      "source": [
        "This file-type object has a number of useful methods for us that we can use, for example:\n",
        "* `file.read(size: int = None)` returns a string of the first `size` characters of the file. If `size` is not passed, it returns a string of the full file.\n",
        "* `for x in file: ...` allows us to loop over all lines of the file.\n",
        "* `f.write(text: str)` writes the `text` to the file. If the file is opened in `\"w\"` mode, the current content of the file is overwritten. If the file is opened in `\"a\"` mode, the text is appended to the end of the current content."
      ],
      "metadata": {
        "id": "7ZcBzonMwt99"
      }
    },
    {
      "cell_type": "code",
      "source": [
        "for line in f:\n",
        "    print(line)"
      ],
      "metadata": {
        "id": "tHCCYQIzTQDH"
      },
      "execution_count": null,
      "outputs": []
    },
    {
      "cell_type": "markdown",
      "source": [
        "> ❗ Once we are done working with a file, we should close it again to avoid memory issues, which can be done with the `file.close()` method.\n",
        "\n",
        "However, rather than manually opening and closing a file, it is best practice to use a `with` statement, which follows the syntax of:\n",
        "```\n",
        "with open(\"test_file.txt\", \"r\") as f:\n",
        "    ...  # code that uses f\n",
        "```\n",
        "\n",
        "After completion of the code under the `with` statement, the file is automatically closed, and the variable `f` is fully deleted from memory. This is the cleanest way of writing code."
      ],
      "metadata": {
        "id": "Xma2BOE7Tnob"
      }
    },
    {
      "cell_type": "markdown",
      "source": [
        "\n",
        "\n",
        "---\n",
        "\n",
        "\n",
        "🧠 A `with` statement creates a so-called **context manager**. Context managers define variables that only exist within the given `with` block, and are fully deleted and cleaned up afterwards. There can be multiple scenarios in Python code where this is useful – and the standard libary contains the `contextlib` module to create custom context managers for specific purposes.\n",
        "\n",
        "---"
      ],
      "metadata": {
        "id": "9gPkdAbRXgvH"
      }
    },
    {
      "cell_type": "markdown",
      "source": [
        "### Reading Files"
      ],
      "metadata": {
        "id": "CZH_3VWfnZWo"
      }
    },
    {
      "cell_type": "markdown",
      "source": [
        "The `open()` function and the resulting file-type objects give us a basic tool that we can use to process all kinds of files! The key requirement for this, however, is that we know the structure of the file.\n",
        "\n",
        "In case of the `test_file.txt` from above, all lines starting from line 4 contain three numbers. A natural way of turning this into a Python data structure would be e.g. to generate three lists, each for one column."
      ],
      "metadata": {
        "id": "tMXLQ1GcWuBg"
      }
    },
    {
      "cell_type": "markdown",
      "source": [
        "For this, we need to know two important functions to process strings:\n",
        "* `str.split(sep: str, ...) -> list[str]` splits a string at each occurrence of `sep`, and returns a list of sub-strings.\n",
        "* `str.strip(*chars) -> str` removes all characters passed as `*chars` from the beginning and the end of the string. By default, the `strip` method removes all whitespaces (i.e. spaces, tabs and line breaks) from the beginning and the end of the string."
      ],
      "metadata": {
        "id": "IHMrhKqzXnn5"
      }
    },
    {
      "cell_type": "code",
      "source": [
        "a = \" 124 , 754 , 137 \\n\"\n",
        "\n",
        "b = a.split(\",\")\n",
        "print(b)"
      ],
      "metadata": {
        "id": "rZwdr5j8X2-L"
      },
      "execution_count": null,
      "outputs": []
    },
    {
      "cell_type": "code",
      "source": [
        "c = [item.strip() for item in b]\n",
        "print(c)"
      ],
      "metadata": {
        "id": "bxXHULvYZ0gN"
      },
      "execution_count": null,
      "outputs": []
    },
    {
      "cell_type": "markdown",
      "source": [
        "With this knowledge, we can try to parse the number-containing lines in `test_file.txt` into three lists, one per column."
      ],
      "metadata": {
        "id": "ZsIbVnxkZ2nu"
      }
    },
    {
      "cell_type": "code",
      "source": [
        "col_0, col_1, col_2 = [], [], []\n",
        "\n",
        "with open(\"test_file.txt\", \"r\") as f:\n",
        "    all_lines = list(f)  # This is necessary since files are not indexable\n",
        "    for line in all_lines[3:]:\n",
        "        numbers = [num.strip() for num in line.split(\" \")]\n",
        "        col_0.append(int(numbers[0]))\n",
        "        col_1.append(int(numbers[1]))\n",
        "        col_2.append(int(numbers[2]))\n",
        "\n",
        "print(col_0)\n",
        "print(col_1)\n",
        "print(col_2)"
      ],
      "metadata": {
        "id": "7BEUoxsraBIp"
      },
      "execution_count": null,
      "outputs": []
    },
    {
      "cell_type": "markdown",
      "source": [
        "We could now use these lists to do some calculations with it – without needing to define actual variables within the code. This allows us to easily run the same kind of code on lots of different input files!"
      ],
      "metadata": {
        "id": "bli7EnN9bjTJ"
      }
    },
    {
      "cell_type": "markdown",
      "source": [
        "What we need for this is the knowledge about the exact file structure – e.g. how many lines there are before the actual data starts, or which separator is used in each line. For uncommon file formats, we might have to do this ourselves.\n",
        "\n",
        "However, there are a number of very common file formats where such \"file readers\" have already been developed, and have become part of the standard library in Python. We will later learn about the *.csv* and *.json* file types."
      ],
      "metadata": {
        "id": "0A4EWEmFdAuF"
      }
    },
    {
      "cell_type": "markdown",
      "source": [
        "### Writing Files"
      ],
      "metadata": {
        "id": "grnbtO1PdcwO"
      }
    },
    {
      "cell_type": "markdown",
      "source": [
        "Similarly, we can use the `with open(...` to write new lines to a file. For this, the file needs to be opened in *write* (`w` / `w+` / `rw`) or *append* mode (`a`). Then we can use the `file.write(s: str) -> int` method, which writes the passed string to the file, and returns the number of integers written."
      ],
      "metadata": {
        "id": "5ECliv8edfwl"
      }
    },
    {
      "cell_type": "code",
      "source": [
        "with open(\"test_file.txt\", \"a\") as f:\n",
        "    f.write(\"888 777 666\")"
      ],
      "metadata": {
        "id": "fxA2zXucebMg"
      },
      "execution_count": null,
      "outputs": []
    },
    {
      "cell_type": "markdown",
      "source": [
        "If we check the new content of `test_file.txt`, this highlights an important pitfall in writing files – we need to manage line breaks by ourselves!"
      ],
      "metadata": {
        "id": "rdRVaDadeoUs"
      }
    },
    {
      "cell_type": "markdown",
      "source": [
        "> 💡  If we open a non-existing file in *write* mode, the file is automatically created after leaving the context manager!"
      ],
      "metadata": {
        "id": "6873izH_ezRU"
      }
    },
    {
      "cell_type": "code",
      "source": [
        "with open(\"test_number_2.txt\", \"w\") as f:\n",
        "    f.write(\"This is line number 1\\n\")\n",
        "    f.write(\"This is the line where I forgot the line break\")\n",
        "    f.write(\"Another line\")"
      ],
      "metadata": {
        "id": "qQuIKCuGe_EJ"
      },
      "execution_count": null,
      "outputs": []
    },
    {
      "cell_type": "markdown",
      "source": [
        "Similar to reading files, there is a number of common file formats for which the standard library alread contains writing functionalities!"
      ],
      "metadata": {
        "id": "ZBxP9AhRfQ0Q"
      }
    },
    {
      "cell_type": "markdown",
      "source": [
        "### Specific File Types"
      ],
      "metadata": {
        "id": "EqDMs4HbnClN"
      }
    },
    {
      "cell_type": "markdown",
      "source": [
        "#### The `csv` file format"
      ],
      "metadata": {
        "id": "CghAoXfEnJh4"
      }
    },
    {
      "cell_type": "markdown",
      "source": [
        "*Comma-separated value* files, or short, *.csv* files, are a common file type to store tables in a file. Classically, one line of the file contains one row of the table, and all columns are separated by a comma (even though *.csv* files with other column delimiters exist). *.csv* files are readily readable by a human, and can e.g. be processed by common spreadsheet programs.\n",
        "\n",
        "An example of a *.csv* file, containing an experimental UV/Vis spectrum, can be found in the `data` directory of the course's [Github repository](https://github.com/fsk-lab/scics)."
      ],
      "metadata": {
        "id": "Db_Tfbgxh2RZ"
      }
    },
    {
      "cell_type": "markdown",
      "source": [
        "For parsing *.csv* files, the standard library contains a package called `csv`, which we can use for parsing *.csv* files. We can create a reader object through `csv.reader(file)`, which automatically parses each row in a *.csv* file. We can use this to loop over all rows in a *.csv* file, and for each row, get a list of all values."
      ],
      "metadata": {
        "id": "OxmfC0aajLKA"
      }
    },
    {
      "cell_type": "code",
      "source": [
        "import csv\n",
        "\n",
        "with open(\"uv_spectrum.csv\", \"r\") as f:\n",
        "    reader = csv.reader(f)\n",
        "\n",
        "    for row in reader:\n",
        "        print(row)"
      ],
      "metadata": {
        "id": "l878XXfPklVs"
      },
      "execution_count": null,
      "outputs": []
    },
    {
      "cell_type": "markdown",
      "source": [
        "Similarly, the `csv` module contains a `csv.writer(file)` that can be used to write new data into a *.csv* file. The `.writerow(list)` method can be used to write data into a new file."
      ],
      "metadata": {
        "id": "JUqzPgMDnoX-"
      }
    },
    {
      "cell_type": "markdown",
      "source": [
        "```\n",
        "🎮  Use the knowledge about reading and writing csv files to write a small program\n",
        "that can does the following things:\n",
        "1) Read in the `uv_spectrum.csv` file\n",
        "2) Write a new file `uv_spectrum_normalized.csv` in which the second column\n",
        "   (i.e. the absorption intensities) are normalized to a scale from 0 to 1.\n",
        "```"
      ],
      "metadata": {
        "id": "Y1lhGPfvn9fz"
      }
    },
    {
      "cell_type": "code",
      "source": [
        "# Try the exercise!"
      ],
      "metadata": {
        "id": "hljs_7Jann9D"
      },
      "execution_count": null,
      "outputs": []
    },
    {
      "cell_type": "markdown",
      "source": [
        "> ❗ Unfortunately, there are different \"dialects\" of *.csv* files (e.g. different delimiters, different usage of spaces, ...), which can make uniform handling of *.csv* files difficult. Therefore, the `csv` module allows us to specify different dialect settings, or to even automatically identify the \"dialect\" of a specific file (using the `csv.Sniffer()` objects). Many more details on how to use the `csv` package are provided in the [package documentation](https://docs.python.org/3/library/csv.html)."
      ],
      "metadata": {
        "id": "aVuMx_i_j6wh"
      }
    },
    {
      "cell_type": "markdown",
      "source": [
        "#### The `json` file format"
      ],
      "metadata": {
        "id": "YZBKPmXanP38"
      }
    },
    {
      "cell_type": "markdown",
      "source": [
        "In previous tutorials, we have learned about lists and dictionaries as two of the most important compound data types in Python. In many cases, we want to store these objects (e.g. lists or dictionaries) into a file, and be able to read them in again in another piece of code.\n",
        "\n",
        "The `Java Script Object Notation` (short: **json**) gives us a standardized way to do so – without needing to define a custom format in which we can read or store our data. In other words: We can save our list or dictionary as a *.json* file – and when we read it in, we directly get our list or dictionary back."
      ],
      "metadata": {
        "id": "gCyroBTwoov9"
      }
    },
    {
      "cell_type": "markdown",
      "source": [
        "In Python, this can be practically done with the `json` library. The `json.load(file)` function can be used to load data from a *.json* file. The `json.dump(obj, file)` function can be used to save a list or dict object to a file."
      ],
      "metadata": {
        "id": "rrDSAag0qd25"
      }
    },
    {
      "cell_type": "code",
      "source": [
        "import json\n",
        "\n",
        "elements = {\n",
        "    \"H\": [1, 1.01],\n",
        "    \"He\": [2, 4.00],\n",
        "    \"Li\": [3, 6.94]\n",
        "}\n",
        "\n",
        "with open(\"elements.json\", \"w\") as f:\n",
        "    json.dump(elements, f)"
      ],
      "metadata": {
        "id": "eFddgXAHqhL4"
      },
      "execution_count": null,
      "outputs": []
    },
    {
      "cell_type": "code",
      "source": [
        "with open(\"elements.json\", \"r\") as f:\n",
        "    elements_reloaded = json.load(f)\n",
        "\n",
        "print(elements_reloaded)"
      ],
      "metadata": {
        "id": "TZjYnctPrTXh"
      },
      "execution_count": null,
      "outputs": []
    },
    {
      "cell_type": "markdown",
      "source": [
        "An additional advantage of the .json file format is the fact that it is readily readable by humans. For example, the \"elements.json\" file looks as follows:\n",
        "\n",
        "```\n",
        "{\"H\": [1, 1.01], \"He\": [2, 4.0], \"Li\": [3, 6.94]}\n",
        "```\n",
        "\n",
        "In fact, we can readily write .json files by hand if we account for the following specialties:\n",
        "* The booleans `True` and `False` are stored as `true` and `false`.\n",
        "* The `None` value is stored as `null`."
      ],
      "metadata": {
        "id": "HAUhgDuErbgQ"
      }
    },
    {
      "cell_type": "markdown",
      "source": [
        "There are a number of additional considerations that need to be taken into account when using the `json` module to store Python objects into *.json* files:\n",
        "* `tuple` and `set` data types are not supported. *(But they can be converted into a list for saving them in a json file)*\n",
        "* Values within the `list` or `dict` must be one of the following data types: `int`, `float`, `bool`, `None`. Nested lists or dictionaries (e.g. a list of lists) are also allowed."
      ],
      "metadata": {
        "id": "H1r4QPsMp2Mk"
      }
    },
    {
      "cell_type": "markdown",
      "source": [
        "For many other data types, the `pickle` library can be used to save any Python object into a file, and re-load it later. `pickle` saves any file in binary – i.e. it directly dumps the bits and bytes that are currently stored in the memory. While this is often practical, these files cannot be readily edited by humans – and often lead to safety concerns."
      ],
      "metadata": {
        "id": "APsfEsEMsMiy"
      }
    },
    {
      "cell_type": "markdown",
      "source": [
        "## Interacting with the Operating System"
      ],
      "metadata": {
        "id": "iMsJNaObsStY"
      }
    },
    {
      "cell_type": "markdown",
      "source": [
        "We can use Python code to interact with the operating system and the file system maintained by the OS. For example, Python code can be used to search, create, move, copy, or delete files in the operating system. For this purpose, the standard library contains a number of useful modules."
      ],
      "metadata": {
        "id": "l5j8y-nQMSO0"
      }
    },
    {
      "cell_type": "markdown",
      "source": [
        "### Navigating the file system with `pathlib`"
      ],
      "metadata": {
        "id": "W1Mzp_WRssKW"
      }
    },
    {
      "cell_type": "markdown",
      "source": [
        "In the early parts of this class, we have seen that any operating system maintains a tree of directories and sub-directories to structure all files on the computer. Every file is identified by its **path**, i.e. a full sequence of directories and sub-directories starting from the *root*.\n",
        "\n",
        "In a UNIX system, a file path could look like that:\n",
        "`/Users/felix/sciebo/Teaching/SCICS/Lectures/07_Input_Output.ipynb`\n",
        "\n",
        "On a Windows system, the file path would look different, e.g. like:\n",
        "`C:\\Users\\felix\\sciebo\\Teaching\\SCICS\\Lectures\\07_Input_Output.ipynb`\n",
        "\n",
        "To handle file paths in different operating systems in a uniform way, the Python standard library contains the `pathlib` package. Within `pathlib`, the `Path` data type gives us a standardized way operate with file paths, irrespective of the OS.\n",
        "\n",
        "We can create a new object of the `Path` datatype as `Path(path: str)`\n",
        "\n",
        "> 💡  In Google colabs, the absolute path of the data folder is `/content`."
      ],
      "metadata": {
        "id": "HnmqEbnJMm7g"
      }
    },
    {
      "cell_type": "code",
      "source": [
        "from pathlib import Path\n",
        "\n",
        "test_path = Path(\"/content/sample_data\")\n",
        "\n",
        "print(type(test_path))"
      ],
      "metadata": {
        "id": "B1uPXUPSOCNk"
      },
      "execution_count": null,
      "outputs": []
    },
    {
      "cell_type": "markdown",
      "source": [
        "A `Path` object can be used to interact with the operating system, e.g. to find out whether this path refers to a file or to a folder:\n",
        "* `Path.is_file() -> bool` returns True if the Path object describes a file.\n",
        "* `Path.is_dir() -> bool` returns True if the Path object describes a folder."
      ],
      "metadata": {
        "id": "TcnpROAusz-d"
      }
    },
    {
      "cell_type": "code",
      "source": [
        "test_path.is_dir()"
      ],
      "metadata": {
        "id": "y3yvmpChP6Co"
      },
      "execution_count": null,
      "outputs": []
    },
    {
      "cell_type": "markdown",
      "source": [
        "Moreover, `Path` objects allow us to access the path of parent folders, or files/folders within the current directory.\n",
        "* `Path / child: str` can be used to get the path of files or folders within the current path.\n",
        "* `Path.parent -> Path` returns a `Path` object of the parent folder.\n",
        "* `Path.parents -> List[Path]` returns a list of `Path` objects for each parent."
      ],
      "metadata": {
        "id": "rJIOWDaBQELh"
      }
    },
    {
      "cell_type": "code",
      "source": [
        "anscombe_file = test_path / \"anscombe.json\"\n",
        "\n",
        "print(type(anscombe_file))\n",
        "print(anscombe_file)\n",
        "print(anscombe_file.is_file())"
      ],
      "metadata": {
        "id": "gM7KLieUQpOy"
      },
      "execution_count": null,
      "outputs": []
    },
    {
      "cell_type": "code",
      "source": [
        "parent_path = test_path.parent\n",
        "\n",
        "print(parent_path)\n",
        "print(parent_path.is_dir())"
      ],
      "metadata": {
        "id": "bcRZj43PROEM"
      },
      "execution_count": null,
      "outputs": []
    },
    {
      "cell_type": "markdown",
      "source": [
        "For folders, `pathlib` provides us with some useful tools to loop over all contents of the file. `for x in Path.iterdir()` loops over all files and folders in the directory."
      ],
      "metadata": {
        "id": "vmUFa9sos2HW"
      }
    },
    {
      "cell_type": "code",
      "source": [
        "for file in test_path.iterdir():\n",
        "    print(file)"
      ],
      "metadata": {
        "id": "0lUNtLrLSGtn"
      },
      "execution_count": null,
      "outputs": []
    },
    {
      "cell_type": "markdown",
      "source": [
        "---\n",
        "🧠  We can also specify the loops that `pathlib` allows us to do. For example, we can loop over all file names that have a specific pattern in them:\n",
        "* `for x in Path.glob(pattern: str)` loops over all files and folders in the directory that contain the pattern.\n",
        "* `for x in Path.rglob(pattern: str)` loops over all files and folders in the directory and all sub-directories that contain the pattern.\n",
        "\n",
        "For example, the following code would loop over all .csv files that are in the `/content` directory or any of its sub-directories.\n",
        "```\n",
        "from pathlib import Path\n",
        "\n",
        "our_path = Path(\"/content\")\n",
        "\n",
        "for file in our_path.rglob(\"*.csv\"):\n",
        "    print(file)\n",
        "```\n",
        "\n",
        "---"
      ],
      "metadata": {
        "id": "HbiLjFRoRwfl"
      }
    },
    {
      "cell_type": "markdown",
      "source": [
        "In principle, we can create a `Path` object of an arbitrary path in the operating system – this path does not need to exist in reality. We can use the `Path.exists() -> bool` method to find out if a path exists in the operating system or not.\n",
        "\n",
        "If it does not exist, we can use `pathlib` to create a folder with this path, using the `Path.mkdir()` method."
      ],
      "metadata": {
        "id": "fwXInGuWs7QO"
      }
    },
    {
      "cell_type": "code",
      "source": [
        "our_path = Path(\"/content\")\n",
        "\n",
        "new_dir = our_path / \"test_dir\"\n",
        "print(new_dir.exists())"
      ],
      "metadata": {
        "id": "9bl2FqoWTYjQ"
      },
      "execution_count": null,
      "outputs": []
    },
    {
      "cell_type": "code",
      "source": [
        "new_dir.mkdir()\n",
        "print(new_dir.exists())"
      ],
      "metadata": {
        "id": "t178Otl6TohK"
      },
      "execution_count": null,
      "outputs": []
    },
    {
      "cell_type": "markdown",
      "source": [
        "Similarly, we can also remove (empty) directories using the `Path.rmdir()` function."
      ],
      "metadata": {
        "id": "0LGuBFRITwtQ"
      }
    },
    {
      "cell_type": "code",
      "source": [
        "new_dir.rmdir()\n",
        "print(new_dir.exists())"
      ],
      "metadata": {
        "id": "_bfAbv2FT3XP"
      },
      "execution_count": null,
      "outputs": []
    },
    {
      "cell_type": "markdown",
      "source": [
        "### Moving, Copying and Deleting Files"
      ],
      "metadata": {
        "id": "FgKyoIecs9EN"
      }
    },
    {
      "cell_type": "markdown",
      "source": [
        "Whereas `pathlib` is mainly intended for interacting with the file system (handling file paths and directories), it is not made for actually operating on files. If we want to move, copy, or delete files, the standard library provides us with a specific module for this, which is called \"shell utilities\", or short `shutil`.\n",
        "\n",
        "Shutil does not provide us with new data types, but with a range of useful functions to handle files:\n",
        "* `shutil.move(src: Path, dst: Path)` moves the file at the source path to the destination path.\n",
        "* `shutil.copy(src: Path, dst: Path)` copies the file at the source path to the destination path.\n",
        "* `shutil.rmtree(path: Path)` removes a file or folder at the given path. In case of a folder, all contents are removed, too."
      ],
      "metadata": {
        "id": "K12N-DbgULnk"
      }
    },
    {
      "cell_type": "code",
      "source": [
        "from pathlib import Path\n",
        "import shutil\n",
        "\n",
        "home_dir = Path(\"/content\")\n",
        "\n",
        "shutil.copy(home_dir / \"sample_data\" / \"anscombe.json\", home_dir / \"test.json\")\n",
        "\n",
        "with open(home_dir / \"test.json\") as f:\n",
        "    for line in f:\n",
        "        print(line)"
      ],
      "metadata": {
        "id": "we_3BSB4VdHS"
      },
      "execution_count": null,
      "outputs": []
    },
    {
      "cell_type": "code",
      "source": [
        "new_dir = home_dir / \"test_dir\"\n",
        "new_dir.mkdir()\n",
        "\n",
        "test_file = home_dir / \"test.json\"\n",
        "shutil.move(test_file, new_dir / \"test.json\")"
      ],
      "metadata": {
        "id": "XiZ0RVvrWG6W"
      },
      "execution_count": null,
      "outputs": []
    },
    {
      "cell_type": "code",
      "source": [
        "shutil.rmtree(new_dir)"
      ],
      "metadata": {
        "id": "-VHsoqNwWVbB"
      },
      "execution_count": null,
      "outputs": []
    },
    {
      "cell_type": "markdown",
      "source": [
        "## Interactive Programs and Console Input"
      ],
      "metadata": {
        "id": "gOSdZuStndWs"
      }
    },
    {
      "cell_type": "markdown",
      "source": [
        "In principle, we can use Python to write small interactive programs, in which the user can provide some input through the command line, which can then be used by the Python program.\n",
        "\n",
        "For this, Python contains the built-in `input(prompt: str) -> str` function, which waits for the user to provide some input. We can store this input in a new variable."
      ],
      "metadata": {
        "id": "RSHBkJYluFi9"
      }
    },
    {
      "cell_type": "code",
      "source": [
        "var = input(\"Please give me some input! \")"
      ],
      "metadata": {
        "id": "EBVXb5wcngwt"
      },
      "execution_count": null,
      "outputs": []
    },
    {
      "cell_type": "code",
      "source": [
        "print(var)"
      ],
      "metadata": {
        "id": "dkppvLE3tJJC"
      },
      "execution_count": null,
      "outputs": []
    },
    {
      "cell_type": "markdown",
      "source": [
        "In principle, we could use this to write a little – arguably very limited – chat bot."
      ],
      "metadata": {
        "id": "0ZWwHZN9ubGq"
      }
    },
    {
      "cell_type": "code",
      "source": [
        "inp = input(\"    Give me a hot take! \\n\")\n",
        "\n",
        "while True:\n",
        "    print(f\"    Interesting... {inp} I disagree. Give me another hot take!\")\n",
        "    inp = input(\"\")"
      ],
      "metadata": {
        "id": "sb0P88h9tLs2"
      },
      "execution_count": null,
      "outputs": []
    },
    {
      "cell_type": "markdown",
      "source": [
        "Anything that comes through the console input will initially be interpreted as a string – but, as we have seen before, we can convert the input to any data type we want."
      ],
      "metadata": {
        "id": "t55OWe7ct8OE"
      }
    }
  ]
}