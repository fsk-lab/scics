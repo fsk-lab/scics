{
  "nbformat": 4,
  "nbformat_minor": 0,
  "metadata": {
    "colab": {
      "provenance": [],
      "authorship_tag": "ABX9TyPfNEPywD9LUVFJ3hvwoHox",
      "include_colab_link": true
    },
    "kernelspec": {
      "name": "python3",
      "display_name": "Python 3"
    },
    "language_info": {
      "name": "python"
    }
  },
  "cells": [
    {
      "cell_type": "markdown",
      "metadata": {
        "id": "view-in-github",
        "colab_type": "text"
      },
      "source": [
        "<a href=\"https://colab.research.google.com/github/fsk-lab/scics/blob/main/05_Exceptions.ipynb\" target=\"_parent\"><img src=\"https://colab.research.google.com/assets/colab-badge.svg\" alt=\"Open In Colab\"/></a>"
      ]
    },
    {
      "cell_type": "markdown",
      "source": [
        "# Errors in Python\n",
        "\n",
        "This short chapter will provide a brief introduction to understanding and handling errors in Python. When programming, errors are almost unavoidable – we will almost always make mistakes before writing the perfect program.\n",
        "\n",
        "We have already seen a number of scenarios in which errors can occur, e.g.:\n",
        "* using incorrect syntax\n",
        "* dividing by zero\n",
        "* trying to access a list element that does not exist\n",
        "* ...\n",
        "\n",
        "Often, these errors are undesired, and our goal in programming is to avoid errors. In many cases, however, errors can be a feature of a program, and the ability to create and handle custom errors can enhance our flexibility in writing code."
      ],
      "metadata": {
        "id": "6ZKEuL-triN3"
      }
    },
    {
      "cell_type": "markdown",
      "source": [
        "## Errors as `Exceptions`"
      ],
      "metadata": {
        "id": "xsyz4ZApsyQX"
      }
    },
    {
      "cell_type": "markdown",
      "source": [
        "In Python, errors are specific variants of an object type called `Exception`. We have already seen a number of these exceptions, for example:\n",
        "* `SyntaxError`\n",
        "* `IndexError`\n",
        "* `KeyError`\n",
        "* `ValueError`\n",
        "...\n",
        "\n",
        "Whenever the Python interpreter finds an error while executing the code, the specific exception is **raised**. \"Raising\" is the term that describes the fact that the code should now be interrupted and show the error.  "
      ],
      "metadata": {
        "id": "KmHG9lmVtElk"
      }
    },
    {
      "cell_type": "markdown",
      "source": [
        "```\n",
        "🎮  Try to provoke a number of errors, and inspect the error messages\n",
        "that are produced by the respective error. Try to find as many different\n",
        "error types as possible!\n",
        "```"
      ],
      "metadata": {
        "id": "iW-5Uv-uttf0"
      }
    },
    {
      "cell_type": "code",
      "source": [
        "# Try me!"
      ],
      "metadata": {
        "id": "WugHfKIpACXa"
      },
      "execution_count": null,
      "outputs": []
    },
    {
      "cell_type": "markdown",
      "source": [
        "We can also force Python to raise a specific type of error. For this purpose, Python provides the `raise` statement."
      ],
      "metadata": {
        "id": "LYSSVFi2t5uu"
      }
    },
    {
      "cell_type": "code",
      "execution_count": null,
      "metadata": {
        "id": "m9ejCNufrgMW"
      },
      "outputs": [],
      "source": [
        "raise SyntaxError()"
      ]
    },
    {
      "cell_type": "markdown",
      "source": [
        "We can also provide a specific error message within the parentheses:"
      ],
      "metadata": {
        "id": "gvzAUMFjubn6"
      }
    },
    {
      "cell_type": "code",
      "source": [
        "raise SyntaxError(\"This is an error!\")"
      ],
      "metadata": {
        "id": "VhFFoz19uTPj"
      },
      "execution_count": null,
      "outputs": []
    },
    {
      "cell_type": "markdown",
      "source": [
        "In fact, this is exactly what the Python interpreter does in case it encounters an invalid action."
      ],
      "metadata": {
        "id": "7FzOae5lAbqm"
      }
    },
    {
      "cell_type": "markdown",
      "source": [
        "At this stage, it should be noted that any type of exception is a specific data type in Python – similar to data types like `int`, `bool` or `float`, there are a number of error data types. For example, we can first store an error into a variable, and then later raise it."
      ],
      "metadata": {
        "id": "tBQ4MfJwulEq"
      }
    },
    {
      "cell_type": "code",
      "source": [
        "a = ValueError(\"This is a value error\")\n",
        "\n",
        "print(type(a))"
      ],
      "metadata": {
        "id": "KoWEWND5uj3l"
      },
      "execution_count": null,
      "outputs": []
    },
    {
      "cell_type": "code",
      "source": [
        "raise a"
      ],
      "metadata": {
        "id": "MnDUmCg5u_aR"
      },
      "execution_count": null,
      "outputs": []
    },
    {
      "cell_type": "markdown",
      "source": [
        "## Catching Errors"
      ],
      "metadata": {
        "id": "UB3aXK3gvEcQ"
      }
    },
    {
      "cell_type": "markdown",
      "source": [
        "As indicated above, error handling can be a useful feature when writing more complex code. For this purpose, Python provides us with a functionality to *catch* errors – which means that the program does not terminate when an exception is raised, but rather does something else.\n",
        "\n",
        "In Python, this can be achieved with  `try`–`except` blocks. Any code that is controlled by a `try` statement will be executed normally. In case this code raises an error, the execution of the code under the `try` statement is stopped immediately, and the code will continue under the `except statement`. If the code under the `try` statement does not raise an exception, the `except` block is ignored."
      ],
      "metadata": {
        "id": "AsvDy42hvIm1"
      }
    },
    {
      "cell_type": "code",
      "source": [
        "a = 0\n",
        "\n",
        "try:\n",
        "    b = 8 / a\n",
        "    print(f\"The value of b is {b}.\")\n",
        "\n",
        "except:\n",
        "    print(f\"There was an error when dividing 8 by {a}\")"
      ],
      "metadata": {
        "id": "boCg1cS4vFpz"
      },
      "execution_count": null,
      "outputs": []
    },
    {
      "cell_type": "markdown",
      "source": [
        "```\n",
        "❗  Unlike `if` statements, any `try` block needs to be followed by an\n",
        "`except` block!\n",
        "```"
      ],
      "metadata": {
        "id": "rK0DrZKpA1kD"
      }
    },
    {
      "cell_type": "markdown",
      "source": [
        "These generic `try`–`except` blocks can be very broad. Usually, we only want to catch specific errors.\n",
        "\n",
        "For example, in the following case, we only want the `except` block to be executed in case of an error that results from division by zero. The fact that variable `c` is unknown should result in a normal error."
      ],
      "metadata": {
        "id": "nNXSUpAWwNRJ"
      }
    },
    {
      "cell_type": "code",
      "source": [
        "a = 0\n",
        "\n",
        "try:\n",
        "    b = 8 / c\n",
        "    print(f\"The value of b is {b}.\")\n",
        "\n",
        "except:\n",
        "    print(f\"There was an error when dividing 8 by {a}\")"
      ],
      "metadata": {
        "id": "scaOjuVGwIl6"
      },
      "execution_count": null,
      "outputs": []
    },
    {
      "cell_type": "markdown",
      "source": [
        "For these scenarios, we can specify `except` blocks only for defined types of exceptions."
      ],
      "metadata": {
        "id": "32mrOHiXw_U4"
      }
    },
    {
      "cell_type": "code",
      "source": [
        "a = 0\n",
        "\n",
        "try:\n",
        "    b = 8 / c\n",
        "    print(f\"The value of b is {b}.\")\n",
        "\n",
        "except ZeroDivisionError:\n",
        "    print(f\"There was an error when dividing 8 by {a}\")"
      ],
      "metadata": {
        "id": "D8UaQsJKwk3d"
      },
      "execution_count": null,
      "outputs": []
    },
    {
      "cell_type": "markdown",
      "source": [
        "❗  Multiple types of errors can be caught at the same time by placing a tuple of exceptions into the `except` statement, e.g.\n",
        "```\n",
        "except (KeyError, ValueError):\n",
        "    ...\n",
        "```"
      ],
      "metadata": {
        "id": "N06ZllfTz1Xn"
      }
    },
    {
      "cell_type": "markdown",
      "source": [
        "### 🧠  Advanced Error Handling Workflows"
      ],
      "metadata": {
        "id": "9UWR_uBk0Pkd"
      }
    },
    {
      "cell_type": "markdown",
      "source": [
        "Python provides us with a number of advanced tools to perform error handling. Above, we have seen that exceptions are just another type of object – which means we can treat them like any other Python object. In an `except` block, we can specifically save the exception that we caught."
      ],
      "metadata": {
        "id": "VZPFVSbv0dYt"
      }
    },
    {
      "cell_type": "code",
      "source": [
        "a = [1, 2, 3, 4]\n",
        "\n",
        "try:\n",
        "    item = a[2]\n",
        "except IndexError as e:  # This assigns the exception object to the variable `e`\n",
        "    print(\"I want to print this line before raising the error again!\")\n",
        "    raise e"
      ],
      "metadata": {
        "id": "wdkQr0g_zxyh"
      },
      "execution_count": null,
      "outputs": []
    },
    {
      "cell_type": "markdown",
      "source": [
        "In addition, Python implements a `finally` statement, which is executed either after completing the `try` block, or after completing the `except` block. The `finally` statement can be seen as a type of \"cleanup\" operation."
      ],
      "metadata": {
        "id": "H6IVUeFt2Q4o"
      }
    },
    {
      "cell_type": "code",
      "source": [
        "a = 2\n",
        "\n",
        "try:\n",
        "    b = 8 / a\n",
        "    print(f\"The value of b is {b}.\")\n",
        "\n",
        "except:\n",
        "    print(f\"There was an error when dividing 8 by {a}\")\n",
        "\n",
        "finally:\n",
        "    print(\"This is the final statement!\")"
      ],
      "metadata": {
        "id": "XgdWp0LC4rXK"
      },
      "execution_count": null,
      "outputs": []
    },
    {
      "cell_type": "markdown",
      "source": [
        "❗ Even if the `except` block raises a new error, the `finally` code is still executed!"
      ],
      "metadata": {
        "id": "JPvP7TPe_a7y"
      }
    },
    {
      "cell_type": "code",
      "source": [
        "a = [1, 2, 3, 4]\n",
        "\n",
        "try:\n",
        "    item = a[4]\n",
        "except IndexError as e:  # This assigns the exception object to the variable `e`\n",
        "    print(\"I want to print this line before raising the error again!\")\n",
        "    raise e\n",
        "finally:\n",
        "    print(\"Cleaning everything up!\")"
      ],
      "metadata": {
        "id": "gXCphrsp_fls"
      },
      "execution_count": null,
      "outputs": []
    },
    {
      "cell_type": "markdown",
      "source": [],
      "metadata": {
        "id": "GGyPZFZ42KEW"
      }
    }
  ]
}