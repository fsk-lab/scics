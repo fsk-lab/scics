{
  "cells": [
    {
      "cell_type": "markdown",
      "metadata": {
        "id": "view-in-github",
        "colab_type": "text"
      },
      "source": [
        "<a href=\"https://colab.research.google.com/github/fsk-lab/scics/blob/main/03_Code_Controls.ipynb\" target=\"_parent\"><img src=\"https://colab.research.google.com/assets/colab-badge.svg\" alt=\"Open In Colab\"/></a>"
      ]
    },
    {
      "cell_type": "markdown",
      "metadata": {
        "id": "s2O0QKzmtseg"
      },
      "source": [
        "# Code Control Flow Tools"
      ]
    },
    {
      "cell_type": "markdown",
      "metadata": {
        "id": "Yr4LdV38t0Ph"
      },
      "source": [
        "In the last chapter, we have learned about the `for` statement that we can use to **loop** over a sequence (e.g. a list), and execute the same operation on every member of the sequence. The `for` statement is an example of a **control flow** tool in Python – since it changes the order in which the individual lines of code are executed. Usually, code is executed line-by-line, from the first line of the file to the last one. Control flow tools help us to change this behavior – which is a key component of programming.\n",
        "\n",
        "In this tutorial, we will learn about many of the control flow tools in Python. We will start with conditional statements, and then dive deeper into the idea of looping. Eventually, we will close with the idea of functions, and how to define and use them in Python."
      ]
    },
    {
      "cell_type": "markdown",
      "metadata": {
        "id": "VfV0tAxHvEhD"
      },
      "source": [
        "## Conditional Statements"
      ]
    },
    {
      "cell_type": "markdown",
      "metadata": {
        "id": "2hsIiZl9vK0O"
      },
      "source": [
        "### `if` Statements"
      ]
    },
    {
      "cell_type": "markdown",
      "metadata": {
        "id": "OPASbdm6vaw-"
      },
      "source": [
        "Arguably, the most well-known (and usually, the most intuitive) statement is the `if` statement. In Python, the `if` is followed by an expression and a colon (`:`). The following line(s) are only executed *if* the expression evaluates to `True`.\n",
        "> ❗  As for the `for` statement, all code that should be executed under this control statement must be written with indentation. If indentation is wrong (or inconsistent), this will lead to a `SyntaxError`!\n",
        "\n",
        "In the following example, the code that is controlled by the `if` statement is only executed if the expression `a > 3` evaluates to `True`."
      ]
    },
    {
      "cell_type": "code",
      "execution_count": null,
      "metadata": {
        "id": "FB9ZOXEisMtB"
      },
      "outputs": [],
      "source": [
        "a = 7\n",
        "\n",
        "if a > 3:\n",
        "    print(\"The variable a is greater than 3!\")\n",
        "    difference = a - 3\n",
        "    print(f\"The difference to 3 is {difference}\")\n",
        "\n",
        "print(\"This statement is always executed, no matter what the value of a is!\")"
      ]
    },
    {
      "cell_type": "markdown",
      "metadata": {
        "id": "XnMvrPgbxC8Z"
      },
      "source": [
        "> ❗  In our first tutorial, we learned that every expression can be evaluated as either `True` or `False` – in other words, we can call `bool(...)` on every variable. We must keep this in mind when using `if` statements.\n",
        "\n",
        "```\n",
        "🎮  Predict the outcome of the following code cell!\n",
        "```"
      ]
    },
    {
      "cell_type": "code",
      "execution_count": null,
      "metadata": {
        "id": "DPVe67ciw2fS"
      },
      "outputs": [],
      "source": [
        "a = 8\n",
        "b = 2\n",
        "c = \"Computer\"\n",
        "\n",
        "if a <= b:\n",
        "    print(\"Help me!\")\n",
        "\n",
        "if a % b < 3:\n",
        "    print(\"I love to\")\n",
        "\n",
        "if a - 4 * b:\n",
        "    print(\"I have to\")\n",
        "\n",
        "if c:\n",
        "    print(\"learn Python!\")\n",
        "\n",
        "if len(c) > 10:\n",
        "    print(\"go home!\")"
      ]
    },
    {
      "cell_type": "markdown",
      "metadata": {
        "id": "DsiM9nY1yR-U"
      },
      "source": [
        "We can also evaluate more complex logics using conditional statements. The `else` statement allows us to define code that should be executed if the conditional statement does not evaluate to `True`."
      ]
    },
    {
      "cell_type": "code",
      "execution_count": null,
      "metadata": {
        "id": "ayG1oe2Ox-l6"
      },
      "outputs": [],
      "source": [
        "my_problems = 2\n",
        "my_happiness = 8\n",
        "\n",
        "if my_problems > my_happiness:\n",
        "    print(\"Help me!\")\n",
        "\n",
        "else:\n",
        "    print(\"I'm good!\")"
      ]
    },
    {
      "cell_type": "markdown",
      "metadata": {
        "id": "ZZYYPQZ_48Jc"
      },
      "source": [
        "The `elif` statement (short for: \"else if\") allows us to evaluate multiple `if` statements sequentially."
      ]
    },
    {
      "cell_type": "code",
      "execution_count": null,
      "metadata": {
        "id": "E5_a7LUd5FTl"
      },
      "outputs": [],
      "source": [
        "my_problems = 4\n",
        "my_happiness = 4\n",
        "\n",
        "if my_problems > my_happiness:\n",
        "    print(\"Help me!\")\n",
        "\n",
        "elif my_problems == my_happiness:\n",
        "    print(\"Do I need help? I don't know...\")\n",
        "\n",
        "else:\n",
        "    print(\"I'm okay!\")"
      ]
    },
    {
      "cell_type": "markdown",
      "metadata": {
        "id": "NAol1YA-5rcT"
      },
      "source": [
        "We can also write nested `if`-`else` blocks, where a second conditional statement is executed only under a certain condition of the first conditional statement. In these scenarios, the `if`-`elif`-`else` logic from above still applies.\n",
        "\n",
        "> ❗  Proper indentation is crucial! If one indentation level corresponds to four spaces, then two indentation levels correspond to eight spaces, etc.\n",
        "\n",
        "> 💡  Many code development tools (including Jupyter Notebooks like this one) support you in indentation. After a statement that requires indentation, they automatically jump to the right cursor position."
      ]
    },
    {
      "cell_type": "code",
      "execution_count": null,
      "metadata": {
        "id": "lVxpSW2s5tCh"
      },
      "outputs": [],
      "source": [
        "my_problems = 4\n",
        "my_happiness = 4\n",
        "\n",
        "if my_problems >= 4:\n",
        "    print(\"I have many problems...\")\n",
        "\n",
        "    if my_hapiness > 4:\n",
        "        print(\"...but I have even more things to be happy about.\")\n",
        "\n",
        "    else:\n",
        "        print(\"...and that's bothering me.\")\n",
        "\n",
        "else:\n",
        "    print(\"I don't have that many problems...\")\n",
        "\n",
        "    if my_happiness > 4:\n",
        "        print(\"...and life is good.\")\n",
        "\n",
        "    else:\n",
        "        print(\"...but they're bothering me a lot.\")"
      ]
    },
    {
      "cell_type": "markdown",
      "metadata": {
        "id": "McHAXkCT727d"
      },
      "source": [
        "Conditional logic is crucial for programming, since it allows us to evaluate and compare the values of variables which are assigned throughout the course of our program.\n",
        "\n",
        "As a simple example, let us consider a physical simulation in which we want to model the behavior of water. In the first step of our program, we calculate the temperature, which is stored in a variable `temperature`. The following behavior of the simulation strongly depends on whether water is a solid, a liquid or a gas at the given temperature. We could use conditional logic here to decide how the program should continue.\n",
        "\n",
        "```\n",
        "🎮  Complete the following code cell\n",
        "so that it prints the correct phase of water,\n",
        "given the temperature (which is calculated in K).\n",
        "```"
      ]
    },
    {
      "cell_type": "code",
      "execution_count": null,
      "metadata": {
        "id": "loJ5cKjq8_rE"
      },
      "outputs": [],
      "source": [
        "temperature_kelvin = 297\n",
        "\n",
        "# Complete the code so that it prints `solid`, `liquid` or `gaseous` depending on the temperature!"
      ]
    },
    {
      "cell_type": "markdown",
      "source": [
        "### 🧠 The `match` Statement (*just for further reading*)"
      ],
      "metadata": {
        "id": "tTAn3gF_bIyW"
      }
    },
    {
      "cell_type": "markdown",
      "source": [
        "There may be scenarios in which we want to evaluate the value of one variable against multiple different reference values. Depending on which value the variable has, the code follows different logics. While, in principle, we could write this through an `if`-`elif`-`elif`-`...`-`else` logic, Python has a more convenient way of handling this: the `match` statement.\n",
        "\n",
        "Consider the example below:"
      ],
      "metadata": {
        "id": "GGXV0ZmQbQTl"
      }
    },
    {
      "cell_type": "code",
      "source": [
        "animal = \"Sloth\"\n",
        "\n",
        "match animal:\n",
        "    case \"Monkey\":\n",
        "        print(\"The animal is probably not too dangerous!\")\n",
        "    case \"Tiger\":\n",
        "        print(\"Run for your life!!!\")\n",
        "    case \"Sloth\":\n",
        "        print(\"Thiiiiiiiis iiiiiiiis goooooooing toooooooo beeeeeeee veeeeeerrryyyyyyy sloooooow!\")\n"
      ],
      "metadata": {
        "id": "mrfXF3lsbWGK"
      },
      "execution_count": null,
      "outputs": []
    },
    {
      "cell_type": "markdown",
      "source": [
        "Formally, this would be identical to\n",
        "```\n",
        "if animal == \"Monkey\":\n",
        "    print(\"The animal is probably not too dangerous!\")\n",
        "elif animal == \"Tiger\":\n",
        "    print(\"Run for your life!!!\")\n",
        "elif animal == \"Sloth\":\n",
        "    print(\"Thiiiiiiiis iiiiiiiis goooooooing toooooooo beeeeeeee veeeeeerrryyyyyyy sloooooow!\")\n",
        "```\n",
        "but is arguably more convenient.\n",
        "\n",
        "> ❗  The `match` statement does only check for equality, and cannot evaluate inequality expressions. Therefore, it cannot be used for checking value ranges (as e.g. in the temperature example above)."
      ],
      "metadata": {
        "id": "aLZssRaHB643"
      }
    },
    {
      "cell_type": "markdown",
      "metadata": {
        "id": "vjBCxtKwymeF"
      },
      "source": [
        "## Looping in Python"
      ]
    },
    {
      "cell_type": "markdown",
      "metadata": {
        "id": "q5cSchpJdC67"
      },
      "source": [
        "When we first introduced the `list` data type, we already learned that we can execute the same operations on all elements of the list. This iterative execution of code is also called **looping**. Loops are a key part of any programming language, as they allow us to express a large number of operations in just a few lines of code. Therefore, in this chapter, we will learn many more details of looping."
      ]
    },
    {
      "cell_type": "markdown",
      "metadata": {
        "id": "dlJOmx_2ysU1"
      },
      "source": [
        "### The `for` Loop"
      ]
    },
    {
      "cell_type": "markdown",
      "metadata": {
        "id": "CZvStFP2y2TG"
      },
      "source": [
        "The `for` loop is an operation that allows us to apply the same operation for all elements within an object. All data types that the `for` loop can be used on are called *iterable* data types. So far, we have learned about two iterable data types, namely the `list` and the `str`. In the next chapter, we will learn that `for` loops can be applied to a number of further data types, including `tuple`, `set`, `dict` an many more.\n",
        "\n",
        "> 🔄  The syntax of the `for` loop is as follows:\n",
        "```\n",
        "for variable in iterable:\n",
        "    code_using_variable\n",
        "```\n",
        "Here, `iterable` describes the iterable object we want to loop over (e.g. a `list` or a `str`). `variable` is a variable that is only defined within the loop and, in each iteration, takes on the value of the next item in `iterable`. As discussed for `if`-`elif`-`else` statements, all code under the control statement must be written with proper indentation."
      ]
    },
    {
      "cell_type": "code",
      "execution_count": null,
      "metadata": {
        "id": "Cmm4bhVGfKvU"
      },
      "outputs": [],
      "source": [
        "a = \"Hello World!\"\n",
        "\n",
        "for letter in a:\n",
        "    print(f\"The character is: {letter}\")"
      ]
    },
    {
      "cell_type": "code",
      "execution_count": null,
      "metadata": {
        "id": "7t40SxEzgTHR"
      },
      "outputs": [],
      "source": [
        "b = [0, 2, 4, 6, 8, 10]\n",
        "\n",
        "for number in b:\n",
        "    print(f\"The number is {number}.\")"
      ]
    },
    {
      "cell_type": "markdown",
      "metadata": {
        "id": "-yyu_Pi2gmo2"
      },
      "source": [
        "The `for` loop is rather easy to use, and practical at the same time – however, there is one pitfall.\n",
        "\n",
        "> ❗  One should never modify the size of the element that one is looping over (e.g. append or remove items)!\n",
        "\n",
        "As an example, we want to remove all odd numbers from the list `all_numbers`.\n",
        "\n",
        "There are two strategies how to do that:"
      ]
    },
    {
      "cell_type": "code",
      "execution_count": null,
      "metadata": {
        "id": "_WTtnRwgg_q0"
      },
      "outputs": [],
      "source": [
        "# Strategy A: Loop over a copy of `all_numbers`\n",
        "\n",
        "all_numbers = [0, 1, 2, 3, 4, 5, 6, 7, 8, 9]\n",
        "\n",
        "for number in all_numbers.copy():\n",
        "    if number % 2 != 0:\n",
        "        all_numbers.remove(number)\n",
        "\n",
        "print(all_numbers)"
      ]
    },
    {
      "cell_type": "code",
      "execution_count": null,
      "metadata": {
        "id": "Dyb61cOaiqJR"
      },
      "outputs": [],
      "source": [
        "# Strategy B: Create a new list\n",
        "\n",
        "all_numbers = [0, 1, 2, 3, 4, 5, 6, 7, 8, 9]\n",
        "even_numbers = []\n",
        "\n",
        "for number in all_numbers:\n",
        "    if number % 2 == 0:\n",
        "        even_numbers.append(number)\n",
        "\n",
        "print(even_numbers)"
      ]
    },
    {
      "cell_type": "markdown",
      "source": [
        "The latter strategy is a very useful approach for programming in general: We create an empty list, and in each iteration of a loop, we append the result of our calculation to the empty list.\n",
        "\n",
        "> 🧠  This ability to `append` to a list is a relatively unique feature of Python – since we're modifying the size of the list as we go. In most other programming languages, this would be impossible. We would need to know the size of the final list *a-priori*, and allocate all memory that is required for storing the full list before-hand. This requires a lot more forward thinking, and makes programming tasks more complex.\n",
        "\n",
        "> 🧠  The ability to flexible `append` to a list has one big disadvantage. In every iteration, Python has to re-allocate memory for the new, extended list. This process is slow – and and in very long loops, Python can become extremely inefficient doing that."
      ],
      "metadata": {
        "id": "ifrooitADlR5"
      }
    },
    {
      "cell_type": "markdown",
      "source": [
        "If we want to loop over two (or more) iterables at the same time, the `zip` function can be a useful tool."
      ],
      "metadata": {
        "id": "nIziD7qsjYHK"
      }
    },
    {
      "cell_type": "code",
      "source": [
        "numbers = [1, 3, 5, 7, 9]\n",
        "words = [\"one\", \"three\", \"five\", \"seven\", \"nine\"]\n",
        "\n",
        "for num, word in zip(numbers, words):\n",
        "    print(f\"The number is {num}, and the word is {word}.\")"
      ],
      "metadata": {
        "id": "rmwRz4xUj3KI"
      },
      "execution_count": null,
      "outputs": []
    },
    {
      "cell_type": "markdown",
      "source": [
        "If the two sequences do not have the same length, the loop terminates after the end of the shorter sequence was reached."
      ],
      "metadata": {
        "id": "nasDAnTXkNOn"
      }
    },
    {
      "cell_type": "code",
      "source": [
        "numbers = [1, 3, 5, 7, 9]\n",
        "text = \"This is a string of uneven numbers!\"\n",
        "\n",
        "for number, character in zip(numbers, text):\n",
        "    print(f\"The number is {number}, and the character is \\\"{character}\\\".\")"
      ],
      "metadata": {
        "id": "gAghtrWykWpC"
      },
      "execution_count": null,
      "outputs": []
    },
    {
      "cell_type": "markdown",
      "metadata": {
        "id": "uYoEPzAlyvaX"
      },
      "source": [
        "### Counting in Loops"
      ]
    },
    {
      "cell_type": "markdown",
      "source": [
        "Whenever we want to iterate over a sequence of numbers, Python's built-in `range()` function comes in very handy. `range()` produces an iterable – i.e. something that, like a list, we can iterate over – for all integers up to a given value."
      ],
      "metadata": {
        "id": "M_x8b78Hk7CF"
      }
    },
    {
      "cell_type": "code",
      "source": [
        "for number in range(10):\n",
        "    print(number)"
      ],
      "metadata": {
        "id": "zuvs402JleV8"
      },
      "execution_count": null,
      "outputs": []
    },
    {
      "cell_type": "markdown",
      "source": [
        "The behavior of `range()`can be customized:\n",
        "* `range(stop)` produces the range from 0 to `stop` (excluded), as shown in the example above\n",
        "* `range(start, stop)` produces the range from `start` (included) to `stop` (excluded)\n",
        "* `range(start, stop, step)` produces the range from `start` (included) to `stop` excluded in steps of `step`\n",
        "\n",
        "> ❗ Note that the values of `start`, `stop` and `step` must be integers!\n",
        "\n",
        "```\n",
        "🎮  Create a loop that prints all uneven numbers under 100!\n",
        "```"
      ],
      "metadata": {
        "id": "a85q5N63lsbx"
      }
    },
    {
      "cell_type": "code",
      "source": [
        "# Fill me!"
      ],
      "metadata": {
        "id": "JFM5NjqYmZ1-"
      },
      "execution_count": null,
      "outputs": []
    },
    {
      "cell_type": "markdown",
      "metadata": {
        "id": "prnmQgyUy8WK"
      },
      "source": [
        "The `range()` function is also useful if we want to create a running counter for loops over other variables. We can use the `zip()` function from above to simultaneously loop over an iterable, and the range of indices!"
      ]
    },
    {
      "cell_type": "code",
      "execution_count": null,
      "metadata": {
        "id": "qJomdhe2yn83"
      },
      "outputs": [],
      "source": [
        "text = \"Hello World!\"\n",
        "\n",
        "indices = range(len(text))\n",
        "\n",
        "for num, character in zip(indices, text):\n",
        "    print(f\"Character no. {num} is \\\"{character}\\\"\")"
      ]
    },
    {
      "cell_type": "markdown",
      "source": [
        "Luckily, there is a much more convenient way of doing this in Python: the `enumerate()` function. This function automatically generates the range of indices for a given iterable object, and directly loops over both the indices and the elements."
      ],
      "metadata": {
        "id": "5iSHJxjsnwIl"
      }
    },
    {
      "cell_type": "code",
      "source": [
        "text = \"Hello World!\"\n",
        "\n",
        "for num, character in enumerate(text):\n",
        "    print(f\"Character no. {num} is \\\"{character}\\\"\")"
      ],
      "metadata": {
        "id": "XBkkfw1znvZi"
      },
      "execution_count": null,
      "outputs": []
    },
    {
      "cell_type": "markdown",
      "source": [
        "In principle, there is no difference between these two implementations (`range()` + `zip()`  vs. `enumerate()`). However, the use of `enumerate()` is usually simpler – and especially in more complex code scenarios, we do not want to spend time thinking about defining a `range()`, and the use of `enumerate()` is much more convenient."
      ],
      "metadata": {
        "id": "3l4kdVScoO7p"
      }
    },
    {
      "cell_type": "markdown",
      "source": [
        "```\n",
        "🎮  Write a loop that does the same on the \"Hello World\" string,\n",
        "but without using the `range()` or `enumerate()` functions!\n",
        "```"
      ],
      "metadata": {
        "id": "q-Cu68_uncWK"
      }
    },
    {
      "cell_type": "code",
      "source": [
        "text = \"Hello World!\"\n",
        "\n",
        "# Complete me!"
      ],
      "metadata": {
        "id": "uf_Ivh_rnswN"
      },
      "execution_count": null,
      "outputs": []
    },
    {
      "cell_type": "markdown",
      "metadata": {
        "id": "ItY5rlHby-k9"
      },
      "source": [
        "### The `while` Loop"
      ]
    },
    {
      "cell_type": "markdown",
      "metadata": {
        "id": "0pnPFHVizCyO"
      },
      "source": [
        "The `for` statement is a practical tool for looping over iterable sequences – and is an example of how Python is designed to provide easy and practical solutions. In fact, in many other programming languages, a `for` loop does not exist, and looping over sequences needs to be done using `while` statements.\n",
        "\n",
        "Python also has a `while` statement – and it can come useful at times. Similar to the `if` statement, the `while` statement checks whether the following expression evaluates to `True`. If it does evaluate to `True`, the code under the while statement is executed from top to bottom. Once completed, the expression is evaluated again, and the procedure is repeated until the statement does not evaluate to `True` any more.\n",
        "\n",
        "Admittedly, this verbal description can be rather confusing – so let us illustrate this at an example."
      ]
    },
    {
      "cell_type": "code",
      "execution_count": null,
      "metadata": {
        "id": "InuwqAMPzCXl"
      },
      "outputs": [],
      "source": [
        "words = []\n",
        "\n",
        "while len(words) < 10:\n",
        "    words.append(\"word\")\n",
        "\n",
        "print(words)"
      ]
    },
    {
      "cell_type": "markdown",
      "source": [
        "This code will keep appending the word `\"word\"` to the list until the list is 10 elements long.\n",
        "\n",
        "> ❗  It is important that the variable within the `while` statement is being modified in the loop. If this is not the case, you create an infinite loop!"
      ],
      "metadata": {
        "id": "hWgYeTpgqbI0"
      }
    },
    {
      "cell_type": "code",
      "source": [
        "a = 3\n",
        "\n",
        "while a < 5:\n",
        "    print(\"Hello World!\")"
      ],
      "metadata": {
        "id": "wCOE3KcvqwY-"
      },
      "execution_count": null,
      "outputs": []
    },
    {
      "cell_type": "markdown",
      "source": [
        "In principle, we can also use `while` loops to replicate the behavior of `range()`, `for` and `enumerate`. For this, it is crucial to define a running variable that is increased by 1 in every step of the loop.\n",
        "\n",
        "The following cell replicates the behavior of\n",
        "```\n",
        "for num in range(10):\n",
        "    print(num)\n",
        "```"
      ],
      "metadata": {
        "id": "VqKjSn9MrBIc"
      }
    },
    {
      "cell_type": "code",
      "source": [
        "num = 0\n",
        "\n",
        "while num < 10:\n",
        "    print(num)\n",
        "    num = num + 1"
      ],
      "metadata": {
        "id": "QYA3VyblrWDV"
      },
      "execution_count": null,
      "outputs": []
    },
    {
      "cell_type": "markdown",
      "source": [
        "> 💡  Expressions like `num = num + 1` that modify the value of e.g. an integer are quite common in Python. For these reasons, there are shortcuts for expressing these re-assignment steps:\n",
        "\n",
        "> The `+=` operator adds a value, and re-assigns the result to the current variable. E.g., `a += 1` is equivalent to `a = a + 1`. Similarly, Python contains the operators `-=`, `*=` and `/=`."
      ],
      "metadata": {
        "id": "QdJjE39Ornma"
      }
    },
    {
      "cell_type": "markdown",
      "source": [
        "```\n",
        "🎮  Predict the outcome of the following loop.\n",
        "```"
      ],
      "metadata": {
        "id": "FBKALXA9si2S"
      }
    },
    {
      "cell_type": "code",
      "source": [
        "number = 16384\n",
        "\n",
        "while number > 1:\n",
        "    print(number)\n",
        "    number /= 2"
      ],
      "metadata": {
        "id": "H4j8D3l8ss7G"
      },
      "execution_count": null,
      "outputs": []
    },
    {
      "cell_type": "markdown",
      "source": [
        "With this general behavior, `while` loops can, in principle, be used to iterate over sequences such as `list` or `str` variables.\n",
        "> 🔄  Remember that we can access the `i`-th element of a list or string via *indexing*."
      ],
      "metadata": {
        "id": "pEsiaoy3tJ__"
      }
    },
    {
      "cell_type": "code",
      "source": [
        "text = \"Hello World!\"\n",
        "counter = 0\n",
        "\n",
        "while counter < len(text):\n",
        "    character = text[counter]\n",
        "    print(f\"Character number {counter} is \\\"{character}\\\"\")\n",
        "    counter = counter + 1"
      ],
      "metadata": {
        "id": "iOzxbg2Xt3UM"
      },
      "execution_count": null,
      "outputs": []
    },
    {
      "cell_type": "markdown",
      "source": [
        "In fact, this is the way most hardware-oriented programming languages (e.g. C, C++ or Fortran) approach the challenge of looping over sequences. We see that it works – but `for` and `enumerate()` certainly provide us with a more intuitive way of doing this.\n",
        "\n",
        "However, `while` loops can still become important in programming, and we will see scenarios where this is the case, throughout the course of this tutorial series."
      ],
      "metadata": {
        "id": "KUW_9WRJuSun"
      }
    },
    {
      "cell_type": "markdown",
      "metadata": {
        "id": "XBl8Tbg_zE5U"
      },
      "source": [
        "### Breaking and Continuing Loops"
      ]
    },
    {
      "cell_type": "markdown",
      "source": [
        "There may be scenarios in which we want to directly terminate a loop. As an example, we want to loop over a list to find a specific element – once we have found it, there is no need to continue searching.\n",
        "\n",
        "This behavior of \"early termination\" of a loop is called **breaking** the loop, and is realized with the `break` statement."
      ],
      "metadata": {
        "id": "iW4iP9kvvCzP"
      }
    },
    {
      "cell_type": "code",
      "execution_count": null,
      "metadata": {
        "id": "1XebxtdDzLtG"
      },
      "outputs": [],
      "source": [
        "hellos = [\"Hello World!\", \"Hello Class!\", \"Hello Python!\", \"Hello Leonie!\", \"Hello Felix!\"]\n",
        "\n",
        "desired_hello = None\n",
        "\n",
        "for sentence in hellos:\n",
        "    if sentence[-7:-1] == \"Python\":\n",
        "        desired_hello = sentence\n",
        "        break\n",
        "    print(f\"Finished testing the sentence \\\"{sentence}\\\"\")\n",
        "\n",
        "if desired_hello:\n",
        "    print(\"Done! Found the Python-containing sentence!\")\n",
        "else:\n",
        "    print(\"Done! No Python-containing sentence found!\")"
      ]
    },
    {
      "cell_type": "markdown",
      "source": [
        "> ❗ Note that, in the case of nested loops, the `break` statement only breaks the loop that it is contained in. A `break` statement in the inner loop only breaks the current cycle of the inner loop, and the outer loop continues normally."
      ],
      "metadata": {
        "id": "rAxeXtjjyEBQ"
      }
    },
    {
      "cell_type": "markdown",
      "source": [
        "```\n",
        "🎮  Predict the outcome of the following cell!\n",
        "```"
      ],
      "metadata": {
        "id": "xr2iZryiyjZc"
      }
    },
    {
      "cell_type": "code",
      "source": [
        "words = [\"Python\", \"Hello\", \"SCICS\", \"Computer\"]\n",
        "\n",
        "for word in words:\n",
        "    for letter in word:\n",
        "        if letter == \"o\":\n",
        "            break\n",
        "        print(letter)"
      ],
      "metadata": {
        "id": "CyrNshoDygWZ"
      },
      "execution_count": null,
      "outputs": []
    },
    {
      "cell_type": "markdown",
      "source": [
        "In addition, there are scenarios in which we want to directly jump to the next iteration of the loop, without finishing the execution of the current iteration. In Python, this is realized with a `continue` statement."
      ],
      "metadata": {
        "id": "S6Bm-S82xO_s"
      }
    },
    {
      "cell_type": "code",
      "source": [
        "for number in range(20):\n",
        "    if number % 3 == 0:\n",
        "        continue\n",
        "\n",
        "    print(f\"The current number is {number}\")"
      ],
      "metadata": {
        "id": "9LAZBAUZy9wg"
      },
      "execution_count": null,
      "outputs": []
    },
    {
      "cell_type": "markdown",
      "source": [
        "```\n",
        "🎮  Rationalize the following piece of code.\n",
        "Describe what the list `pf` contains after completion of the code.\n",
        "```"
      ],
      "metadata": {
        "id": "Saa-040izmBK"
      }
    },
    {
      "cell_type": "code",
      "source": [
        "num = 36\n",
        "pf = []\n",
        "\n",
        "divisor = 2\n",
        "while num > 1:\n",
        "\n",
        "    if num % divisor == 0:\n",
        "        pf.append(divisor)\n",
        "        num /= divisor\n",
        "        continue\n",
        "\n",
        "    divisor += 1\n",
        "\n",
        "print(pf)"
      ],
      "metadata": {
        "id": "xQkfLTeD0Evl"
      },
      "execution_count": null,
      "outputs": []
    },
    {
      "cell_type": "markdown",
      "source": [
        "Just for complete-ness: In addition to `break` and `continue`, Python implements the `pass` statement. A `pass` statement does not do anything - the code just \"passes by\" it. In actual coding, this is only used if Python syntax requires a statement, but we don't want to do anything.\n",
        "\n",
        "For example, in the following code, we want to print every letter of the text, but want to skip all spaces:"
      ],
      "metadata": {
        "id": "2YybBXHO0waV"
      }
    },
    {
      "cell_type": "code",
      "source": [
        "text = \"Super Mario is a small Italian plumber.\"\n",
        "\n",
        "for letter in text:\n",
        "    if letter == \" \":\n",
        "        pass\n",
        "    else:\n",
        "        print(letter)"
      ],
      "metadata": {
        "id": "3kA5JUqP1eSh"
      },
      "execution_count": null,
      "outputs": []
    },
    {
      "cell_type": "markdown",
      "metadata": {
        "id": "gqJjn5NOzi55"
      },
      "source": [
        "## Functions in Python"
      ]
    },
    {
      "cell_type": "markdown",
      "source": [
        "During programming, it is very common that we need to execute the same operations at different places of the code. In this case, we could *copy-paste* the same code to multiple places – or we can define **functions** that wrap this code into a single expression that can be reused at different places in our program. In this chapter, we will learn the basics of how to define and use functions, as well as different ways of how to work with functions in practice.\n",
        "\n",
        "From a software development perspective, defining functions is very desirable, since we start *modularizing* our code into small, re-usable maintainable units.\n",
        "\n",
        "> 💡 A *rule of thumb* for best-practice coding: If you start copy-pasting multiple lines of code, you code could (and should!) be more modular!"
      ],
      "metadata": {
        "id": "WC7ZJ2FV2C2T"
      }
    },
    {
      "cell_type": "markdown",
      "metadata": {
        "id": "BwjdTiEvzmwn"
      },
      "source": [
        "### Defining and Calling Functions"
      ]
    },
    {
      "cell_type": "markdown",
      "source": [
        "A function is defined using the `def` statement, following the name of the function, parentheses (possibly with arguments, see below), and a colon. The actual code of the function is then written with indentation."
      ],
      "metadata": {
        "id": "pmaNdNzG199Y"
      }
    },
    {
      "cell_type": "code",
      "source": [
        "def greet_world():\n",
        "    print(\"Hello World!\")"
      ],
      "metadata": {
        "id": "yrU49rq-19T9"
      },
      "execution_count": null,
      "outputs": []
    },
    {
      "cell_type": "markdown",
      "source": [
        "We have now defined a function that is called `greet_world`.\n",
        "\n",
        "> ❗  In Python, function names follow the same syntax rules (and recommendations) as variable names.\n",
        "\n",
        "> 🔄  Refer to Tutorial 01 for a recap of variable naming rules.\n",
        "\n",
        "Once a function is defined, it can be called anywhere in the code. Calling a function requires the name of the function, followed by parentheses."
      ],
      "metadata": {
        "id": "TVqiaZBR364b"
      }
    },
    {
      "cell_type": "code",
      "execution_count": null,
      "metadata": {
        "id": "VAUaw49jzkTF"
      },
      "outputs": [],
      "source": [
        "greet_world()"
      ]
    },
    {
      "cell_type": "markdown",
      "source": [
        "Arguably, such a function is not very useful for programming yet. Therefore, functions have a number of additional features that make them an enormously flexible and powerful tool for programing in Python.\n",
        "\n",
        "The first of those features is the possibility to pass other values to the function, which can then be used for executing the code within the function. These variables are called **arguments**.\n",
        "\n",
        "In the following cell, the function takes one argument called `name`."
      ],
      "metadata": {
        "id": "5mTBMWMg4g64"
      }
    },
    {
      "cell_type": "code",
      "source": [
        "def greet_person(name):\n",
        "    print(f\"Hello {name}!\")\n",
        "\n",
        "greet_person(\"Leonie\")"
      ],
      "metadata": {
        "id": "0nWKjvsn4rTM"
      },
      "execution_count": null,
      "outputs": []
    },
    {
      "cell_type": "markdown",
      "source": [
        "Functions can also take more than one argument:"
      ],
      "metadata": {
        "id": "LKK-WzYJ5Uf_"
      }
    },
    {
      "cell_type": "code",
      "source": [
        "def print_sum(x, y, z):\n",
        "    result = x + y + z\n",
        "    print(f\"The sum is {result}!\")\n",
        "\n",
        "print_sum(2, 3, 7.45)"
      ],
      "metadata": {
        "id": "vUafIVT35TXf"
      },
      "execution_count": null,
      "outputs": []
    },
    {
      "cell_type": "markdown",
      "source": [
        "```\n",
        "🎮  What happens if we do not pass exactly three arguments\n",
        "(e.g. if we pass two or four arguments)?\n",
        "```"
      ],
      "metadata": {
        "id": "u0ofdz-rKVwk"
      }
    },
    {
      "cell_type": "code",
      "source": [
        "# Try it!"
      ],
      "metadata": {
        "id": "LK0YsFAcKixR"
      },
      "execution_count": null,
      "outputs": []
    },
    {
      "cell_type": "markdown",
      "source": [
        "So far, we have only seen functions that do something, and then print the result of what they have done. However, this is rarely done in practice.\n",
        "\n",
        "What is much more useful is the ability of functions to **return** the result of their calculations. In Python, this is done using the `return` statement. Usually, we take this value, and assign it to a new variable."
      ],
      "metadata": {
        "id": "z7Xqi6fJ41CW"
      }
    },
    {
      "cell_type": "code",
      "source": [
        "def double_sum(x, y):\n",
        "    result = 2 * (x + y)\n",
        "    return result\n",
        "\n",
        "a = 3\n",
        "b = double_sum(a, 4)\n",
        "\n",
        "print(b)"
      ],
      "metadata": {
        "id": "UhP40z2T45T2"
      },
      "execution_count": null,
      "outputs": []
    },
    {
      "cell_type": "markdown",
      "source": [
        "> ❗  In principle, a function can also modify the values of arguments, as well as the values of other variable which are not explicitly passed to the function as arguments. However, this behavior should be strongly avoided! We will learn more about this in the following tutorials."
      ],
      "metadata": {
        "id": "Su5a0R63HhY1"
      }
    },
    {
      "cell_type": "markdown",
      "source": [
        "```\n",
        "🎮  Write a function called `parrot` that takes in two variables:\n",
        "A piece of text, and a number `n`.\n",
        "The function should return a single string, repeating the text `n` times.\n",
        "Test your function!\n",
        "```"
      ],
      "metadata": {
        "id": "HgwYMYmJ535N"
      }
    },
    {
      "cell_type": "code",
      "source": [
        "# Define the parrot function!"
      ],
      "metadata": {
        "id": "JlTJJFXh6dtv"
      },
      "execution_count": null,
      "outputs": []
    },
    {
      "cell_type": "markdown",
      "metadata": {
        "id": "O_eUT3tXz5ao"
      },
      "source": [
        "### Function Documentation and Type Hinting"
      ]
    },
    {
      "cell_type": "markdown",
      "source": [
        "Functions can easily become complex – and it is not always obvious what types of inputs the function expects, and what it does. Taking the `parrot` function from above as an example, it is not directly obvious from the code what variable types it expects, what it does, and what variable type it returns. For this purpose, it is good practice to **document** code, and to explain in detail what it is doing. For this, there are two \"best practice\" techniques:\n",
        "* **Type Hinting** annotates variables with the respective variable types.\n",
        "* **Docstrings** verbalize what a function does, and provide a human-readable description."
      ],
      "metadata": {
        "id": "2ZqSMnt44bRs"
      }
    },
    {
      "cell_type": "markdown",
      "source": [
        "**Type Hinting** is not limited to functions – in principle, we can type-hint any variable in Python. For this, we modify the variable assignment step by placing a colon, and the name of the data type, after the variable name, followed by the actual assignment operation.\n",
        "\n",
        "Examples:\n",
        "```\n",
        "a: int = 3\n",
        "b: float = 4.317\n",
        "c: str = \"Hello World!\"\n",
        "d: list = [\"Hello\", \"World!\"]\n",
        "e: bool = True\n",
        "```\n",
        "\n",
        "> ❗  It is important to note that type hints are not processed by the Python interpreter – they do not modify the behavior of the Python code in any way. Their only purpose is to make the code better readable for a human user.\n",
        "\n",
        "> ❗  The above has an important consequence: We can, in principle, also mislead the user, e.g. by stating `a: int = 4.134` – since the Python interpreter ignores any type hints, this would not cause any problems – but would be highly confusing for the user!"
      ],
      "metadata": {
        "id": "KPCCbDogGVTl"
      }
    },
    {
      "cell_type": "markdown",
      "source": [
        "Similarly, type hints can be used to specify the argument and return data types of a function. For the `parrot` function from above, this would look as follows:\n",
        "\n",
        "```\n",
        "def parrot(text: str, n: int) -> str:\n",
        "    ...\n",
        "```\n",
        "\n",
        "The argument data types are specified with a colon (as discussed above for regular variables). The return data type is specified after a stylized arrow `->` and before the colon that terminates the `def` statement."
      ],
      "metadata": {
        "id": "Wh5Aqt-MHl0x"
      }
    },
    {
      "cell_type": "markdown",
      "source": [
        "In addition to type hints, documentation strings (short: **docstrings**) provide additional information about the behavior of a function. Typically, docstrings are placed after the `def` statement as multi-line strings (starting and terminating with triple quotation marks`\"\"\"`).\n",
        "\n",
        "Typically, a docstring consists of the following four elements:\n",
        "* A description of the general function behavior.\n",
        "* A description of all arguments.\n",
        "* A description of the return value(s).\n",
        "* A description of possible errors (exceptions, see later in this tutorial series).\n",
        "\n",
        "There are different style guidelines for how to format docstrings. One of the most prominent ones is the *Google* docstring format, which is shown below."
      ],
      "metadata": {
        "id": "1p_sNsocIIcG"
      }
    },
    {
      "cell_type": "code",
      "source": [
        "def parrot(text: str, n: int) -> str:\n",
        "    \"\"\"\n",
        "    The parrot function takes in a text, and returns `n` repeats of this text.\n",
        "\n",
        "    Args:\n",
        "        text (str): The text that should be repeated.\n",
        "        n (int): The number of times this text should be repeated.\n",
        "\n",
        "    Returns:\n",
        "        str: The `n` repeats of the text.\n",
        "    \"\"\"\n",
        "    return (text + \" \") * n"
      ],
      "metadata": {
        "id": "lIcMgRrV773-"
      },
      "execution_count": null,
      "outputs": []
    },
    {
      "cell_type": "markdown",
      "source": [
        "As with type hints, docstrings do not add anything to the direct functionality of the code – but they increase readability, understandability, and reusability, which are important characteristics for *good* code.\n",
        "\n",
        "Moreover, many coding software tools (e.g. interactive deveoloper environments) automatically read docstrings to assist you in coding. Especially for more complex pieces of code, docstrings are absolutely necessary for not getting lost in code!\n",
        "\n",
        "> 💡  The more you code, the more you will realize that proper code documentation is extremely helpful - not only for others, but mainly for yourself. Every software developer has experienced this multiple times: You revisit your own code, and do not understand the logic behind it any more, because it has not been documented adequately!"
      ],
      "metadata": {
        "id": "B4IgGqaqJEJo"
      }
    },
    {
      "cell_type": "markdown",
      "metadata": {
        "id": "sInnHa8Fzt8W"
      },
      "source": [
        "### Positional and Keyword Arguments"
      ]
    },
    {
      "cell_type": "markdown",
      "metadata": {
        "id": "sZcJ49NAz8ou"
      },
      "source": [
        "Above, we have learned that functions can take in multiple arguments. So far, we have only defined arguments in the form of positional arguments – i.e. passing a value for each argument in the exact order that is defined in the function declaration. However, there are a number of further ways how to pass arguments to a function.\n",
        "\n",
        "For this, let us consider the `parrot` function again."
      ]
    },
    {
      "cell_type": "code",
      "source": [
        "def parrot(text: str, n: int = 3) -> str:\n",
        "    \"\"\"\n",
        "    The parrot function takes in a text, and returns `n` repeats of this text.\n",
        "\n",
        "    Args:\n",
        "        text (str): The text that should be repeated.\n",
        "        n (int): The number of times this text should be repeated. Defaults to 3.\n",
        "\n",
        "    Returns:\n",
        "        str: The `n` repeats of the text.\n",
        "    \"\"\"\n",
        "    return (text + \" \") * n"
      ],
      "metadata": {
        "id": "H4RKrtOoLgO0"
      },
      "execution_count": null,
      "outputs": []
    },
    {
      "cell_type": "markdown",
      "source": [
        "Fundamentally, we can pass an argument to a function in two ways:\n",
        "\n",
        "* **Positional Arguments** (often abbreviated as `args`) are passed by just entering the value. The position of the argument in the list of passed values must match the position of the argument in the argument list.\n",
        "* **Keyword Arguments** (often abbreviated as `kwargs`) are passed by entering a key-value pair, i.e. by passing both the variable name and the variable value.\n",
        "\n",
        "Valid examples are shown below:\n",
        "```\n",
        "# Positional arguments only\n",
        "a = parrot(\"Hello World!, 3)\n",
        "\n",
        "# Keyword arguments only\n",
        "a = parrot(text=\"Hello World\", n=3)\n",
        "a = parrot(n=3, text=\"Hello World!)\n",
        "\n",
        "# Positional and keyword arguments\n",
        "a = parrot(\"Hello World!\", n=3)\n",
        "```\n",
        "\n",
        "> ❗  Positional arguments can only be passed before keyword arguments (\"args-before-kwargs\" rule). Once an argument is passed as a keyword argument, all following arguments need to be passed as keyword arguments, too!\n",
        "\n",
        "> Function calls like `a = parrot(text=\"Hello World\", 3)` are syntactically invalid!\n",
        "\n",
        "```\n",
        "🎮  Test the different ways of calling the `parrot function`,\n",
        "and validate the expected behavior!\n",
        "```"
      ],
      "metadata": {
        "id": "-HK33YVdLhOu"
      }
    },
    {
      "cell_type": "code",
      "source": [
        "# Try me!\n",
        "\n",
        "a = parrot(\"I love Python!\", 3)\n",
        "\n",
        "print(a)"
      ],
      "metadata": {
        "id": "WAH5zpSUNrwM"
      },
      "execution_count": null,
      "outputs": []
    },
    {
      "cell_type": "markdown",
      "source": [
        "Moreover, Python allows us to define **default values** for specific variables in a function. We can do this by assigning an explicit value in the function declaration line (i.e. the `def ...` line).\n",
        "\n",
        "In the following example of the modified `parrot` function, the argument `n` is assigned a default value of 2."
      ],
      "metadata": {
        "id": "NmSn3tR_LIRg"
      }
    },
    {
      "cell_type": "code",
      "execution_count": null,
      "metadata": {
        "id": "-Rh0Q8_0zzjF"
      },
      "outputs": [],
      "source": [
        "def parrot(text: str, n: int = 2) -> str:\n",
        "    \"\"\"\n",
        "    The parrot function takes in a text, and returns `n` repeats of this text.\n",
        "\n",
        "    Args:\n",
        "        text (str): The text that should be repeated.\n",
        "        n (int): The number of times the text should be repeated. Defaults to 2.\n",
        "\n",
        "    Returns:\n",
        "        str: The `n` repeats of the text.\n",
        "    \"\"\"\n",
        "    return (text + \" \") * n"
      ]
    },
    {
      "cell_type": "markdown",
      "source": [
        "This means that we *can*, but we *don't have to* pass an explicit value for `n`. If we pass a value for `n` (either as a positional or a keyword argument), this value is used. If we do not pass a value, the default value is used instead.\n",
        "\n",
        "```\n",
        "🎮  Predict the outcome of the following code cell!\n",
        "```"
      ],
      "metadata": {
        "id": "BkyV46UeORhP"
      }
    },
    {
      "cell_type": "code",
      "source": [
        "line = parrot(\"I like to\", 1) + parrot(\"move it\")\n",
        "\n",
        "song = parrot(line, 3)\n",
        "\n",
        "print(song)"
      ],
      "metadata": {
        "id": "UVUI-pH0OonA"
      },
      "execution_count": null,
      "outputs": []
    },
    {
      "cell_type": "markdown",
      "source": [
        "> ❗  Note that, similar to the \"args-before-kwargs\" rule, there is a \"required-before-optional\" rule. An argument with a default value must not be followed by an argument without a default value. In other words – if you set a default value for an argument, then all following arguments also need to have default values.\n",
        "\n",
        "> Valid Example:\n",
        "```\n",
        "def calculate(x, y=2, z=3):\n",
        "    return x * y * z\n",
        "```\n",
        "\n",
        "> Invalid Example:\n",
        "```\n",
        "def calculate(x, y=2, z):\n",
        "    return x * y * z\n",
        "```"
      ],
      "metadata": {
        "id": "hOE0BEh0VzTn"
      }
    },
    {
      "cell_type": "markdown",
      "source": [
        "> 🧠  By default – and as discussed above – all arguments can be passed *either* as a positional argument, *or* as a keyword argument, as long as we adhere to the \"args-before-kwargs\" rule. In principle, we can also constrain certain arguments to be positional-only arguments, or keyword-only arguments. For this, we can use the `/` and the `*` symbol in the arguments list. Any arguments before the `/` are positional-only, and any arguments after the `*` are keyword-only.\n",
        "\n",
        "> Examples:\n",
        "```\n",
        "def fun(pos1, pos2, ..., /, pos_or_kw1, pos_or_kw_2, ... *, kw1, kw2, ...):\n",
        "    \"\"\"\n",
        "    pos1, pos2, ...: positional only\n",
        "    pos_or_kw1, pos_or_kw2, ...: positional or keyword\n",
        "    kw1, kw2, ...: keyword only\n",
        "    \"\"\"\n",
        "    ...\n",
        "```\n",
        "```\n",
        "def fun(pos1, pos2, ..., /, pos_or_kw1, pos_or_kw2, ...):\n",
        "    ...\n",
        "```\n",
        "```\n",
        "def fun(pos_or_kw1, pos_or_kw2, ..., *, kw1, kw2, ...):\n",
        "    ...\n",
        "```"
      ],
      "metadata": {
        "id": "xb3K-mTqP918"
      }
    },
    {
      "cell_type": "markdown",
      "source": [
        "In addition, Python allows us to specify a **flexible number of arguments** for a function.\n",
        "\n",
        "For positional arguments, this can be done with the **unpacking operators** `*` (for positional arguments) and `**` (for keyword arguments).\n",
        "\n",
        "Let us consider this at a simple example:"
      ],
      "metadata": {
        "id": "NVg7oy7JSnSv"
      }
    },
    {
      "cell_type": "code",
      "source": [
        "def call_names(*names):\n",
        "    for name in names:\n",
        "        print(name)\n",
        "\n",
        "call_names(\"Mario\", \"Luigi\", \"Peach\", \"Bowser\")"
      ],
      "metadata": {
        "id": "OCBjYdCHPLBT"
      },
      "execution_count": null,
      "outputs": []
    },
    {
      "cell_type": "markdown",
      "source": [
        "When calling this function with a variable number of names as arguments, all these names are combined into a single iterable object `names`. This object behaves like a list in the sense that we can iterate through it with a `for` loop, or we can access individual elements by their index.\n",
        "\n",
        "> ❗  To be precise, `names` is not a list, but an immutable data type called `tuple`. We will learn more about tuples in the next chapter."
      ],
      "metadata": {
        "id": "Gq-p-oNTTfql"
      }
    },
    {
      "cell_type": "markdown",
      "source": [
        "Following the \"args-before-kwargs\" rule, any arguments that come before the unpacked `*names` argument must be passed as positional arguments. Any arguments that come after the unpacked `*names` argument must be passed as keyword arguments."
      ],
      "metadata": {
        "id": "1cbB2dyyUbBf"
      }
    },
    {
      "cell_type": "code",
      "source": [
        "def call_names(team_name, *names, team_color):\n",
        "    print(f\"Team \\\"{team_name}\\\" (team color: {team_color}):\")\n",
        "    for name in names:\n",
        "        print(f\"   {name}\")\n",
        "\n",
        "call_names(\"The good ones\", \"Mario\", \"Luigi\", \"Peach\", team_color=\"red\")"
      ],
      "metadata": {
        "id": "qsQzeNgeTdEt"
      },
      "execution_count": null,
      "outputs": []
    },
    {
      "cell_type": "markdown",
      "source": [
        "```\n",
        "Define a function `add_numbers` that takes in\n",
        "an arbitrary number of inputs, and calculates their sum!\n",
        "```"
      ],
      "metadata": {
        "id": "FhuhLFWDVhMa"
      }
    },
    {
      "cell_type": "code",
      "source": [
        "def add_numbers # Complete this cell!"
      ],
      "metadata": {
        "id": "IY67FE7UUtyx"
      },
      "execution_count": null,
      "outputs": []
    },
    {
      "cell_type": "markdown",
      "source": [
        "Similarly, we can define functions that take in an arbitrary number of additional keyword arguments. In the following example, `properties` describes an arbitrary number of additional keyword arguments."
      ],
      "metadata": {
        "id": "t5O-1mZsXOuW"
      }
    },
    {
      "cell_type": "code",
      "source": [
        "def describe_character(name, **properties):\n",
        "    print(f\"The Character {name} has the following properties\")\n",
        "    for prop in properties:\n",
        "        print(f\"    {prop}: {properties[prop]}\")\n",
        "\n",
        "describe_character(\"Mario\", gender=\"male\", job=\"plumber\", shirt_color=\"red\", pant_color=\"blue\")"
      ],
      "metadata": {
        "id": "WIb3FPfrXh-4"
      },
      "execution_count": null,
      "outputs": []
    },
    {
      "cell_type": "markdown",
      "source": [
        "Here, the variable `properties` is a so-called *dictionary* (data type: `dict`), a mapping of key-value pairs. We will learn more about dictionaries in the following tutorial."
      ],
      "metadata": {
        "id": "mtVkVhtaYEkB"
      }
    },
    {
      "cell_type": "markdown",
      "source": [
        "Overall, functions are extremely useful code controls in Python. Once we write more complex code, using functions is inevitable, because it allows us...\n",
        "* ...to avoid repetitive pieces of code.\n",
        "* ...to structure our code better.\n",
        "* ...to make code more readable (for ourselves and others)."
      ],
      "metadata": {
        "id": "e5xWoBOaYPIt"
      }
    },
    {
      "cell_type": "markdown",
      "source": [
        "### 🧠 Anonymous Functions (*just for further reading*)"
      ],
      "metadata": {
        "id": "sXIwA5I_aegp"
      }
    },
    {
      "cell_type": "markdown",
      "source": [
        "Python provides a simplified way of defining small functions in a single line of code. These functions are often referred to as \"anonymous functions\", and can be defined using the `lambda` keyword.\n",
        "\n",
        "As an example, the following two functions are equivalent:\n",
        "```\n",
        "def square(x: float) -> float:\n",
        "    return x**2\n",
        "```\n",
        "\n",
        "```\n",
        "square = lambda x: x**2\n",
        "```\n",
        "\n",
        "Both can be called the exact same way:\n",
        "```\n",
        "a = square(3.14159)\n",
        "```\n",
        "\n",
        "```\n",
        "🎮  Express the function `lambda x, y: x**2 + y**2` with a `def` statement.\n",
        "```"
      ],
      "metadata": {
        "id": "llXxW48bawKl"
      }
    },
    {
      "cell_type": "code",
      "source": [
        "# Try it!"
      ],
      "metadata": {
        "id": "u_j9yti2YqJY"
      },
      "execution_count": null,
      "outputs": []
    },
    {
      "cell_type": "markdown",
      "source": [
        "`lambda` statements are useful for small, simple operations where one has to define a fuction for a simple operation \"on the fly\".\n",
        "\n",
        "However, the use cases for lambda functions are limited, since they have a number of limitations:\n",
        "* They only allow single-line expressions.\n",
        "* Default values or flexible numbers of arguments are not possible.\n",
        "* They do not support type hinting or documentation.\n",
        "\n",
        "Therefore, function should almost always be declared using `def` statements!"
      ],
      "metadata": {
        "id": "Yo60qyTjKb4f"
      }
    }
  ],
  "metadata": {
    "colab": {
      "provenance": [],
      "include_colab_link": true
    },
    "kernelspec": {
      "display_name": "Python 3",
      "name": "python3"
    },
    "language_info": {
      "name": "python"
    }
  },
  "nbformat": 4,
  "nbformat_minor": 0
}