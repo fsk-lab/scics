{
  "nbformat": 4,
  "nbformat_minor": 0,
  "metadata": {
    "colab": {
      "provenance": [],
      "authorship_tag": "ABX9TyPtT33MRrYx1Buax7nvDttM",
      "include_colab_link": true
    },
    "kernelspec": {
      "name": "python3",
      "display_name": "Python 3"
    },
    "language_info": {
      "name": "python"
    }
  },
  "cells": [
    {
      "cell_type": "markdown",
      "metadata": {
        "id": "view-in-github",
        "colab_type": "text"
      },
      "source": [
        "<a href=\"https://colab.research.google.com/github/fsk-lab/scics/blob/main/04_Data_Structures.ipynb\" target=\"_parent\"><img src=\"https://colab.research.google.com/assets/colab-badge.svg\" alt=\"Open In Colab\"/></a>"
      ]
    },
    {
      "cell_type": "markdown",
      "source": [
        "# Data Structures in Python"
      ],
      "metadata": {
        "id": "R1KvSJB2kQM1"
      }
    },
    {
      "cell_type": "markdown",
      "source": [
        "In the last chapters, we have learned about how to use loops, conditions and functions to make our code execute specific operations in a logically controlled manner. However, we have not paid too much attention to how we store the inputs or outputs of our code. This can make a big difference, especially for more complex software – smart decisions about structuring the data are almost as important as smart decisions about the code logics.\n",
        "\n",
        "Therefore, in this chapter, we will learn more about *compound data types* in Python – i.e. data types that can store multiple objects in a structured fashion. So far, we have mainly looked at the `list` data type – which provides us with a flexible tool for storing sequences of data. In this chapter, we will first re-visit the `list` and its functionalities. Afterwards, we will learn about further compound data types, namely the `tuple`, `dict` and `set` data types."
      ],
      "metadata": {
        "id": "DTpC5pkelF0Y"
      }
    },
    {
      "cell_type": "markdown",
      "source": [
        "## Lists (again)"
      ],
      "metadata": {
        "id": "pQrqEk0WnrGy"
      }
    },
    {
      "cell_type": "markdown",
      "source": [
        "As we have seen in chapter 2, a `list` is a sequence of an arbitrary number of different objects. Lists can be instantiated using the `[]` operation.\n",
        "\n",
        "Elements within a list can be accessed by their **index**, i.e. their position in the sequence (starting from zero). Accessing elements by index is done using the `__getitem__` operation, which is written as `list[index]`. The index can be either a single integer, which returns a single element; or a slice, which returns a sub-list."
      ],
      "metadata": {
        "id": "C-1KrfgHLseD"
      }
    },
    {
      "cell_type": "code",
      "source": [
        "a = [\"This\", \"is\", \"a\", \"list\", \"of\", \"different\", \"strings\"]\n",
        "\n",
        "print(a[3])\n",
        "print(a[-2])\n",
        "print(a[3:-2])"
      ],
      "metadata": {
        "id": "Uhjdfqo5Nm3K"
      },
      "execution_count": null,
      "outputs": []
    },
    {
      "cell_type": "markdown",
      "source": [
        "The index of a specific value in a list can be accessed using the `list.index(value)` method."
      ],
      "metadata": {
        "id": "j_SFGLcGOFPJ"
      }
    },
    {
      "cell_type": "code",
      "source": [
        "print(a.index(\"different\"))\n",
        "print(a.inded(\"Hello\"))"
      ],
      "metadata": {
        "id": "rCPwj-nqOLqC"
      },
      "execution_count": null,
      "outputs": []
    },
    {
      "cell_type": "markdown",
      "source": [
        "### Operations on Lists"
      ],
      "metadata": {
        "id": "6YF9ASlN1nuq"
      }
    },
    {
      "cell_type": "markdown",
      "source": [
        "One of the key features of the `list` data type is that it is mutable – meaning that we can flexibly modify the contents of a list. For example, we can assign new values at specific positions:"
      ],
      "metadata": {
        "id": "M8kcsi_WL2gj"
      }
    },
    {
      "cell_type": "code",
      "source": [
        "a[0] = \"That\"\n",
        "a[-1] = \"words\"\n",
        "\n",
        "print(a)"
      ],
      "metadata": {
        "id": "bH3q_oLwkNfV"
      },
      "execution_count": null,
      "outputs": []
    },
    {
      "cell_type": "markdown",
      "source": [
        "Moreover, the size of a list can be flexibly modified by adding or removing elements. Therefore, the `list` data type has a number of methods for this purpose:\n",
        "* `list.append(item)`: Appends a new single item at the end of the list.\n",
        "* `list.extend(other_list)`: Appends all items from another list to the end of the list.\n",
        "* `list.insert(index, item)`: Inserts an item at the specified index (i.e. before the item that currently has the given index).\n",
        "* `list.remove(item)`: Removes the item from the list.\n",
        "* `list.pop(index)`: Removes the item at the given index from the list, and returns the item.  "
      ],
      "metadata": {
        "id": "YboDXI4QPS6o"
      }
    },
    {
      "cell_type": "markdown",
      "source": [
        "```\n",
        "🎮  Predict the outcome of the following code cell!\n",
        "```"
      ],
      "metadata": {
        "id": "zNK3OQVhSwpt"
      }
    },
    {
      "cell_type": "code",
      "source": [
        "a = [\"This\", \"is\", \"a\", \"list\", \"of\", \"different\", \"strings\"]\n",
        "\n",
        "a.insert(2, \"not\")\n",
        "a[4] = \"set\"\n",
        "a.extend([\"but\", \"a\", \"beautiful\", \"list\"])\n",
        "b = a.pop(-2)\n",
        "\n",
        "print(a)\n",
        "print(b)"
      ],
      "metadata": {
        "id": "58IUrkFYS74M"
      },
      "execution_count": null,
      "outputs": []
    },
    {
      "cell_type": "markdown",
      "source": [
        "Moreover, we can modify the order of elements within a list. Since lists are *mutable*, these operations are done in-place, i.e. we change the content of the variable itself.\n",
        "* `list.reverse()` reverts the order of elements in the list.\n",
        "* `list.sort()` sorts the elements in a list."
      ],
      "metadata": {
        "id": "g-65x2d2Td-N"
      }
    },
    {
      "cell_type": "markdown",
      "source": [
        "### Numerical Operations on Lists"
      ],
      "metadata": {
        "id": "GNjPJe8OT8P7"
      }
    },
    {
      "cell_type": "markdown",
      "source": [
        "If a list contains numerical values (e.g. `int` or `float` values), Python provides us with a number of helpful functions for numerical calculations.\n",
        "\n",
        "* The `sum()` function can be used to calculate the sum of all elements within a list. The function is  used as `sum(list)`.\n",
        "* The `max()` function can be used to get the maximum value within the list.\n",
        "* The `min()` function can be used to get the minimum value within the list.\n",
        "* The `sorted()` function can be used to get a new, sorted copy of the list.`\n",
        "\n",
        "> 💡  These methods cannot only be used on lists, but also on other iterable data types. We will learn about further iteratable data types throughout this tutorial!"
      ],
      "metadata": {
        "id": "N8iG_F0QUGiB"
      }
    },
    {
      "cell_type": "markdown",
      "source": [
        "```\n",
        "🎮  Write Python code that calculates the mean of all elements in the list.\n",
        "```"
      ],
      "metadata": {
        "id": "N0N0HyBpVxlj"
      }
    },
    {
      "cell_type": "code",
      "source": [
        "a = [1.24, -0.07, 0.34, 2.11, -1.12, 3.02, 1.77, 2.69, 0.91]\n",
        "\n",
        "# How can we calculate the mean?"
      ],
      "metadata": {
        "id": "Rt86J01LV-Mn"
      },
      "execution_count": null,
      "outputs": []
    },
    {
      "cell_type": "markdown",
      "source": [
        "### Boolean Logics with Lists"
      ],
      "metadata": {
        "id": "UxCbK3dxWgKu"
      }
    },
    {
      "cell_type": "markdown",
      "source": [
        "We can also perform Boolean logic operations on lists. Two of the most important operations are the `all()` and the `any()` operations.\n",
        "* `all(list)` returns `True` only if all elements within the list evaluates to `True`. This is equivalent to `list[0] and list[1] and list[2] ...`.\n",
        "* `any(list)` returns `True` if at least one of the elements within the list evaluates to `True`. This is equivalent to `list[0] or list[1] or list[2] ...`."
      ],
      "metadata": {
        "id": "7oBsmRsqWj2c"
      }
    },
    {
      "cell_type": "markdown",
      "source": [
        "```\n",
        "🎮  Predict the outcome of the following two code cells!\n",
        "```"
      ],
      "metadata": {
        "id": "A2NLBBLnXUXu"
      }
    },
    {
      "cell_type": "code",
      "source": [
        "a = [1.24, -0.07, 0.34, 2.11, -1.12, 3.02, 1.77, 2.69, 0.91]\n",
        "\n",
        "b = []\n",
        "for item in a:\n",
        "    b.append(item > -1.0)\n",
        "\n",
        "print(all(b))"
      ],
      "metadata": {
        "id": "sqVlfkTOXZiU"
      },
      "execution_count": null,
      "outputs": []
    },
    {
      "cell_type": "code",
      "source": [
        "c = []\n",
        "for item in a:\n",
        "    c.append(item > 2.5)\n",
        "\n",
        "print(any(c))"
      ],
      "metadata": {
        "id": "mSr0nHA3XsVZ"
      },
      "execution_count": null,
      "outputs": []
    },
    {
      "cell_type": "markdown",
      "source": [
        "### List Comprehensions"
      ],
      "metadata": {
        "id": "ZP9fow8J1qD_"
      }
    },
    {
      "cell_type": "markdown",
      "source": [
        "In the previous examples, we have created new lists through a loop. For this purpose, we first create a new empty list, and then append a value to this new list in every iteration of the loop. If the elements of a new list can be calculated in a short expression, we can shorten the full list creation through a process called **list comprehension**. Consider the following cell as an example."
      ],
      "metadata": {
        "id": "Eq_f3zGL2zFS"
      }
    },
    {
      "cell_type": "code",
      "source": [
        "list_1 = [0, 1, 2, 3, 4, 5]\n",
        "\n",
        "list_2 = [x **2 for x in list_1]\n",
        "\n",
        "print(list_2)"
      ],
      "metadata": {
        "id": "GYl2Z2t91t6i"
      },
      "execution_count": null,
      "outputs": []
    },
    {
      "cell_type": "markdown",
      "source": [
        "Under the hood, this assignment of `list_2` proceeds through the following sequence of operations."
      ],
      "metadata": {
        "id": "vrDyK7-R15OD"
      }
    },
    {
      "cell_type": "code",
      "source": [
        "list_2 = []\n",
        "for x in list_1:\n",
        "    list_2.append(x**2)"
      ],
      "metadata": {
        "id": "FF5k00-X17kb"
      },
      "execution_count": null,
      "outputs": []
    },
    {
      "cell_type": "markdown",
      "source": [
        "List comprehensions can also be extended by simple `if` statements.\n",
        "\n",
        "```\n",
        "🎮  Predict the outcome of the following code cell, and then write the equivalent code using a classical `for` loop.\n",
        "```"
      ],
      "metadata": {
        "id": "u5q5UAwv2aZY"
      }
    },
    {
      "cell_type": "code",
      "source": [
        "even_squares = [x**2 for x in range(10) if x % 2 == 0]\n",
        "\n",
        "print(even_squares)"
      ],
      "metadata": {
        "id": "-dVxY50V2llg"
      },
      "execution_count": null,
      "outputs": []
    },
    {
      "cell_type": "code",
      "source": [
        "# Same outcome, but in a `for` loop!"
      ],
      "metadata": {
        "id": "CMpHjKBZ4oD_"
      },
      "execution_count": null,
      "outputs": []
    },
    {
      "cell_type": "markdown",
      "source": [
        "```\n",
        "🎮  Write a single (!) line of code that evaluates if no value in the list a is greater than 3.0.\n",
        "```"
      ],
      "metadata": {
        "id": "M_pGl3QNYCpA"
      }
    },
    {
      "cell_type": "code",
      "source": [
        "a = [1.24, -0.07, 0.34, 2.11, -1.12, 3.02, 1.77, 2.69, 0.91]"
      ],
      "metadata": {
        "id": "0qygn96JYJb6"
      },
      "execution_count": null,
      "outputs": []
    },
    {
      "cell_type": "markdown",
      "source": [
        "## Tuples"
      ],
      "metadata": {
        "id": "Zu6f-clnnvM8"
      }
    },
    {
      "cell_type": "markdown",
      "source": [
        "In addition to lists, Python contains a second data type for storing sequential data, which is called **tuple**. Tuples are created using parentheses `()`, and the creation logic follows the one of lists.\n",
        "\n",
        "Similar to lists, items within a tuple are accessed by their index."
      ],
      "metadata": {
        "id": "nEz8m3TW1T-7"
      }
    },
    {
      "cell_type": "code",
      "source": [
        "a = (\"This\", \"is\", \"a\", \"tuple\")\n",
        "\n",
        "print(a[1])\n",
        "print(a[-1])"
      ],
      "metadata": {
        "id": "YRl43uHonxxy"
      },
      "execution_count": null,
      "outputs": []
    },
    {
      "cell_type": "markdown",
      "source": [
        "In principle, the parentheses are optional when creating tuples:"
      ],
      "metadata": {
        "id": "wjxgAfM9dPr1"
      }
    },
    {
      "cell_type": "code",
      "source": [
        "a = \"This\", \"is\", \"a\", \"tuple\"\n",
        "\n",
        "print(a)"
      ],
      "metadata": {
        "id": "nxGsAg2EdZUg"
      },
      "execution_count": null,
      "outputs": []
    },
    {
      "cell_type": "markdown",
      "source": [
        "However, there is a big difference between the `list` and `tuple` data types. A `tuple` is an immutable data type – meaning that once we have created a tuple with its elements, we cannot change, append, insert or delete values from the tuple."
      ],
      "metadata": {
        "id": "AhMw642gZJD_"
      }
    },
    {
      "cell_type": "code",
      "source": [
        "a[1] = \"was\""
      ],
      "metadata": {
        "id": "u8tGnBJgbRht"
      },
      "execution_count": null,
      "outputs": []
    },
    {
      "cell_type": "markdown",
      "source": [
        "If the `tuple` data type does not have any added functionality compared to the `list`, why does it exist at all?\n",
        "\n",
        "The answer to this question is probably: Because they are more computationally efficient, and less memory-intensive. Creating a tuple just requires allocating memory once, and from this point on, one can always refer to the same object in the memory. However, in simple programs, these considerations can often be neglected, and usually, we do not use tuples for data storage very often.\n",
        "\n",
        "> 💡 When we create a new sequence and know that we will not vary the contents of this sequence, it is usually best practice to use a tuple.\n"
      ],
      "metadata": {
        "id": "GJNoLfDybUts"
      }
    },
    {
      "cell_type": "markdown",
      "source": [
        "In practice, there are a couple of use cases where tuples can still be useful. For example, we use tuples to assign multiple variables in the same line of code:"
      ],
      "metadata": {
        "id": "tQlwG5Ldc5TT"
      }
    },
    {
      "cell_type": "code",
      "source": [
        "a, b, c = 0, 1, 2\n",
        "\n",
        "print(a + b + c)"
      ],
      "metadata": {
        "id": "_0jaxbrSdpVO"
      },
      "execution_count": null,
      "outputs": []
    },
    {
      "cell_type": "markdown",
      "source": [
        "Moreover, we can use tuples for functions that return multiple values."
      ],
      "metadata": {
        "id": "cXS5wvb5dwAH"
      }
    },
    {
      "cell_type": "code",
      "source": [
        "def residue_division(dividend: int, divisor: int) -> tuple[int, int]:\n",
        "    floor_result = dividend // divisor\n",
        "    residue = dividend % divisor\n",
        "    return floor_result, residue"
      ],
      "metadata": {
        "id": "wNAJj_dkd6_U"
      },
      "execution_count": null,
      "outputs": []
    },
    {
      "cell_type": "markdown",
      "source": [
        "```\n",
        "🎮  Predict the data types and values of the variables `x`, `y` and `z` in the following code cell!\n",
        "```"
      ],
      "metadata": {
        "id": "A336o8yPePEd"
      }
    },
    {
      "cell_type": "code",
      "source": [
        "x = residue_division(22, 3)\n",
        "y, z = residue_division(13, 5)"
      ],
      "metadata": {
        "id": "F45WjIwaeVKs"
      },
      "execution_count": null,
      "outputs": []
    },
    {
      "cell_type": "markdown",
      "source": [
        "## Dictionaries"
      ],
      "metadata": {
        "id": "qi1nLmiznyqS"
      }
    },
    {
      "cell_type": "markdown",
      "source": [
        "A **dictionary** is a data type to store multiple key–value pairs. In other words, every element within a dictionary (the *value*) can be accessed by its key.\n",
        "\n",
        "The intuition behind a dictionaries is the same as e.g. an English–German dictionary. For every English word in the dictionary (the *key*), we can look up the corresponding German translation (the *value*). This analogy can be used to understand a number important properties of Python dictionaries:\n",
        "* Keys must be unique. Just like the English-German dictionary can only contain one instance of an English word, a Python dictionary can only contain each key once.\n",
        "* If we know the key, it is easy to find the corresponding value in the dictionary. The other way around, however, is not easy. If we know the German word (the value), we have to go through all entries in the English–German dictionary to find the corresponding English word (the key).\n",
        "\n",
        "In Python, dictionaries are created using curly brackets `{}`, entries are entered in the form of `key: value`."
      ],
      "metadata": {
        "id": "D6GC0GPEo7TN"
      }
    },
    {
      "cell_type": "code",
      "source": [
        "eng_ger = {\"I\": \"ich\", \"you\": \"du\", \"he\": \"er\", \"she\": \"sie\", \"it\": \"es\"}\n",
        "\n",
        "type(eng_ger)"
      ],
      "metadata": {
        "id": "Gml3hoYTn1Yt"
      },
      "execution_count": null,
      "outputs": []
    },
    {
      "cell_type": "markdown",
      "source": [
        "Individual elements (values) in a dictionary are accessed by their keys using the square brackets operation or the `dict.get()` function.\n",
        "\n",
        "> 💡  In lists, elements are accessed by their index. In dictionaries, elements are accessed by their keys."
      ],
      "metadata": {
        "id": "2c_vsyWtrT-4"
      }
    },
    {
      "cell_type": "code",
      "source": [
        "word_for_you = eng_ger[\"you\"]\n",
        "\n",
        "print(word_for_you)"
      ],
      "metadata": {
        "id": "MNpdtNf_ruJL"
      },
      "execution_count": null,
      "outputs": []
    },
    {
      "cell_type": "markdown",
      "source": [
        "```\n",
        "🎮   What happens if a key is not present in a list?\n",
        "```"
      ],
      "metadata": {
        "id": "dU2Z2kear22M"
      }
    },
    {
      "cell_type": "code",
      "source": [
        "# Try it out!"
      ],
      "metadata": {
        "id": "gar2RiY1r9Ag"
      },
      "execution_count": null,
      "outputs": []
    },
    {
      "cell_type": "markdown",
      "source": [
        "This is indeed the only scenario in which `dict[key]` and `dict.get(key)` differ.\n",
        "\n",
        "The `dict.get()` function has a second argument that specifies the value that should be returned if the key is not present in the dictionary. This value defaults to `None` – so that `dict.get(key)` returns `None` if the key was not found. We can set this alternative return to any arbitrary value.  "
      ],
      "metadata": {
        "id": "G6mUh-HExVSV"
      }
    },
    {
      "cell_type": "code",
      "source": [
        "word_for_you = eng_ger.get(\"you\")\n",
        "\n",
        "word_for_he = eng_ger.get(\"he\", \"I don't know!\")\n",
        "\n",
        "word_for_they = eng_ger.get(\"they\", \"I don't know!\")\n",
        "\n",
        "print(word_for_you)\n",
        "print(word_for_he)\n",
        "print(word_for_they)"
      ],
      "metadata": {
        "id": "NfpZf6xAx3zb"
      },
      "execution_count": null,
      "outputs": []
    },
    {
      "cell_type": "markdown",
      "source": [
        "### `dict` as a Mutable Data Type"
      ],
      "metadata": {
        "id": "nCP4bHfNe2xf"
      }
    },
    {
      "cell_type": "markdown",
      "source": [
        "Similar to lists, dictionaries are **mutable** – meaning that we can re-assign values, add new key-value pairs, or remove items from a dictionary. For this, we follow the same syntax as when assigning elements in lists, using the `[]` operation."
      ],
      "metadata": {
        "id": "jLKEWWmTr_Jn"
      }
    },
    {
      "cell_type": "code",
      "source": [
        "eng_ger[\"we\"] = \"wir\"\n",
        "\n",
        "print(eng_ger)"
      ],
      "metadata": {
        "id": "14Frluk1sKqI"
      },
      "execution_count": null,
      "outputs": []
    },
    {
      "cell_type": "markdown",
      "source": [
        "If the key is not present in the dictionary, a new key-value pair is added to the dictionary. If the key is already present in the dictionary, the value is overwritten."
      ],
      "metadata": {
        "id": "wFSTCcHMsxaE"
      }
    },
    {
      "cell_type": "code",
      "source": [
        "eng_ger[\"you\"] = \"ihr\""
      ],
      "metadata": {
        "id": "dW7VzKTOs7-X"
      },
      "execution_count": null,
      "outputs": []
    },
    {
      "cell_type": "markdown",
      "source": [
        "Similar to lists, key-value pairs can be removed from a dictionary using the `dict.pop(key)` function (which returns the corresponding value), or using the `del` statement."
      ],
      "metadata": {
        "id": "96sMnhFStA1y"
      }
    },
    {
      "cell_type": "code",
      "source": [
        "a = eng_ger.pop(\"we\")\n",
        "\n",
        "del eng_ger[\"it\"]\n",
        "\n",
        "print(a)\n",
        "print(eng_ger)"
      ],
      "metadata": {
        "id": "rrxTqQoKtNux"
      },
      "execution_count": null,
      "outputs": []
    },
    {
      "cell_type": "markdown",
      "source": [
        "Dictionaries are not limited to strings. In fact, any Python data type can be used as a value in a Python dictionary. For example, we can create dictionaries that contain `int`, `float`, `bool` `list` – or even other dictionaries.\n",
        "\n",
        "Dictionary **keys** are limited to **immutable** data types. In practice, we would usually use `str` and `int` as dictionary keys.\n",
        "\n",
        "> ❗  In principle, we could also use a `float` as a dictionary key. However, due to numerical precision issues, floating-point numbers usually do not represent an exact number, but just an approximation to this number. Therefore, accessing elements by an approximate number may cause trouble, and should be avoided.\n"
      ],
      "metadata": {
        "id": "igYHGhnJtd8A"
      }
    },
    {
      "cell_type": "markdown",
      "source": [
        "We can use the `in` statement to check whether a specific key is in a dictionary or not."
      ],
      "metadata": {
        "id": "5NTcoJe7wR0H"
      }
    },
    {
      "cell_type": "code",
      "source": [
        "print(\"I\" in eng_ger)\n",
        "\n",
        "print(\"they\" in eng_ger)"
      ],
      "metadata": {
        "id": "_vLvhBgDwYMQ"
      },
      "execution_count": null,
      "outputs": []
    },
    {
      "cell_type": "markdown",
      "source": [
        "### Looping over Dictionaries"
      ],
      "metadata": {
        "id": "-VJ643CTfAac"
      }
    },
    {
      "cell_type": "markdown",
      "source": [
        "We can also iterate over all keys / values in a dictionary.\n",
        "\n",
        "> ❗ Since Python 3.7, dictionaries are *ordered*, meaning that they preserve the order in which elements are added to the dictionary. Code with dictionaries may work differently in older versions of Python!"
      ],
      "metadata": {
        "id": "18xkUj2ywx9W"
      }
    },
    {
      "cell_type": "markdown",
      "source": [
        "We can use `for` loops to iterate over all keys in a dictionary. If we want to loop over both keys and values at the same time, we can do so by looping over `dict.items()`.\n",
        "\n",
        "As an example, the following two cells of code behave identically."
      ],
      "metadata": {
        "id": "DI88xKp5zbyi"
      }
    },
    {
      "cell_type": "code",
      "source": [
        "for word in eng_ger:\n",
        "    print(f\"English: {word}.   German: {eng_ger[word]}.\")"
      ],
      "metadata": {
        "id": "1_KqzOr2zh4-"
      },
      "execution_count": null,
      "outputs": []
    },
    {
      "cell_type": "code",
      "source": [
        "for eng_word, ger_word in eng_ger.items():\n",
        "    print(f\"English: {eng_word}.   German: {ger_word}.\")"
      ],
      "metadata": {
        "id": "mQvcBFdIz96I"
      },
      "execution_count": null,
      "outputs": []
    },
    {
      "cell_type": "markdown",
      "source": [
        "```\n",
        "🧠  When writing loops over `list` or `tuple` data types,\n",
        "we could also use `while` loops. Why is this not possible\n",
        "when looping over a `dict`?\n",
        "```"
      ],
      "metadata": {
        "id": "7sp9FDclzm5w"
      }
    },
    {
      "cell_type": "markdown",
      "source": [
        "### 🧠 Dictionary Comprehension"
      ],
      "metadata": {
        "id": "BfnwI-EGsRvD"
      }
    },
    {
      "cell_type": "markdown",
      "source": [
        "Similarly to creating lists, we can use **dictionary comprehension** to create dictionaries in a single line of code."
      ],
      "metadata": {
        "id": "sX8zGkmigDdZ"
      }
    },
    {
      "cell_type": "code",
      "source": [
        "a = [\"This\", \"is\", \"a\", \"list\", \"of\", \"strings\"]\n",
        "\n",
        "counts = {word: len(word) for word in a}\n",
        "\n",
        "print(counts)"
      ],
      "metadata": {
        "id": "aES1rKMpgbS5"
      },
      "execution_count": null,
      "outputs": []
    },
    {
      "cell_type": "markdown",
      "source": [
        "As seen above, we can also include simple `if` statements for deciding which elements to include in the new dictionary."
      ],
      "metadata": {
        "id": "m_HFGl7igpsN"
      }
    },
    {
      "cell_type": "code",
      "source": [
        "counts_long = {word: len(word) for word in a if len(word) > 2}\n",
        "\n",
        "print(counts_long)"
      ],
      "metadata": {
        "id": "cKZXhBaghKFu"
      },
      "execution_count": null,
      "outputs": []
    },
    {
      "cell_type": "markdown",
      "source": [
        "## Sets"
      ],
      "metadata": {
        "id": "AGkc2ID-oFkY"
      }
    },
    {
      "cell_type": "markdown",
      "source": [
        "In addition to `list`, `tuple` and `dict`, Python natively contains another compound data type – the **set**. The set closely resembles the mathematical definition of sets, being a collection of *unique* values.\n",
        "\n",
        "A Python `set` is created using the curly brackets `{}`.\n",
        "\n",
        "> ❗  Note that both a `dict` and a `set` are created using curly brackets. The difference lies in the fact that a `set` contains individual values, whereas a `dict` contains key-value pairs."
      ],
      "metadata": {
        "id": "ohSucROrhspP"
      }
    },
    {
      "cell_type": "code",
      "source": [
        "a = {0, 4, 1, 4, 2, 7, 0, 3, 4}\n",
        "\n",
        "print(a)"
      ],
      "metadata": {
        "id": "r8BvcwLSoGQP"
      },
      "execution_count": null,
      "outputs": []
    },
    {
      "cell_type": "markdown",
      "source": [
        "Note that a `set` is not ordered – the order in which elements are added to a set is not preserved. Similar to lists, tuples and dictionaries, we can loop through a `set` using a `for` loop."
      ],
      "metadata": {
        "id": "PMTrFT9piy_l"
      }
    },
    {
      "cell_type": "code",
      "source": [
        "for element in a:\n",
        "    print(element)"
      ],
      "metadata": {
        "id": "0I4Fp68V64kv"
      },
      "execution_count": null,
      "outputs": []
    },
    {
      "cell_type": "markdown",
      "source": [
        "We can also create new sets in a one-line expression using *set comprehension*."
      ],
      "metadata": {
        "id": "b3YAvimg6uI1"
      }
    },
    {
      "cell_type": "code",
      "source": [
        "new_set = {i**2 - i for i in a}\n",
        "\n",
        "print(new_set)"
      ],
      "metadata": {
        "id": "d8CRU4pV7cgb"
      },
      "execution_count": null,
      "outputs": []
    },
    {
      "cell_type": "markdown",
      "source": [
        "### Sets as Mutable Data Types"
      ],
      "metadata": {
        "id": "UVlvAH-ci_PL"
      }
    },
    {
      "cell_type": "markdown",
      "source": [
        "Similar to lists and dictionaries, sets are mutable – meaning that we can add or remove elements. For this, Python provides a number of useful functions:\n",
        "\n",
        "* `set.add(item)` adds a new item to a set.\n",
        "* `set.update(iterable)` adds all elements from an iterable (a `list`, `tuple` or `set`) to the set.\n",
        "* `set.remove(item)` removes an item from a set."
      ],
      "metadata": {
        "id": "9KIaUUypjBWE"
      }
    },
    {
      "cell_type": "code",
      "source": [
        "a = {0, 4, 1, 4, 2, 7, 0, 3, 4}\n",
        "\n",
        "a.add(5)\n",
        "a.add(0)\n",
        "\n",
        "a.remove(0)\n",
        "\n",
        "print(a)"
      ],
      "metadata": {
        "id": "bIgkrqDjk79O"
      },
      "execution_count": null,
      "outputs": []
    },
    {
      "cell_type": "markdown",
      "source": [
        "### Set Logic"
      ],
      "metadata": {
        "id": "wjvBuYkWlMX1"
      }
    },
    {
      "cell_type": "markdown",
      "source": [
        "With sets, we can perform the mathematical operations of comparing two sets – e.g. finding out if one set is a subset of another. This can be done using the `>` / `>=` / `<=` / `<` operations.\n",
        "* `set_1.issubset(set_2)` returns `True` if all elements of `set_1` are also elements of `set_2`. This is equivalent to `set_1 <= set_2`.\n",
        "* `set_1.issuperset(set_2)` is the reverse of `issubset` – i.e. it returns `True` if all elements of `set_2` are also elements of `set_1`. This is equivalent to `set_1 >= set_2`.\n",
        "\n",
        "These operations also return `True` if both sets are identical. If this behavior is not desired (i.e. if the set is not a *true* subset or superset), we can use the `>` and `<` operations instead."
      ],
      "metadata": {
        "id": "HQtoUe9_lQWA"
      }
    },
    {
      "cell_type": "code",
      "source": [
        "all_characters = {\"Mario\", \"Luigi\", \"Peach\", \"Toad\", \"Bowser\", \"Wario\"}\n",
        "good_ones = {\"Mario\", \"Luigi\", \"Peach\", \"Toad\"}\n",
        "bad_ones = {\"Bowser\", \"Wario\"}\n",
        "\n",
        "print(all_characters.issuperset(bad_ones))\n",
        "print(good_ones <= all_characters)"
      ],
      "metadata": {
        "id": "JkQip3RG2kY-"
      },
      "execution_count": null,
      "outputs": []
    },
    {
      "cell_type": "markdown",
      "source": [
        "Moreover, we can perform logical operations to extract all elements that fulfill certain criteria – e.g. finding all items that are elements of both sets, etc. These logical operations can be very handy if we want to compare two sets without explicitly looping over the sets.\n",
        "\n",
        "* `set_1.union(set_2)` returns a new set that contains all elements that are either in `set_1` or `set_2`. This is equivalent to `set_1 | set_2`.\n",
        "* `set_1.intersection(set_2)` returns a new set that contains all elements that are both in `set_1` and in `set_2`. This is equivalent to `set_1 & set_2`.\n",
        "* `set_1.difference(set_2)` returns a new set that contains all elements that are in `set_1`, but not in `set_2`. This is equivalent to `set_1 - set_2`.\n",
        "* `set_1.symmetric_difference(set_2)` returns a new set that contains all elements that are either in `set_1` or in `set_2`, but not in both. This is equivalent to `set_1 ^ set_2`."
      ],
      "metadata": {
        "id": "4cRB1j9U2jmD"
      }
    },
    {
      "cell_type": "code",
      "source": [
        "big_ones = {\"Bowser\", \"Wario\", \"Donkey Kong\"}\n",
        "medium_ones = {\"Mario\", \"Luigi\", \"Yoshi\", \"Peach\"}\n",
        "small_ones = {\"Toad\"}\n",
        "\n",
        "good_ones = {\"Mario\", \"Luigi\", \"Yoshi\", \"Peach\", \"Donkey Kong\", \"Toad\"}\n",
        "bad_ones = {\"Bowser\", \"Wario\"}\n",
        "\n",
        "print(medium_ones.union(small_ones))\n",
        "print(big_ones & good_ones)\n",
        "print(good_ones.symmetric_difference(medium_ones))\n"
      ],
      "metadata": {
        "id": "hp7DjDgh315L"
      },
      "execution_count": null,
      "outputs": []
    },
    {
      "cell_type": "markdown",
      "source": [
        "```\n",
        "🎮  Given the two words `abaracadabara` and `alcazam`,\n",
        "find all letters that a) are used in both words;\n",
        "b) that are only used in one of the two words.\n",
        "```"
      ],
      "metadata": {
        "id": "quw3kORd5rFq"
      }
    },
    {
      "cell_type": "code",
      "source": [
        "# Hint: We can generate a set from any iterable object using set(iterable)!"
      ],
      "metadata": {
        "id": "t2rB-Jv-6R1a"
      },
      "execution_count": null,
      "outputs": []
    }
  ]
}