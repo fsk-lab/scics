{
  "nbformat": 4,
  "nbformat_minor": 0,
  "metadata": {
    "colab": {
      "provenance": [],
      "authorship_tag": "ABX9TyPt2pooaLJC54Mz6RvJMFei",
      "include_colab_link": true
    },
    "kernelspec": {
      "name": "python3",
      "display_name": "Python 3"
    },
    "language_info": {
      "name": "python"
    }
  },
  "cells": [
    {
      "cell_type": "markdown",
      "metadata": {
        "id": "view-in-github",
        "colab_type": "text"
      },
      "source": [
        "<a href=\"https://colab.research.google.com/github/fsk-lab/scics/blob/main/02_First_Programming_Steps.ipynb\" target=\"_parent\"><img src=\"https://colab.research.google.com/assets/colab-badge.svg\" alt=\"Open In Colab\"/></a>"
      ]
    },
    {
      "cell_type": "markdown",
      "source": [
        "# First Steps towards Programming in Python"
      ],
      "metadata": {
        "id": "z9d8DfnMRRdU"
      }
    },
    {
      "cell_type": "markdown",
      "source": [
        "In the first tutorial ( [`01_Introduction.ipynb`](https://github.com/fsk-lab/scics)), we have learned the basics of using Python in Jupyter notebooks. We have seen how to assign values to variables, and have explored the functionalities of basic data types (`int`, `float`, `bool` and `None`). Moreover, we have discussed the use of different operators for arithmetic calculations (e.g. `+`, `-`, `*`, `/`, `%`, `//`, `==`, `!=`, `>`, `>=`, `<`, `<=`). If any of these contents feel unfamiliar to you, please re-visit the first tutorial. Many of the contents below will build upon these foundations.\n",
        "\n",
        "In this notebook, we will take some steps towards writing our first actual programs in Python. Before that, we will first look at the `str` data type, which we have just briefly covered in the first tutorial. Moreover, we will get to know the `list` as the first compound data type, and will learn how we can create our first loops in Python."
      ],
      "metadata": {
        "id": "6vCKT2ngSmrl"
      }
    },
    {
      "cell_type": "markdown",
      "source": [
        "## Strings"
      ],
      "metadata": {
        "id": "-_-piOddUNIc"
      }
    },
    {
      "cell_type": "markdown",
      "source": [
        "In the first tutorial, we have already seen that text can be used in Python by placing it in quotation marks, e.g. `a = \"Hello World\"`. This data type is referred to as a **string** (`str`).\n",
        "\n",
        "> 💡 Note that strings can be placed both in single quotes (`a = 'Hello World!'`) and double quotes (`a = \"Hello World!\"`) with the same result."
      ],
      "metadata": {
        "id": "EM5dQi6DURUJ"
      }
    },
    {
      "cell_type": "code",
      "execution_count": null,
      "metadata": {
        "id": "DRb1Ip0CRJah"
      },
      "outputs": [],
      "source": [
        "a = \"Hello World!\"\n",
        "\n",
        "type(a)"
      ]
    },
    {
      "cell_type": "markdown",
      "source": [
        "### Special Characters in Strings"
      ],
      "metadata": {
        "id": "9xliIEhg-AW4"
      }
    },
    {
      "cell_type": "markdown",
      "source": [
        "It should be noted that there are a number of characters that have a special meaning in Python, and that cannot be directly used in a string. As an easy example, let us look at the quotation marks `\"`, which are used as delimiters for strings – so we can obviously not use them within a string.\n",
        "\n",
        "```\n",
        "🎮  Try to create a variable named `text`, and assign the string `Peter said: \"I love Python!\"`to it.\n",
        "```"
      ],
      "metadata": {
        "id": "MwaY_7a8-DJp"
      }
    },
    {
      "cell_type": "code",
      "source": [
        "text = \"Peter said: \"I love Python!\"\"\n",
        "\n",
        "print(text)"
      ],
      "metadata": {
        "id": "SbnPH2Pr-tBf"
      },
      "execution_count": null,
      "outputs": []
    },
    {
      "cell_type": "markdown",
      "source": [
        "For avoiding these errors, we can **escape** the standard Python interpretation of this character by preceding it with a backslash `\\`."
      ],
      "metadata": {
        "id": "zv3-qui3-0BS"
      }
    },
    {
      "cell_type": "code",
      "source": [
        "text = \"Peter said: \\\"I love Python!\\\"\"\n",
        "\n",
        "print(text)"
      ],
      "metadata": {
        "id": "eiwbK_gx_J8v"
      },
      "execution_count": null,
      "outputs": []
    },
    {
      "cell_type": "markdown",
      "source": [
        "Escaping works for a number of  characters that otherwise have a special meaning in Python, including:\n",
        "* the quotation marks `\"` or `'`\n",
        "* the backslash itself `\\`"
      ],
      "metadata": {
        "id": "ANjEDHeC_ULs"
      }
    },
    {
      "cell_type": "code",
      "source": [
        "text = \"This is a backslash: \\\\\"\n",
        "\n",
        "print(text)"
      ],
      "metadata": {
        "id": "RZIKcjC6_qnx"
      },
      "execution_count": null,
      "outputs": []
    },
    {
      "cell_type": "markdown",
      "source": [
        "There are a few further escape characters for text that are done with a backslash, including:\n",
        "* `\\n`: line break\n",
        "* `\\t`: tab\n",
        "* `\\b`: backspace\n",
        "\n",
        "```\n",
        "🎮  Try to create variables that contain the following strings, and print them out!\n",
        "\n",
        "`She sells seashells\n",
        "by the seashore.`\n",
        "\n",
        "`How can a clam cram     in a \"clean\" cream can?`\n",
        "```"
      ],
      "metadata": {
        "id": "HsQQnvwBAGWG"
      }
    },
    {
      "cell_type": "code",
      "source": [
        "text = \"?\"  # Example `She sells...`\n",
        "\n",
        "print(text)"
      ],
      "metadata": {
        "id": "SfJ--xC0CnE7"
      },
      "execution_count": null,
      "outputs": []
    },
    {
      "cell_type": "code",
      "source": [
        "text = \"?\"  # Example `How can...`\n",
        "\n",
        "print(text)"
      ],
      "metadata": {
        "id": "Y4Zslkg9wedc"
      },
      "execution_count": null,
      "outputs": []
    },
    {
      "cell_type": "markdown",
      "source": [
        "### Indexing and Slicing of Strings"
      ],
      "metadata": {
        "id": "ZmVw_ep4ZQJN"
      }
    },
    {
      "cell_type": "markdown",
      "source": [
        "In our theoretical treatment of data types, we have learned earlier that any text (i.e. any string) is nothing but a sequence of characters. Each character in this sequence is clearly defined by its \"position\" in the sequence – also referred to as its **index**.\n",
        "\n",
        "```\n",
        "H | e | l | l | o |   | W | o | r | l | d | ! |\n",
        "0   1   2   3   4   5   6   7   8   9   10  11\n",
        "```\n",
        "\n",
        "For example, the character at position 3 is an `l`, or the character at position 8 is an `r`. We can get these items in a process called **indexing**, which is done by using square brackets.\n",
        "\n",
        "> ❗ Note that Python is a *zero-indexed* language, meaning that the first item of a sequence has the index 0."
      ],
      "metadata": {
        "id": "EQQ8dDGhU8wi"
      }
    },
    {
      "cell_type": "code",
      "source": [
        "print(a[3])"
      ],
      "metadata": {
        "id": "c4lbT7SLU3lW"
      },
      "execution_count": null,
      "outputs": []
    },
    {
      "cell_type": "markdown",
      "source": [
        "Interestingly, we can also index from the end of the string. Here, index `-1` refers to the last element of the string, index `-2` refers to the second last element etc.\n",
        "\n",
        "```\n",
        "H | e | l | l | o |   | W | o | r | l | d | ! |\n",
        "0   1   2   3   4   5   6   7   8   9   10  11\n",
        "                               ...  -3  -2  -1\n",
        "```"
      ],
      "metadata": {
        "id": "9GRteixbZvb9"
      }
    },
    {
      "cell_type": "code",
      "source": [
        "print(a[-1])"
      ],
      "metadata": {
        "id": "mdSFzv3BMF9O"
      },
      "execution_count": null,
      "outputs": []
    },
    {
      "cell_type": "markdown",
      "source": [
        "We can also get multiple characters (i.e. a *sub-string*) by indexing a string. This process is called **slicing**. A slice is given as a range of indices, with the first and last index separated by a colon. As an example, the slice `0:5` takes the\n",
        "\n",
        "> ❗  Slicing works through a half-open interval. The start index is included, the end index is excluded. The slice `0:5` is equal to the indices `0, 1, 2, 3, 4`."
      ],
      "metadata": {
        "id": "Eo2P6OhEXUBO"
      }
    },
    {
      "cell_type": "code",
      "source": [
        "print(a[0:5])"
      ],
      "metadata": {
        "id": "eLgHJJ1CZV8w"
      },
      "execution_count": null,
      "outputs": []
    },
    {
      "cell_type": "markdown",
      "source": [
        "```\n",
        "🎮  Print out the word \"World\" as a slice from `a`!\n",
        "```"
      ],
      "metadata": {
        "id": "j4hIibZDZdy_"
      }
    },
    {
      "cell_type": "code",
      "source": [
        "# Try it!"
      ],
      "metadata": {
        "id": "p5icUtlwLgnw"
      },
      "execution_count": null,
      "outputs": []
    },
    {
      "cell_type": "markdown",
      "source": [
        "Slicing has two useful defaults:\n",
        "* An omitted start index defaults to 0, meaning that the slice `:5` is equal to `0:5`.\n",
        "* An omitted end index defaults to the length of the string. For the example of `Hello World!`, the slice `8:` equals to `8:11`.\n",
        "* Slicing can also be done with negative indices (as discussed above).\n",
        "\n",
        "```\n",
        "🎮  Predict the outcome of the following code cell, then execute it to verify your predictions!\n",
        "```"
      ],
      "metadata": {
        "id": "eKgCdBRZLjfy"
      }
    },
    {
      "cell_type": "code",
      "source": [
        "a = \"Hello World!\"\n",
        "\n",
        "print(a[:5])\n",
        "\n",
        "print(a[5:])\n",
        "\n",
        "print(a[6:-1])\n",
        "\n",
        "print(a[:])"
      ],
      "metadata": {
        "id": "z0EM27lRLjNf"
      },
      "execution_count": null,
      "outputs": []
    },
    {
      "cell_type": "markdown",
      "source": [
        "Slicing in Python is extremely useful – also beyond slicing strings. In the next section(s), we will learn that slicing plays an important role for the data types `list` and `tuple`, as well as for advanced mathematical libraries such as `numpy` or `pytorch`. Therefore, it is important to understand the basics of slicing, and get some practice with it!"
      ],
      "metadata": {
        "id": "ogIkdkP8MyyA"
      }
    },
    {
      "cell_type": "markdown",
      "source": [
        "### Further Useful Operations on Strings"
      ],
      "metadata": {
        "id": "o6nQGMUKaHN_"
      }
    },
    {
      "cell_type": "markdown",
      "source": [
        "Strings in Python have a lot of further useful functionalities. Naturally, we will not cover all of them in this tutorial – and there is no need to memorize all of them. However, while programming, one should generally keep in mind that these useful functionalities *do* exist, and that we can always look up what other functionalities exist and how they work."
      ],
      "metadata": {
        "id": "Sy6qNsf8aw1u"
      }
    },
    {
      "cell_type": "markdown",
      "source": [
        "Nevertheless, it is useful to get to know some of the basic functionalities of strings. For example, we can use the `len` function to give us the length of the string (i.e. the number of characters) as an integer."
      ],
      "metadata": {
        "id": "WumrVQjlN6JE"
      }
    },
    {
      "cell_type": "code",
      "source": [
        "print(len(a))"
      ],
      "metadata": {
        "id": "_asJoUXaaymz"
      },
      "execution_count": null,
      "outputs": []
    },
    {
      "cell_type": "markdown",
      "source": [
        "We can use the `+` operator to concatenate two strings, i.e. combine them to a single string. Analogously, the * operator can be used to repeat the same string multiple times."
      ],
      "metadata": {
        "id": "x9nvhkjGaVhg"
      }
    },
    {
      "cell_type": "code",
      "source": [
        "test_1 = \"Yes! \" * 4\n",
        "\n",
        "test_2 = \"No!\"\n",
        "\n",
        "print(test_1 + test_2)"
      ],
      "metadata": {
        "id": "T4N2IFZVZYIL"
      },
      "execution_count": null,
      "outputs": []
    },
    {
      "cell_type": "markdown",
      "source": [
        "> ❗  This is a good example why it is important to know data types (even though Python automatically handles type assignments). Depending on the data type, the `+` operator does different things. If we have `x = 3` and `y = 4` (i.e. both are integers), then `x + y` results in `7`. However, if we have `x = \"3\"` and `y = \"4\"` (i.e. both are strings), then `x + y` results in `\"43\"`."
      ],
      "metadata": {
        "id": "3aG0LpEaPMJ3"
      }
    },
    {
      "cell_type": "markdown",
      "source": [
        "We can also use string concatenation to get a better intuition of slicing behavior (first index included, last index excluded)."
      ],
      "metadata": {
        "id": "qmcCpzdVTVzV"
      }
    },
    {
      "cell_type": "code",
      "source": [
        "word = \"IntroductionToComputerScience\"\n",
        "length = len(word)\n",
        "\n",
        "part_1 = word[0:12]\n",
        "part_2 = word[12:length]\n",
        "\n",
        "print(part_1)\n",
        "print(part_2)\n",
        "\n",
        "print(part_1 + part_2)"
      ],
      "metadata": {
        "id": "I5M8DeQoTw52"
      },
      "execution_count": null,
      "outputs": []
    },
    {
      "cell_type": "markdown",
      "source": [
        "We can also use Python to automatically search in strings. To check if a sub-string is contained in a string or not, the `in` operator can be useful."
      ],
      "metadata": {
        "id": "2IWtpaBaamec"
      }
    },
    {
      "cell_type": "code",
      "source": [
        "print(\"World\" in a)\n",
        "\n",
        "print(\"SCICS\" in a)"
      ],
      "metadata": {
        "id": "jXJt2M8FZY0X"
      },
      "execution_count": null,
      "outputs": []
    },
    {
      "cell_type": "markdown",
      "source": [
        "For actually finding these sub-strings, each variable of the type `str` has a bult-in `find` method that can be used to find elements in a string. This method returns an `int`, which corresponds to the index of the first character in the original string."
      ],
      "metadata": {
        "id": "OCxIvkGDZQw5"
      }
    },
    {
      "cell_type": "code",
      "source": [
        "a.find(\"World\")"
      ],
      "metadata": {
        "id": "ibwG_i4Vajh1"
      },
      "execution_count": null,
      "outputs": []
    },
    {
      "cell_type": "markdown",
      "source": [
        "> 💡 The Python syntax for using built-in methods that are associated with a specific data type is: `variable_name.method_name(arguments)`. In the example above, the variable name is `a`, and the name of the method is `find`. Arguments describe the additional inputs that have to be given to this function (here: the string `\"World\"`). Multiple arguments can be separated by comma."
      ],
      "metadata": {
        "id": "w4q9orUXQHkQ"
      }
    },
    {
      "cell_type": "markdown",
      "source": [
        "If the string that is passed as the argument is not found, the `find` method returns `-1`."
      ],
      "metadata": {
        "id": "NBwDluHKQ0Bj"
      }
    },
    {
      "cell_type": "code",
      "source": [
        "a.find(\"SCICS\")"
      ],
      "metadata": {
        "id": "yLJ4caGHQ2Yt"
      },
      "execution_count": null,
      "outputs": []
    },
    {
      "cell_type": "markdown",
      "source": [
        "The functionality of the `find` method is extended by the `replace` method, which finds a sub-string (first argument) in the variable, and then replaces it by a new string (second argument). This method returns a new string where the replacement took place."
      ],
      "metadata": {
        "id": "4lPj-_dSRJaG"
      }
    },
    {
      "cell_type": "code",
      "source": [
        "a.replace(\"World\", \"Idiot\")"
      ],
      "metadata": {
        "id": "-SB0qQxyarqS"
      },
      "execution_count": null,
      "outputs": []
    },
    {
      "cell_type": "markdown",
      "source": [
        "```\n",
        "🎮  Find out how the `replace` method behaves if the sub-string to replace is not found in the original string.\n",
        "```"
      ],
      "metadata": {
        "id": "2R1VcjrYRfog"
      }
    },
    {
      "cell_type": "code",
      "source": [
        "# Test me!"
      ],
      "metadata": {
        "id": "jXhFeijtRsw8"
      },
      "execution_count": null,
      "outputs": []
    },
    {
      "cell_type": "markdown",
      "source": [
        "The `replace` method is a good example to introduce a further nuance of Python coding – which might seem minor at the current stage, but will become extremely important as we go to more complex code. The concept of **mutability** describes if we can modify the value of a specific variable. Strings, for example, are ***immutable***, meaning that we cannot modify a string. The `replace` method, for example, returns the modified string, but leaves the original string untouched."
      ],
      "metadata": {
        "id": "quAb2GrERyr8"
      }
    },
    {
      "cell_type": "code",
      "source": [
        "a = \"Hello World!\"\n",
        "\n",
        "b = a.replace(\"World\", \"Class\")\n",
        "\n",
        "print(a)\n",
        "print(b)"
      ],
      "metadata": {
        "id": "ymhqipFdShqO"
      },
      "execution_count": null,
      "outputs": []
    },
    {
      "cell_type": "markdown",
      "source": [
        "If we want the variable `a` to contain the new (modified) string, we have to re-assign the variable. In other words, we have to over-write its previous value."
      ],
      "metadata": {
        "id": "XVBDfLyCSrbk"
      }
    },
    {
      "cell_type": "code",
      "source": [
        "a = a.replace(\"World\", \"Class\")\n",
        "\n",
        "print(a)"
      ],
      "metadata": {
        "id": "VRFiu4blS0G8"
      },
      "execution_count": null,
      "outputs": []
    },
    {
      "cell_type": "markdown",
      "source": [
        "This ***immutability*** is an important property of strings (as well as further Python classes like `int`, `float`, `bool`, `None` or `tuple`). We will learn about further mutable and immutable data types throughout the course of these tutorials."
      ],
      "metadata": {
        "id": "kLRgnHHHS66q"
      }
    },
    {
      "cell_type": "markdown",
      "source": [
        "### f-Strings"
      ],
      "metadata": {
        "id": "_xFjXa14a_uc"
      }
    },
    {
      "cell_type": "markdown",
      "source": [
        "Python strings offer some further useful functionality. Let us take a simple example: We have done some calculations, have stored the results of this calculation in a variable, and want to print out a sentence that describes the output. For this, we need to modify the content of the string that we want to print out, depending on the value of the variable.\n",
        "\n",
        "In Python, this can be done using so-called **f-strings**. An f-string is created by placing an `f` before the opening quotation marks. Any variable that should become part of this string can now be placed in curly brackets `{}`."
      ],
      "metadata": {
        "id": "GlDHPJRzbMVh"
      }
    },
    {
      "cell_type": "code",
      "source": [
        "a = \"Hello World!\"\n",
        "\n",
        "b = f\"The default example in any programming course is \\\"{a}\\\".\"\n",
        "\n",
        "print(b)"
      ],
      "metadata": {
        "id": "O-CLIag5a-Vc"
      },
      "execution_count": null,
      "outputs": []
    },
    {
      "cell_type": "markdown",
      "source": [
        "The variable that is embedded into the f-string does not necessarily need to be a string itself. As an example, we can also make numbers part of our final string."
      ],
      "metadata": {
        "id": "5fHi8rXOdQAC"
      }
    },
    {
      "cell_type": "code",
      "source": [
        "result = 12 // 5\n",
        "\n",
        "print(f\"The result of the floor division is {result}.\")"
      ],
      "metadata": {
        "id": "bB7udBHfbg1C"
      },
      "execution_count": null,
      "outputs": []
    },
    {
      "cell_type": "markdown",
      "source": [
        "It is even possible to evaluate more complex expressions within an f-string."
      ],
      "metadata": {
        "id": "9LERbeAZeVIw"
      }
    },
    {
      "cell_type": "code",
      "source": [
        "x = 4.25\n",
        "\n",
        "print(f\"I am doing a complex calculation, and the result is {x ** 2 // 4 + 1.1111}\")"
      ],
      "metadata": {
        "id": "JmtJ0YkTecIU"
      },
      "execution_count": null,
      "outputs": []
    },
    {
      "cell_type": "markdown",
      "source": [
        "There are a lot of options for applying additional format to the embedded variable. For this, a colon is used after the expression, and a specific format code is used. For example, we want to show only three digits after the comma, for which we could do:\n",
        "\n",
        "\n"
      ],
      "metadata": {
        "id": "OPlGXj4mdiSF"
      }
    },
    {
      "cell_type": "code",
      "source": [
        "a = 1.23456789\n",
        "\n",
        "print(f\"The number is {a:.3f}\")"
      ],
      "metadata": {
        "id": "A4i3AJsxbx4Y"
      },
      "execution_count": null,
      "outputs": []
    },
    {
      "cell_type": "markdown",
      "source": [
        "There is a large variety of different formatting options for strings, numbers, etc. A good overview is given at the bottom of [this page](https://www.pythoncheatsheet.org/cheatsheet/string-formatting)."
      ],
      "metadata": {
        "id": "13oCU26LfYqe"
      }
    },
    {
      "cell_type": "markdown",
      "source": [
        "## Lists"
      ],
      "metadata": {
        "id": "nyBwLWmKgI5F"
      }
    },
    {
      "cell_type": "markdown",
      "source": [
        "We have seen that a string is, in principle, a sequence of individual values – each one being exactly one alphanumeric character. As such, strings are a special case of so-called **compound data types**, which group together a number of individual values.\n",
        "\n",
        "One of the most flexible and easy-to-understand compound data types is the **list**. Lists can be written as a sequence of comma-separated values."
      ],
      "metadata": {
        "id": "r4e-Qy-UWtOG"
      }
    },
    {
      "cell_type": "code",
      "source": [
        "a = [1, 3, 5, 7, 9]"
      ],
      "metadata": {
        "id": "GZKpSZ4lfZPm"
      },
      "execution_count": null,
      "outputs": []
    },
    {
      "cell_type": "markdown",
      "source": [
        "### Accessing and Finding List Items"
      ],
      "metadata": {
        "id": "Wkb1Po4mil58"
      }
    },
    {
      "cell_type": "markdown",
      "source": [
        "Similar to strings, individual items of a list can be accessed by *indexing* with their list position."
      ],
      "metadata": {
        "id": "Kk_38MJgXTI4"
      }
    },
    {
      "cell_type": "code",
      "source": [
        "print(a[3])"
      ],
      "metadata": {
        "id": "Q2yvzxqjqcLx"
      },
      "execution_count": null,
      "outputs": []
    },
    {
      "cell_type": "markdown",
      "source": [
        "As we have learned from strings, specific sub-lists can also be obtained by *slicing*."
      ],
      "metadata": {
        "id": "5pIvRe1MXab9"
      }
    },
    {
      "cell_type": "code",
      "source": [
        "print(a[3:5])"
      ],
      "metadata": {
        "id": "AOen3ZBrqfgN"
      },
      "execution_count": null,
      "outputs": []
    },
    {
      "cell_type": "markdown",
      "source": [
        "Similarly, we can also check if a specific item is in a list, or find items in a list. The `list.index()` method gives us the index of the first occurrence of an element in a list."
      ],
      "metadata": {
        "id": "npHrkGERfQ8i"
      }
    },
    {
      "cell_type": "code",
      "source": [
        "print(4 in a)\n",
        "\n",
        "print(a.index(5))"
      ],
      "metadata": {
        "id": "vo2JfOaefb9Q"
      },
      "execution_count": null,
      "outputs": []
    },
    {
      "cell_type": "markdown",
      "source": [
        "```\n",
        "🎮  Inspect the behavior of indexing, slicing and finding elements in a list.\n",
        "Also test those scenarios where the indices are out of the value range of the list.\n",
        "```"
      ],
      "metadata": {
        "id": "WJ_eDLgzflQ0"
      }
    },
    {
      "cell_type": "code",
      "source": [
        "a = [1, 3, 5, 7, 9]\n",
        "\n",
        "# Try it out!"
      ],
      "metadata": {
        "id": "yk1JN9faf-Oz"
      },
      "execution_count": null,
      "outputs": []
    },
    {
      "cell_type": "markdown",
      "source": [
        "We can also access the length of a list in the exact same way that we learned with strings."
      ],
      "metadata": {
        "id": "qS-PdFYHjrwQ"
      }
    },
    {
      "cell_type": "code",
      "source": [
        "print(len(a))"
      ],
      "metadata": {
        "id": "Gom3ynC0jyXQ"
      },
      "execution_count": null,
      "outputs": []
    },
    {
      "cell_type": "markdown",
      "source": [
        "Moreover, concatenating multiple lists into a single list (using the `+` operator) can be done exactly the way we know it from strings."
      ],
      "metadata": {
        "id": "3PIS0jsfYsJe"
      }
    },
    {
      "cell_type": "code",
      "source": [
        "list_1 = [1, 2, 3, 4]\n",
        "list_2 = [5, 6, 7, 8]\n",
        "\n",
        "full_list = list_1 + list_2\n",
        "\n",
        "print(full_list)"
      ],
      "metadata": {
        "id": "Z3BtIEwtY4Kl"
      },
      "execution_count": null,
      "outputs": []
    },
    {
      "cell_type": "markdown",
      "source": [
        "In principle, there is no need that all values in a list are of the same data type – even though it is usually best practice to do so."
      ],
      "metadata": {
        "id": "yM-CZypiYMVc"
      }
    },
    {
      "cell_type": "code",
      "source": [
        "b = [\"Hello\", -1, 3.14159, True]\n",
        "\n",
        "print(b[1])\n",
        "\n",
        "print(b[2:])"
      ],
      "metadata": {
        "id": "xN3h1diJYbyS"
      },
      "execution_count": null,
      "outputs": []
    },
    {
      "cell_type": "markdown",
      "source": [
        "### Modifying the Contents of a List"
      ],
      "metadata": {
        "id": "9kfingv2isRj"
      }
    },
    {
      "cell_type": "markdown",
      "source": [
        "However, there is one big difference between the `str` and the `list` data types. Lists are **mutable** – which means we can modify the contents of a list in-place.\n",
        "\n",
        "As an example, we can re-assign the values of specific list elements."
      ],
      "metadata": {
        "id": "iaTcivTGYrIV"
      }
    },
    {
      "cell_type": "code",
      "source": [
        "a[2] = 20\n",
        "\n",
        "print(a)"
      ],
      "metadata": {
        "id": "xrkX6a-Oqg1U"
      },
      "execution_count": null,
      "outputs": []
    },
    {
      "cell_type": "markdown",
      "source": [
        "```\n",
        "🎮  What would happen if we tried the same thing with a string?\n",
        "```"
      ],
      "metadata": {
        "id": "tuPGwqudxYvj"
      }
    },
    {
      "cell_type": "code",
      "source": [
        "test_string = \"SCICS\"\n",
        "\n",
        "test_string[2] = \"J\""
      ],
      "metadata": {
        "id": "OEl9KZ8DxiJF"
      },
      "execution_count": null,
      "outputs": []
    },
    {
      "cell_type": "markdown",
      "source": [
        "This mutability of lists also allows the definition of some very useful methods:\n",
        "* The `list.append(item)` method adds a single new item to the end of the existing list.\n",
        "* The `list.insert(index, item)` inserts a new element into the list *before* the item with the given index.\n",
        "* The `list.extend(other_list)` method adds a list to the end of the existing list.\n",
        "* The `list.remove(item)` method removes an item from the list. If the item is present multiple times, the first item in the list is removed.\n",
        "* The `list.pop(index)` method removes the item at a specified index from the list, and returns this item. If no index is specified, it removes and returns the last element."
      ],
      "metadata": {
        "id": "g3RBp_FPbI3K"
      }
    },
    {
      "cell_type": "markdown",
      "source": [
        "```\n",
        "🎮  Given the `numbers` list below, perform the following operations:\n",
        "1. Create a variable `small_numbers` that contains all numbers up to \"five\". Print it.\n",
        "2. Append the values \"six\", \"seven\" and \"eight\" to the list. Print the list again.\n",
        "3. Remove the element \"five\" from the list. Print it again.\n",
        "4. What would the expected result of `small_numbers.pop(3)`? Run the command to verify your hypothesis.\n",
        "```"
      ],
      "metadata": {
        "id": "X1tXGYrPgyBt"
      }
    },
    {
      "cell_type": "code",
      "source": [
        "numbers = [\"zero\", \"one\", \"two\", \"three\", \"four\", \"five\", \"six\", \"seven\", \"eight\", \"nine\", \"ten\"]"
      ],
      "metadata": {
        "id": "kN6hSUa7qpaG"
      },
      "execution_count": null,
      "outputs": []
    },
    {
      "cell_type": "code",
      "source": [
        "small_numbers = \"?\"  # Task 1"
      ],
      "metadata": {
        "id": "FHdAFI_3e1NX"
      },
      "execution_count": null,
      "outputs": []
    },
    {
      "cell_type": "code",
      "source": [
        "# Task 2"
      ],
      "metadata": {
        "id": "wHkvm1m9dlX_"
      },
      "execution_count": null,
      "outputs": []
    },
    {
      "cell_type": "code",
      "source": [
        "# Task 3"
      ],
      "metadata": {
        "id": "yq4cnM1Bdn0c"
      },
      "execution_count": null,
      "outputs": []
    },
    {
      "cell_type": "code",
      "source": [
        "# Task 4"
      ],
      "metadata": {
        "id": "vZ8U3Ngfglr8"
      },
      "execution_count": null,
      "outputs": []
    },
    {
      "cell_type": "markdown",
      "source": [
        "> ❗ The mutability of lists creates a pitfall that we need to keep in mind while coding in Python. Simple assignment of mutable data types does not create a copy of the data, but refers to the same data in the memory. If we change the value of an item in the list, this will be seen through all other variables that refer to it.\n",
        "\n",
        "```\n",
        "🎮  Execute the following few cells to exemplify this behavior!\n",
        "```"
      ],
      "metadata": {
        "id": "P63Y3BKyjBPi"
      }
    },
    {
      "cell_type": "code",
      "source": [
        "base_list = [1.24, -1.10, 4.72]\n",
        "\n",
        "reference_list = base_list\n",
        "\n",
        "print(reference_list)"
      ],
      "metadata": {
        "id": "fWzpV6lPjAy3"
      },
      "execution_count": null,
      "outputs": []
    },
    {
      "cell_type": "code",
      "source": [
        "base_list.append(24.24)\n",
        "\n",
        "print(reference_list)"
      ],
      "metadata": {
        "id": "Y1dobtw7jebE"
      },
      "execution_count": null,
      "outputs": []
    },
    {
      "cell_type": "markdown",
      "source": [
        "If we want to avoid this behavior, and make sure that the `reference_list` is not modified when we modify the `base_list`, we need to create a *copy* of the original list rather than a reference. This can be done in two ways:\n",
        "* via the builtin `list.copy()` method\n",
        "* via slicing.\n",
        "\n",
        "Both approaches create a new list that just contains the same values."
      ],
      "metadata": {
        "id": "xCI8EopGldth"
      }
    },
    {
      "cell_type": "code",
      "source": [
        "base_list = [1.24, -1.10, 4.72]\n",
        "\n",
        "copy_list_1 = base_list.copy()\n",
        "copy_list_2 = base_list[:]\n",
        "\n",
        "print(copy_list_1)\n",
        "print(copy_list_2)"
      ],
      "metadata": {
        "id": "3r9NrZAMkKsv"
      },
      "execution_count": null,
      "outputs": []
    },
    {
      "cell_type": "code",
      "source": [
        "base_list.append(24.24)\n",
        "\n",
        "print(copy_list_1)\n",
        "print(copy_list_2)"
      ],
      "metadata": {
        "id": "NIyhRarIl5zW"
      },
      "execution_count": null,
      "outputs": []
    },
    {
      "cell_type": "markdown",
      "source": [
        "### Changing the Order of Elements in a List"
      ],
      "metadata": {
        "id": "ZbjnUkr_mXqS"
      }
    },
    {
      "cell_type": "markdown",
      "source": [
        "In a list, we can access every element by its index – meaning that the order of elements plays an important role.\n",
        "\n",
        "The `list.reverse()` function reverts the order of elements in a list. Note that this operation, again, is done *in-place* – meaning that it modifies the values of the original list."
      ],
      "metadata": {
        "id": "n8ZIWsUCmcYm"
      }
    },
    {
      "cell_type": "code",
      "source": [
        "numbers = [0, 1, 2, 3, 4, 5, 6, 7, 8, 9]\n",
        "\n",
        "numbers.reverse()\n",
        "\n",
        "print(numbers)"
      ],
      "metadata": {
        "id": "Skj0N6a9mbwl"
      },
      "execution_count": null,
      "outputs": []
    },
    {
      "cell_type": "markdown",
      "source": [
        "```\n",
        "🎮  Write Python code that creates a new variable that contains the list in reverse order.\n",
        "The content of the original variable should stay untouched.\n",
        "```"
      ],
      "metadata": {
        "id": "MGZ7sdkJnb6i"
      }
    },
    {
      "cell_type": "code",
      "source": [
        "# Try it!"
      ],
      "metadata": {
        "id": "q7StFLAOnKMk"
      },
      "execution_count": null,
      "outputs": []
    },
    {
      "cell_type": "markdown",
      "source": [
        "Moreover, we can **sort** the elements in a list by the `list.sort()` method. This operation works in-place, too.  "
      ],
      "metadata": {
        "id": "AjNWSmn8no-J"
      }
    },
    {
      "cell_type": "code",
      "source": [
        "print(numbers)\n",
        "\n",
        "numbers.sort()\n",
        "\n",
        "print(numbers)"
      ],
      "metadata": {
        "id": "V2xYIRCppfq1"
      },
      "execution_count": null,
      "outputs": []
    },
    {
      "cell_type": "markdown",
      "source": [
        "For `int` or `float` items, the functionality of `sort()` is very intuitive. For `str` items, the `sort` method sorts alphabetically."
      ],
      "metadata": {
        "id": "38Rd6ronpm4T"
      }
    },
    {
      "cell_type": "code",
      "source": [
        "numbers = [\"zero\", \"one\", \"two\", \"three\", \"four\", \"five\", \"six\", \"seven\", \"eight\", \"nine\", \"ten\"]\n",
        "\n",
        "numbers.sort()\n",
        "\n",
        "print(numbers)"
      ],
      "metadata": {
        "id": "e6AU6YWmpkGR"
      },
      "execution_count": null,
      "outputs": []
    },
    {
      "cell_type": "markdown",
      "source": [
        "### Looping over Lists"
      ],
      "metadata": {
        "id": "7yerFYSBqzL_"
      }
    },
    {
      "cell_type": "markdown",
      "source": [
        "So far, lists have mainly been yet another data type that we can store data in. We will now learn how to automatically access or modify all elements of a list. For this, execute the code in the following cell:"
      ],
      "metadata": {
        "id": "1lZbLO9Kq2Ch"
      }
    },
    {
      "cell_type": "code",
      "source": [
        "numbers = [0, 1, 2, 3, 4, 5, 6, 7, 8, 9]\n",
        "\n",
        "for num in numbers:\n",
        "    square_number = num ** 2\n",
        "    print(f\"The square of the number {num} is {square_number}\")"
      ],
      "metadata": {
        "id": "rasgBEtHq1XU"
      },
      "execution_count": null,
      "outputs": []
    },
    {
      "cell_type": "markdown",
      "source": [
        "With a `for` loop, we can automatically iterate through all elements in the list one-by-one, and then execute some specific lines of code for each of these variables.\n",
        "\n",
        "`for` is one of the basic **control flow expressions** in Python. Control expressions change the flow of the code from the classical paradigm of \"top-to-bottom\" execution. In the example above, the lines `square_number = ...` and `print(f\"The square...` are executed multiple times instead of just once (if the code was executed from top to bottom). We will get to know further control expressions in the next chapters.\n",
        "\n",
        "The syntax involves the use of a colon after the full control statement. All code that is executed under this control statement (i.e. all code that is executed for each element in our list) is written with **indentation**.\n",
        "\n",
        "> ❗  Unlike other programming languages, Python is sensitive to indentation, and a proper use of indentation is essential. Usually, one indentation level is equal to four spaces. Improper or inconsistent indentation will lead to errors!\n",
        "\n",
        "In the `for` control statement, we define a *local* variable (named `num` in the example above) which is re-assigned to the value of the current list item in each iteration. After completion of the loop, the value of this local variable is not meaningful any more."
      ],
      "metadata": {
        "id": "JVOlNqtZreGT"
      }
    },
    {
      "cell_type": "markdown",
      "source": [
        "Loops give us a first idea of what *programming* is actually about – we tell a computer to automatically do a number of operations in just a few lines of code. Efficiently using these control expressions is an important skill in programming, and needs a lot of practice.\n",
        "\n",
        "As an example, we could create a second list that stores these square numbers:"
      ],
      "metadata": {
        "id": "kj-EoqkttdUo"
      }
    },
    {
      "cell_type": "code",
      "source": [
        "square_numbers = []  # We first create an empty list\n",
        "\n",
        "for num in numbers:\n",
        "    square_number = num ** 2\n",
        "    square_numbers.append(square_number)  # We now append the square number to the `square_numbers` list.\n",
        "\n",
        "print(square_numbers)"
      ],
      "metadata": {
        "id": "htfl-T_Prar7"
      },
      "execution_count": null,
      "outputs": []
    },
    {
      "cell_type": "markdown",
      "source": [
        "```\n",
        "🎮  Create a loop over `numbers` that prints out the sum of all previous numbers.\n",
        "Hint: Create a variable that is modified in every iteration!\n",
        "```"
      ],
      "metadata": {
        "id": "kKwoRzq4vfm4"
      }
    },
    {
      "cell_type": "code",
      "source": [
        "# Try it!"
      ],
      "metadata": {
        "id": "6Kfm4cfCuMjw"
      },
      "execution_count": null,
      "outputs": []
    }
  ]
}