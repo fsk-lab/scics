{
  "nbformat": 4,
  "nbformat_minor": 0,
  "metadata": {
    "colab": {
      "provenance": [],
      "authorship_tag": "ABX9TyM4vvg/ewpyaU+/GG6RSfiG",
      "include_colab_link": true
    },
    "kernelspec": {
      "name": "python3",
      "display_name": "Python 3"
    },
    "language_info": {
      "name": "python"
    }
  },
  "cells": [
    {
      "cell_type": "markdown",
      "metadata": {
        "id": "view-in-github",
        "colab_type": "text"
      },
      "source": [
        "<a href=\"https://colab.research.google.com/github/fsk-lab/scics/blob/main/01_Introduction.ipynb\" target=\"_parent\"><img src=\"https://colab.research.google.com/assets/colab-badge.svg\" alt=\"Open In Colab\"/></a>"
      ]
    },
    {
      "cell_type": "markdown",
      "source": [
        "# A Gentle Introduction to Python\n",
        "\n",
        "In this notebook, we will slowly work our way through the very basics of coding in Python.\n",
        "\n",
        "\n",
        "\n",
        "> **ATTENTION** This notebook is still under construction!\n",
        "\n"
      ],
      "metadata": {
        "id": "w4T00grSdGr1"
      }
    },
    {
      "cell_type": "markdown",
      "source": [
        "## Getting Used to Working with Notebooks\n",
        "\n",
        "Let us start by getting familiar with the use of Python in the interactive mode (IPython). For each of the code cells in a notebook, you can modify the code as you like. Each cell can then be executed by clicking the small ▶  icon on the left-hand side of the cell, or by using `Shift + Enter`.\n",
        "\n",
        "As we have learned in the class, Python is an imperative programming language. The user – meaning, you – gives it a command or a sequence of commands, and then it executes it one by one. If I tell Python to print out the sentence `\"Hello World!\"`, it will do that.\n",
        "\n",
        "```\n",
        "Execute the following cell!\n",
        "```"
      ],
      "metadata": {
        "id": "PivQszk5e6q6"
      }
    },
    {
      "cell_type": "code",
      "source": [
        "print(\"Hello World!\")"
      ],
      "metadata": {
        "colab": {
          "base_uri": "https://localhost:8080/"
        },
        "id": "ukGAmNNwncpM",
        "outputId": "6b4ab7f3-d9ed-4252-ba68-5ec676e98f0b"
      },
      "execution_count": 30,
      "outputs": [
        {
          "output_type": "stream",
          "name": "stdout",
          "text": [
            "Hello World!\n"
          ]
        }
      ]
    },
    {
      "cell_type": "markdown",
      "source": [
        "Nice! We have just run our first little – and very simple – piece of Python code. `print` is a useful function that we can use for printing all kinds of information to the console output. Effectively, it has the same functionality as the `echo` function in bash that we have learned about before. But we also start noticing the first differences between the ***syntax*** of Python and bash. In Python, the arguments of a function (here: the things that should be printed out) must be placed in parentheses. We will learn much more about the syntax of Python as we move forward.\n",
        "\n",
        "\n",
        "\n",
        "---\n",
        "\n",
        "\n",
        "\n",
        "But of course, we can also do more complicated things than just printing stuff. For the start, we can use a notebook cell like a calculator, and add (`+`), subtract (`-`), multiply (`*`) or divide (`/`) numbers.\n",
        "\n",
        "```\n",
        "Explore some basic calculation functionalities in the following cell!\n",
        "```"
      ],
      "metadata": {
        "id": "4fVUSY-oncHG"
      }
    },
    {
      "cell_type": "code",
      "execution_count": 4,
      "metadata": {
        "colab": {
          "base_uri": "https://localhost:8080/"
        },
        "id": "RrGVcqQ1cpea",
        "outputId": "c18b77ea-5203-49a0-941d-ba128780adb3"
      },
      "outputs": [
        {
          "output_type": "execute_result",
          "data": {
            "text/plain": [
              "2.1844660194174756"
            ]
          },
          "metadata": {},
          "execution_count": 4
        }
      ],
      "source": [
        "3 / 4.12 * 3"
      ]
    },
    {
      "cell_type": "markdown",
      "source": [
        "## Assigning Variables\n",
        "\n",
        "Arguably, all of the above is not very useful yet. However, programming becomes much more interesting when we start to store information so that we can use it again at a later stage.\n",
        "\n",
        "In Python, information is stored in **variables**."
      ],
      "metadata": {
        "id": "pAap5sM5gTSh"
      }
    },
    {
      "cell_type": "code",
      "source": [
        "a = 3"
      ],
      "metadata": {
        "id": "4YbE9uKYgYBW"
      },
      "execution_count": 10,
      "outputs": []
    },
    {
      "cell_type": "markdown",
      "source": [
        "Note that this cell does not produce any output now!\n",
        "\n",
        "The fact that e.g. the \"calculator\" cells above showed some output after we ran them (i.e. the result of the calculation) is a special feature of interactive Python. After executing a cell, the result of the last row is shown below the cell. In this case, the assignment of the value 3 to the variable `a` does not produce any output, so nothing is shown.\n",
        "\n",
        "\n",
        "> **Note**: This cell output feature is quite handy for learning Python and testing code – but it is usually not useful outside of interactive Python sessions."
      ],
      "metadata": {
        "id": "bz7xQyUHhqLn"
      }
    },
    {
      "cell_type": "markdown",
      "source": [
        "As a user, we are free to choose variable names as we like. All combinations of letters, numbers and the `_` are allowed. The only exception from this rule is that variable names must not start with a number. Examples of allowed variable names are:\n",
        "* `a`\n",
        "* `temperature`\n",
        "* `spectrometer_frequency`\n",
        "\n",
        "\n",
        "> **Best Practices** (I): Especially in complex code, variable names should be informative! `temperature` is a much better variable name than `t`.\n",
        "\n",
        "> **Best Practices** (II): Even though it is formally allowed, current Python style guides recommend not to use capital letters in variable names.\n",
        "\n",
        "\n",
        "\n",
        "```\n",
        "Try to assign some variables with allowed and forbidden variable names, and see what happens!\n",
        "```\n",
        "\n"
      ],
      "metadata": {
        "id": "f4kf_vu6nBXK"
      }
    },
    {
      "cell_type": "code",
      "source": [
        "9a = 3"
      ],
      "metadata": {
        "colab": {
          "base_uri": "https://localhost:8080/",
          "height": 106
        },
        "id": "s56THMNli6HH",
        "outputId": "c2d7cd6a-3c25-4f3a-8a29-790daf227bbf"
      },
      "execution_count": 31,
      "outputs": [
        {
          "output_type": "error",
          "ename": "SyntaxError",
          "evalue": "invalid decimal literal (<ipython-input-31-ca8b9f94f25d>, line 1)",
          "traceback": [
            "\u001b[0;36m  File \u001b[0;32m\"<ipython-input-31-ca8b9f94f25d>\"\u001b[0;36m, line \u001b[0;32m1\u001b[0m\n\u001b[0;31m    9a = 3\u001b[0m\n\u001b[0m    ^\u001b[0m\n\u001b[0;31mSyntaxError\u001b[0m\u001b[0;31m:\u001b[0m invalid decimal literal\n"
          ]
        }
      ]
    },
    {
      "cell_type": "markdown",
      "source": [
        "If we try to assign a variable that starts with a number (e.g. trying `9a = 3`), Python will raise a `SyntaxError`, telling us that our code does not follow proper Python syntax. The error trace may look scary at the first glance, but it usually contains a lot of helpful information to spot where our error lies. Compared to other programming languages, this is a major strength of Python – error messages are very often quite informative!  "
      ],
      "metadata": {
        "id": "-8U93EdQoQGW"
      }
    },
    {
      "cell_type": "markdown",
      "source": [
        "### Basic Variable Types in Python\n",
        "\n",
        "Variables in Python have different types, and depending on the type, we can do different things with them.  \n",
        "\n",
        "* Boolean values (**bool**): `True` or `False`\n",
        "* Integer numbers (**int**): e.g. 1 or 3 or -4\n",
        "* Floating-point numbers (**float**): e.g. 1.427 or –0.00421235 or\n",
        "* Strings (**str**): e.g. \"Hello World!\" or \"I hate computers.\", or absurd German words like \"Eierschalensollbruchstellenverursacher\"\n",
        "* The \"None\" type (**None**): `None`\n",
        "\n",
        "It is important to note that Python is a **dynamically typed** language – meaning that we do not have to explicitly define variable types. If we assign `a == 3`, then Python automatically identifies that this is probably an integer. For `b == 3.4`, it figures out that the data type should be a floating-point number. Depending on the operation performed, the data type of a variable can also change!\n",
        "\n",
        "We can get the type of a given variable by using the `type` function."
      ],
      "metadata": {
        "id": "GEF-bl0qeGz8"
      }
    },
    {
      "cell_type": "code",
      "source": [
        "a = 3\n",
        "\n",
        "type(a)"
      ],
      "metadata": {
        "colab": {
          "base_uri": "https://localhost:8080/"
        },
        "id": "Xhzll8_MgiGS",
        "outputId": "268f8861-ec5e-433c-bcad-bbd867a8b4f5"
      },
      "execution_count": 32,
      "outputs": [
        {
          "output_type": "execute_result",
          "data": {
            "text/plain": [
              "int"
            ]
          },
          "metadata": {},
          "execution_count": 32
        }
      ]
    },
    {
      "cell_type": "code",
      "source": [
        "b = 3.4\n",
        "\n",
        "type(b)"
      ],
      "metadata": {
        "colab": {
          "base_uri": "https://localhost:8080/"
        },
        "id": "t84HT7TOhDW1",
        "outputId": "deea4a14-c97f-4096-ec28-5a8b023c56cc"
      },
      "execution_count": 33,
      "outputs": [
        {
          "output_type": "execute_result",
          "data": {
            "text/plain": [
              "float"
            ]
          },
          "metadata": {},
          "execution_count": 33
        }
      ]
    },
    {
      "cell_type": "code",
      "source": [
        "c = a / 4\n",
        "\n",
        "type(c)"
      ],
      "metadata": {
        "colab": {
          "base_uri": "https://localhost:8080/"
        },
        "id": "Orpo9YxhhKKl",
        "outputId": "c421d709-8ff8-45a2-c377-f1deda3dfe70"
      },
      "execution_count": 34,
      "outputs": [
        {
          "output_type": "execute_result",
          "data": {
            "text/plain": [
              "float"
            ]
          },
          "metadata": {},
          "execution_count": 34
        }
      ]
    },
    {
      "cell_type": "code",
      "source": [],
      "metadata": {
        "id": "iuGxixWZvuab"
      },
      "execution_count": null,
      "outputs": []
    },
    {
      "cell_type": "markdown",
      "source": [
        "We can force a variable to assume a specific data type in a process which is called **casting**. In the example below, we want to store the value in `a` (which is 3) as floating-point number – so we can cast it by calling `float(a)`."
      ],
      "metadata": {
        "id": "IiJ6M3javSAD"
      }
    },
    {
      "cell_type": "code",
      "source": [
        "d = float(a)\n",
        "\n",
        "d"
      ],
      "metadata": {
        "colab": {
          "base_uri": "https://localhost:8080/"
        },
        "id": "D7xI1bOAhOdD",
        "outputId": "4fe6b3e9-2cd1-4543-e0a0-1ad3dec65c05"
      },
      "execution_count": 37,
      "outputs": [
        {
          "output_type": "execute_result",
          "data": {
            "text/plain": [
              "3.0"
            ]
          },
          "metadata": {},
          "execution_count": 37
        }
      ]
    },
    {
      "cell_type": "code",
      "source": [
        "e = int(b)\n",
        "\n",
        "e"
      ],
      "metadata": {
        "colab": {
          "base_uri": "https://localhost:8080/"
        },
        "id": "Lz346tGOv7jN",
        "outputId": "c26e45e9-ffe1-4bd3-e64f-58fbf17f623f"
      },
      "execution_count": 38,
      "outputs": [
        {
          "output_type": "execute_result",
          "data": {
            "text/plain": [
              "3"
            ]
          },
          "metadata": {},
          "execution_count": 38
        }
      ]
    },
    {
      "cell_type": "code",
      "source": [
        "f = int(\"three\")"
      ],
      "metadata": {
        "colab": {
          "base_uri": "https://localhost:8080/",
          "height": 141
        },
        "id": "AH7KrP8Yv7UH",
        "outputId": "7ee0a1b6-d58b-4f0b-a664-6dc194dfd61a"
      },
      "execution_count": 39,
      "outputs": [
        {
          "output_type": "error",
          "ename": "ValueError",
          "evalue": "invalid literal for int() with base 10: 'three'",
          "traceback": [
            "\u001b[0;31m---------------------------------------------------------------------------\u001b[0m",
            "\u001b[0;31mValueError\u001b[0m                                Traceback (most recent call last)",
            "\u001b[0;32m<ipython-input-39-8202da82ff64>\u001b[0m in \u001b[0;36m<cell line: 1>\u001b[0;34m()\u001b[0m\n\u001b[0;32m----> 1\u001b[0;31m \u001b[0mf\u001b[0m \u001b[0;34m=\u001b[0m \u001b[0mint\u001b[0m\u001b[0;34m(\u001b[0m\u001b[0;34m\"three\"\u001b[0m\u001b[0;34m)\u001b[0m\u001b[0;34m\u001b[0m\u001b[0;34m\u001b[0m\u001b[0m\n\u001b[0m",
            "\u001b[0;31mValueError\u001b[0m: invalid literal for int() with base 10: 'three'"
          ]
        }
      ]
    },
    {
      "cell_type": "markdown",
      "source": [
        "Note that casting variable types does not always work without loss of information – and some data types and values can also be incompatible!"
      ],
      "metadata": {
        "id": "tF8gjXbfv03Q"
      }
    },
    {
      "cell_type": "markdown",
      "source": [
        "## Basic Operations in Python"
      ],
      "metadata": {
        "id": "4y1xaAQPjcLz"
      }
    },
    {
      "cell_type": "markdown",
      "source": [
        "### Calculating in Python\n",
        "\n",
        "Using the basic number data types `int` and `float`, we can do a number of simple calculations using Python:\n",
        "\n",
        "* Addition: `+`\n",
        "* Subtraction: `-`\n",
        "* Multiplication: `*`\n",
        "* Division: `/`\n",
        "* Floor division: `//` (\"divide and round off\")\n",
        "* Modulus: `%` (\"remainder of division\")\n",
        "* Exponentiation: `**`\n",
        "\n",
        "Obviously, we can also do much more complex maths using Python. We will learn this at a later stage.\n",
        "\n",
        "---\n",
        "\n",
        "For now, let us explore the functionality of these basic calculation operations."
      ],
      "metadata": {
        "id": "T2K9NX0Tjhvi"
      }
    },
    {
      "cell_type": "code",
      "source": [
        "4 % 3"
      ],
      "metadata": {
        "colab": {
          "base_uri": "https://localhost:8080/"
        },
        "id": "YBzoacMrjbml",
        "outputId": "64e5ae6f-6cde-4196-8efc-8b2dfa4e8e01"
      },
      "execution_count": 12,
      "outputs": [
        {
          "output_type": "execute_result",
          "data": {
            "text/plain": [
              "1"
            ]
          },
          "metadata": {},
          "execution_count": 12
        }
      ]
    },
    {
      "cell_type": "markdown",
      "source": [
        "### Comparison Operators\n",
        "\n",
        "Comparison operators are used to compare two values. A comparison always returns a Boolean value (i.e. `True` if the comparison is true, or `False` if the comparison is false).\n",
        "\n",
        "* Equal to: `==`\n",
        "* Not equal to: `!=`\n",
        "* Greater than: `>`\n",
        "* Less than: `<`\n",
        "* Greater than or equal to: `>=`\n",
        "* Less than or equal to: `<=`\n",
        "\n",
        "> **Attention**: Please note the difference between `=` (used for assigning variables) and `==` (used for comparing variables). `a = 3` sets the value of variable `a` to 3, whereas `a == 3` checks whether the value of variable `a` is 3.\n",
        "\n",
        "```\n",
        "In the following cell, we assign values to the variables `a`, `b` and `c`.\n",
        "We can now try out the functionality of the different comparison operators.\n",
        "```"
      ],
      "metadata": {
        "id": "ERZVBbivmD7s"
      }
    },
    {
      "cell_type": "code",
      "source": [
        "a = 3\n",
        "b = 2.45\n",
        "c = -0.02145894850394\n",
        "\n",
        "c > b"
      ],
      "metadata": {
        "colab": {
          "base_uri": "https://localhost:8080/"
        },
        "id": "XlGlMnzgrQn_",
        "outputId": "e0ec513b-35fd-4430-f054-73ac02cbc7c7"
      },
      "execution_count": 29,
      "outputs": [
        {
          "output_type": "execute_result",
          "data": {
            "text/plain": [
              "False"
            ]
          },
          "metadata": {},
          "execution_count": 29
        }
      ]
    },
    {
      "cell_type": "markdown",
      "source": [
        "### Boolean Logic in Python\n",
        "\n",
        "* AND: `and`\n",
        "* OR: `or`\n",
        "* NOT: `not`"
      ],
      "metadata": {
        "id": "VHvTI649k-Q5"
      }
    },
    {
      "cell_type": "code",
      "source": [],
      "metadata": {
        "id": "4WxtsSbPk4A6"
      },
      "execution_count": null,
      "outputs": []
    },
    {
      "cell_type": "code",
      "source": [],
      "metadata": {
        "id": "5gIzDxYllM46"
      },
      "execution_count": null,
      "outputs": []
    },
    {
      "cell_type": "markdown",
      "source": [
        "Expressions? Recap output of cell?"
      ],
      "metadata": {
        "id": "Bo2EgojZrLGC"
      }
    }
  ]
}