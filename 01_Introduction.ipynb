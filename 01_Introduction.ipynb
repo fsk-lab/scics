{
  "nbformat": 4,
  "nbformat_minor": 0,
  "metadata": {
    "colab": {
      "provenance": [],
      "authorship_tag": "ABX9TyM9eXZoOFJS8yiXZMWRVZ4i",
      "include_colab_link": true
    },
    "kernelspec": {
      "name": "python3",
      "display_name": "Python 3"
    },
    "language_info": {
      "name": "python"
    }
  },
  "cells": [
    {
      "cell_type": "markdown",
      "metadata": {
        "id": "view-in-github",
        "colab_type": "text"
      },
      "source": [
        "<a href=\"https://colab.research.google.com/github/fsk-lab/scics/blob/main/01_Introduction.ipynb\" target=\"_parent\"><img src=\"https://colab.research.google.com/assets/colab-badge.svg\" alt=\"Open In Colab\"/></a>"
      ]
    },
    {
      "cell_type": "markdown",
      "source": [
        "# A Gentle Introduction to Python"
      ],
      "metadata": {
        "id": "gaLO-C3QiyDh"
      }
    },
    {
      "cell_type": "markdown",
      "source": [
        "\n",
        "This notebook provides a gentle introduction to the very basics of the Python language. Herein, we will lern about the basic syntax of Python, and will slowly go through some of the most fundamental data types, and how to operate with them.\n",
        "\n",
        "Importantly, this notebook is interactive. Whenever you find a highlighted block like this, you are explicitly encouraged to play with the code cell(s) below.\n",
        "\n",
        "```\n",
        "🎮  Try out some options for the following code!\n",
        "```\n",
        "In addition, these notebooks try to give you some practical advice when starting to work with Python.\n",
        "* ❗  This indicates pitfalls with Python, or some unexpected behavior.\n",
        "* 💡  You will find some interesting or useful tricks here.\n",
        "* 🔄  Here, we recap contents that we have learned in an earlier tutorial.\n",
        "* 🧠  The notebook introduces advanced contents. They are not required for the class, but may be interesting.\n",
        "\n",
        "Enjoy these notebooks as a gentle introduction to Python. Try out as many features as possible, and modify the code cells according to your thoughts and questions. Remember two things: 1) You can't break anything, and 2) only practice makes perfect!"
      ],
      "metadata": {
        "id": "w4T00grSdGr1"
      }
    },
    {
      "cell_type": "markdown",
      "source": [
        "## Getting Used to Working with Notebooks"
      ],
      "metadata": {
        "id": "PivQszk5e6q6"
      }
    },
    {
      "cell_type": "markdown",
      "source": [
        "\n",
        "Let us start by getting familiar with the use of Python in the interactive mode (IPython). For each of the code cells in a notebook, you can modify the code as you like. Each cell can then be executed by clicking the small ▶  icon on the left-hand side of the cell, or by using `Shift + Enter`.\n",
        "\n",
        "As we have learned in the class, Python is an imperative programming language. The user – meaning, you – gives it a command or a sequence of commands, and then it executes it one by one. If I tell Python to print out the sentence `\"Hello World!\"`, it will do that.\n",
        "\n",
        "```\n",
        "🎮  Execute the following cell!\n",
        "```"
      ],
      "metadata": {
        "id": "oGUqpqcVzzO5"
      }
    },
    {
      "cell_type": "code",
      "source": [
        "print(\"Hello World!\")"
      ],
      "metadata": {
        "colab": {
          "base_uri": "https://localhost:8080/"
        },
        "id": "ukGAmNNwncpM",
        "outputId": "727188bf-2c47-4ca2-e4dc-8174908523f9"
      },
      "execution_count": null,
      "outputs": [
        {
          "output_type": "stream",
          "name": "stdout",
          "text": [
            "Hello World!\n"
          ]
        }
      ]
    },
    {
      "cell_type": "markdown",
      "source": [
        "Nice! We have just run our first little – and very simple – piece of Python code. `print` is a useful function that we can use for printing all kinds of information to the console output. Effectively, it has the same functionality as the `echo` function in bash that we have learned about before. But we also start noticing the first differences between the ***syntax*** of Python and bash. In Python, the arguments of a function (here: the things that should be printed out) must be placed in parentheses. We will learn much more about the syntax of Python as we move forward."
      ],
      "metadata": {
        "id": "4fVUSY-oncHG"
      }
    },
    {
      "cell_type": "markdown",
      "source": [
        "\n",
        "But of course, we can also do more complicated things than just printing stuff. For the start, we can use a notebook cell like a calculator, and add (`+`), subtract (`-`), multiply (`*`) or divide (`/`) numbers.\n",
        "\n",
        "```\n",
        "🎮  Explore some basic calculation functionalities in the following cell!\n",
        "```"
      ],
      "metadata": {
        "id": "l7ZOZFRIoMX1"
      }
    },
    {
      "cell_type": "code",
      "execution_count": null,
      "metadata": {
        "colab": {
          "base_uri": "https://localhost:8080/"
        },
        "id": "RrGVcqQ1cpea",
        "outputId": "8bc3648c-0a0c-4aff-ab98-897ebc0ae0ff"
      },
      "outputs": [
        {
          "output_type": "execute_result",
          "data": {
            "text/plain": [
              "2.1844660194174756"
            ]
          },
          "metadata": {},
          "execution_count": 2
        }
      ],
      "source": [
        "3 / 4.12 * 3"
      ]
    },
    {
      "cell_type": "markdown",
      "source": [
        "## Assigning Variables"
      ],
      "metadata": {
        "id": "pAap5sM5gTSh"
      }
    },
    {
      "cell_type": "markdown",
      "source": [
        "Arguably, all of the above is not very useful yet. However, programming becomes much more interesting when we start to store information so that we can use it again at a later stage.\n",
        "\n",
        "In Python, information is stored in **variables**."
      ],
      "metadata": {
        "id": "uV95wykYzsg6"
      }
    },
    {
      "cell_type": "code",
      "source": [
        "a = 3"
      ],
      "metadata": {
        "id": "4YbE9uKYgYBW"
      },
      "execution_count": null,
      "outputs": []
    },
    {
      "cell_type": "markdown",
      "source": [
        "Note that this cell does not produce any output now!\n",
        "\n",
        "The fact that e.g. the \"calculator\" cells above showed some output after we ran them (i.e. the result of the calculation) is a special feature of interactive Python. After executing a cell, the result of the last row is shown below the cell. In this case, the assignment of the value 3 to the variable `a` does not produce any output, so nothing is shown.\n",
        "\n",
        "\n",
        "> ❗  This cell output feature is quite handy for learning Python and testing code – but it is usually not useful outside of interactive Python sessions."
      ],
      "metadata": {
        "id": "bz7xQyUHhqLn"
      }
    },
    {
      "cell_type": "markdown",
      "source": [
        "As a user, we are free to choose variable names as we like. All combinations of letters, numbers and the `_` are allowed. The only exception from this rule is that variable names must not start with a number. Examples of allowed variable names are:\n",
        "* `a`\n",
        "* `temperature`\n",
        "* `spectrometer_frequency`\n",
        "\n",
        "\n",
        "> **Best Practices** (I): Especially in complex code, variable names should be informative! `temperature` is a much better variable name than `t`.\n",
        "\n",
        "> **Best Practices** (II): Even though it is formally allowed, current Python style guides recommend not to use capital letters in variable names.\n",
        "\n",
        "\n",
        "\n",
        "```\n",
        "🎮  Try to assign some variables with allowed and forbidden variable names, and see what happens!\n",
        "```\n",
        "\n"
      ],
      "metadata": {
        "id": "f4kf_vu6nBXK"
      }
    },
    {
      "cell_type": "code",
      "source": [
        "9a = 3"
      ],
      "metadata": {
        "colab": {
          "base_uri": "https://localhost:8080/",
          "height": 106
        },
        "id": "s56THMNli6HH",
        "outputId": "eeab48e6-b158-4bec-c99c-934f06c1faef"
      },
      "execution_count": null,
      "outputs": [
        {
          "output_type": "error",
          "ename": "SyntaxError",
          "evalue": "invalid decimal literal (<ipython-input-4-ca8b9f94f25d>, line 1)",
          "traceback": [
            "\u001b[0;36m  File \u001b[0;32m\"<ipython-input-4-ca8b9f94f25d>\"\u001b[0;36m, line \u001b[0;32m1\u001b[0m\n\u001b[0;31m    9a = 3\u001b[0m\n\u001b[0m    ^\u001b[0m\n\u001b[0;31mSyntaxError\u001b[0m\u001b[0;31m:\u001b[0m invalid decimal literal\n"
          ]
        }
      ]
    },
    {
      "cell_type": "markdown",
      "source": [
        "If we try to assign a variable that starts with a number (e.g. trying `9a = 3`), Python will raise a `SyntaxError`, telling us that our code does not follow proper Python syntax. The error trace may look scary at the first glance, but it usually contains a lot of helpful information to spot where our error lies. Compared to other programming languages, this is a major strength of Python – error messages are very often quite informative!  "
      ],
      "metadata": {
        "id": "-8U93EdQoQGW"
      }
    },
    {
      "cell_type": "markdown",
      "source": [
        "### Basic Variable Types in Python\n"
      ],
      "metadata": {
        "id": "tfvwhE8Virwl"
      }
    },
    {
      "cell_type": "markdown",
      "source": [
        "\n",
        "Variables in Python have different types, and depending on the type, we can do different things with them.  \n",
        "\n",
        "* Boolean values (**bool**): `True` or `False`\n",
        "* Integer numbers (**int**): e.g. 1 or 3 or -4\n",
        "* Floating-point numbers (**float**): e.g. 1.427 or –0.00421235 or\n",
        "* Strings (**str**): e.g. \"Hello World!\" or \"I hate computers.\", or absurd German words like \"Eierschalensollbruchstellenverursacher\"\n",
        "* The \"None\" type (**None**): `None`\n",
        "\n",
        "It is important to note that Python is a **dynamically typed** language – meaning that we do not have to explicitly define variable types. If we assign `a == 3`, then Python automatically identifies that this is probably an integer. For `b == 3.4`, it figures out that the data type should be a floating-point number. Depending on the operation performed, the data type of a variable can also change!\n",
        "\n",
        "We can get the type of a given variable by using the `type` function."
      ],
      "metadata": {
        "id": "GEF-bl0qeGz8"
      }
    },
    {
      "cell_type": "code",
      "source": [
        "a = 3\n",
        "\n",
        "type(a)"
      ],
      "metadata": {
        "colab": {
          "base_uri": "https://localhost:8080/"
        },
        "id": "Xhzll8_MgiGS",
        "outputId": "92d0e8bd-9151-4830-ed19-4c087d2465f6"
      },
      "execution_count": null,
      "outputs": [
        {
          "output_type": "execute_result",
          "data": {
            "text/plain": [
              "int"
            ]
          },
          "metadata": {},
          "execution_count": 5
        }
      ]
    },
    {
      "cell_type": "code",
      "source": [
        "b = 3.4\n",
        "\n",
        "type(b)"
      ],
      "metadata": {
        "colab": {
          "base_uri": "https://localhost:8080/"
        },
        "id": "t84HT7TOhDW1",
        "outputId": "cc6a60cb-923b-40c2-fdfc-7cf37dd577ca"
      },
      "execution_count": null,
      "outputs": [
        {
          "output_type": "execute_result",
          "data": {
            "text/plain": [
              "float"
            ]
          },
          "metadata": {},
          "execution_count": 6
        }
      ]
    },
    {
      "cell_type": "code",
      "source": [
        "c = a / 4\n",
        "\n",
        "type(c)"
      ],
      "metadata": {
        "colab": {
          "base_uri": "https://localhost:8080/"
        },
        "id": "Orpo9YxhhKKl",
        "outputId": "06ba71db-162a-4262-b149-64559589598a"
      },
      "execution_count": null,
      "outputs": [
        {
          "output_type": "execute_result",
          "data": {
            "text/plain": [
              "float"
            ]
          },
          "metadata": {},
          "execution_count": 7
        }
      ]
    },
    {
      "cell_type": "markdown",
      "source": [
        "We can force a variable to assume a specific data type in a process which is called **casting**. In the example below, we want to store the value in `a` (which is 3) as floating-point number – so we can cast it by calling `float(a)`."
      ],
      "metadata": {
        "id": "IiJ6M3javSAD"
      }
    },
    {
      "cell_type": "code",
      "source": [
        "d = float(a)\n",
        "\n",
        "d"
      ],
      "metadata": {
        "colab": {
          "base_uri": "https://localhost:8080/"
        },
        "id": "D7xI1bOAhOdD",
        "outputId": "f569fea5-f4dc-4f3d-fc4f-0ba74a367305"
      },
      "execution_count": null,
      "outputs": [
        {
          "output_type": "execute_result",
          "data": {
            "text/plain": [
              "3.0"
            ]
          },
          "metadata": {},
          "execution_count": 8
        }
      ]
    },
    {
      "cell_type": "code",
      "source": [
        "e = int(b)\n",
        "\n",
        "e"
      ],
      "metadata": {
        "colab": {
          "base_uri": "https://localhost:8080/"
        },
        "id": "Lz346tGOv7jN",
        "outputId": "5cd3ccf0-1880-4a8c-e8fb-620a750ee512"
      },
      "execution_count": null,
      "outputs": [
        {
          "output_type": "execute_result",
          "data": {
            "text/plain": [
              "3"
            ]
          },
          "metadata": {},
          "execution_count": 9
        }
      ]
    },
    {
      "cell_type": "code",
      "source": [
        "f = int(\"three\")"
      ],
      "metadata": {
        "colab": {
          "base_uri": "https://localhost:8080/",
          "height": 141
        },
        "id": "AH7KrP8Yv7UH",
        "outputId": "b39c2756-9732-4dd4-b487-ba0c4656af47"
      },
      "execution_count": null,
      "outputs": [
        {
          "output_type": "error",
          "ename": "ValueError",
          "evalue": "invalid literal for int() with base 10: 'three'",
          "traceback": [
            "\u001b[0;31m---------------------------------------------------------------------------\u001b[0m",
            "\u001b[0;31mValueError\u001b[0m                                Traceback (most recent call last)",
            "\u001b[0;32m<ipython-input-10-8202da82ff64>\u001b[0m in \u001b[0;36m<cell line: 1>\u001b[0;34m()\u001b[0m\n\u001b[0;32m----> 1\u001b[0;31m \u001b[0mf\u001b[0m \u001b[0;34m=\u001b[0m \u001b[0mint\u001b[0m\u001b[0;34m(\u001b[0m\u001b[0;34m\"three\"\u001b[0m\u001b[0;34m)\u001b[0m\u001b[0;34m\u001b[0m\u001b[0;34m\u001b[0m\u001b[0m\n\u001b[0m",
            "\u001b[0;31mValueError\u001b[0m: invalid literal for int() with base 10: 'three'"
          ]
        }
      ]
    },
    {
      "cell_type": "markdown",
      "source": [
        "Note that casting variable types does not always work without loss of information – and some data types and values can also be incompatible!"
      ],
      "metadata": {
        "id": "tF8gjXbfv03Q"
      }
    },
    {
      "cell_type": "markdown",
      "source": [
        "## Basic Operations in Python"
      ],
      "metadata": {
        "id": "4y1xaAQPjcLz"
      }
    },
    {
      "cell_type": "markdown",
      "source": [
        "### Calculating in Python\n"
      ],
      "metadata": {
        "id": "WxBV6HFwin72"
      }
    },
    {
      "cell_type": "markdown",
      "source": [
        "Using the basic number data types `int` and `float`, we can do a number of simple calculations using Python:\n",
        "\n",
        "* Addition: `+`\n",
        "* Subtraction: `-`\n",
        "* Multiplication: `*`\n",
        "* Division: `/`\n",
        "* Floor division: `//` (\"divide and round off\")\n",
        "* Modulus: `%` (\"remainder of division\")\n",
        "* Exponentiation: `**`\n",
        "\n",
        "Obviously, we can also do much more complex maths using Python. We will learn this at a later stage.\n",
        "\n",
        "---\n",
        "\n",
        "For now, let us explore the functionality of these basic calculation operations.\n",
        "\n",
        "```\n",
        "🎮  Try out the basic mathematical operations, and get a feeling for how they behave.\n",
        "```*italicized text*"
      ],
      "metadata": {
        "id": "T2K9NX0Tjhvi"
      }
    },
    {
      "cell_type": "code",
      "source": [
        "4 % 3"
      ],
      "metadata": {
        "colab": {
          "base_uri": "https://localhost:8080/"
        },
        "id": "YBzoacMrjbml",
        "outputId": "ab35954b-7249-42bc-86a6-4bd5eb40e2d0"
      },
      "execution_count": null,
      "outputs": [
        {
          "output_type": "execute_result",
          "data": {
            "text/plain": [
              "1"
            ]
          },
          "metadata": {},
          "execution_count": 11
        }
      ]
    },
    {
      "cell_type": "markdown",
      "source": [
        "### Comparison Operators"
      ],
      "metadata": {
        "id": "fQ1UBm6oifCG"
      }
    },
    {
      "cell_type": "markdown",
      "source": [
        "\n",
        "Comparison operators are used to compare two values. A comparison always returns a Boolean value (i.e. `True` if the comparison is true, or `False` if the comparison is false).\n",
        "\n",
        "* Equal to: `==`\n",
        "* Not equal to: `!=`\n",
        "* Greater than: `>`\n",
        "* Less than: `<`\n",
        "* Greater than or equal to: `>=`\n",
        "* Less than or equal to: `<=`\n",
        "\n",
        "> ❗ **Attention**: Please note the difference between `=` (used for assigning variables) and `==` (used for comparing variables). `a = 3` sets the value of variable `a` to 3, whereas `a == 3` checks whether the value of variable `a` is 3.\n",
        "\n",
        "```\n",
        "🎮  In the following cell, we assign values to the variables `a`, `b` and `c`.\n",
        "We can now try out the functionality of the different comparison operators.\n",
        "```"
      ],
      "metadata": {
        "id": "ERZVBbivmD7s"
      }
    },
    {
      "cell_type": "code",
      "source": [
        "a = 3\n",
        "b = 2.45\n",
        "c = -0.02145894850394\n",
        "\n",
        "c > b"
      ],
      "metadata": {
        "colab": {
          "base_uri": "https://localhost:8080/"
        },
        "id": "XlGlMnzgrQn_",
        "outputId": "d47e9e46-b666-4899-b792-1fbb8d10067f"
      },
      "execution_count": null,
      "outputs": [
        {
          "output_type": "execute_result",
          "data": {
            "text/plain": [
              "False"
            ]
          },
          "metadata": {},
          "execution_count": 12
        }
      ]
    },
    {
      "cell_type": "markdown",
      "source": [
        "In principle, this Boolean outcome can also be assigned to a new variable."
      ],
      "metadata": {
        "id": "kSlJYrjFgdcm"
      }
    },
    {
      "cell_type": "code",
      "source": [
        "d = c > b\n",
        "\n",
        "d"
      ],
      "metadata": {
        "colab": {
          "base_uri": "https://localhost:8080/"
        },
        "id": "seDtmB_KgdI9",
        "outputId": "b5312fb5-b3b6-4490-a0ef-6482b01df37a"
      },
      "execution_count": null,
      "outputs": [
        {
          "output_type": "execute_result",
          "data": {
            "text/plain": [
              "False"
            ]
          },
          "metadata": {},
          "execution_count": 13
        }
      ]
    },
    {
      "cell_type": "markdown",
      "source": [
        "### Boolean Logic in Python"
      ],
      "metadata": {
        "id": "c852AEYKihZA"
      }
    },
    {
      "cell_type": "markdown",
      "source": [
        "We have seen that Boolean Logic provides a fundamental way of evaluating logical operations. Boolean Logic can also be evaluated in Python. The elementary logical operations are implemented in Python as follows:\n",
        "\n",
        "* AND: `and`\n",
        "* OR: `or`\n",
        "* NOT: `not`\n",
        "* XOR: `!=`\n",
        "\n",
        "Further logical operations (e.g. NAND or NOR) can be used as a combination of NOT and the respective operator:\n",
        "\n",
        "* NAND: `not and`\n",
        "* NOR: `not or`\n",
        "\n",
        "```\n",
        "🎮  Test the functionality of Boolean logic in the following cells!\n",
        "```"
      ],
      "metadata": {
        "id": "VHvTI649k-Q5"
      }
    },
    {
      "cell_type": "code",
      "source": [
        "True and False"
      ],
      "metadata": {
        "id": "4WxtsSbPk4A6",
        "colab": {
          "base_uri": "https://localhost:8080/"
        },
        "outputId": "f6138c9b-c72e-4c4d-c729-5bc48a771766"
      },
      "execution_count": null,
      "outputs": [
        {
          "output_type": "execute_result",
          "data": {
            "text/plain": [
              "False"
            ]
          },
          "metadata": {},
          "execution_count": 14
        }
      ]
    },
    {
      "cell_type": "code",
      "source": [
        "a = True\n",
        "b = False\n",
        "c = False\n",
        "\n",
        "a and not b"
      ],
      "metadata": {
        "id": "5gIzDxYllM46",
        "colab": {
          "base_uri": "https://localhost:8080/"
        },
        "outputId": "f76af3d4-412b-45bc-f7ff-5758126f3a91"
      },
      "execution_count": null,
      "outputs": [
        {
          "output_type": "execute_result",
          "data": {
            "text/plain": [
              "True"
            ]
          },
          "metadata": {},
          "execution_count": 15
        }
      ]
    },
    {
      "cell_type": "markdown",
      "source": [
        "Understanding these basic Boolean operations will be critical for our next section, where we will start to learn about logical control flows."
      ],
      "metadata": {
        "id": "qcF-rm-lhjYW"
      }
    },
    {
      "cell_type": "markdown",
      "source": [
        "### Hierarchy of Operations"
      ],
      "metadata": {
        "id": "-IErop7RjCij"
      }
    },
    {
      "cell_type": "markdown",
      "source": [
        "As in basic mathematics, there is a hierarchy between different operations. For example, we all know the rule \"Multiplication and division first, then addition and subtraction\". Similarly, there is a hierarchy of which Python operations are executed in which order:\n",
        "\n",
        "1. Brackets: `(...)`, `[...]`, `{...}`\n",
        "2. Exponentiation: `**`\n",
        "3. Multiplication and Division: `*`, `/`, `//`, `%`\n",
        "4. Addition and Subtraction: `+`, `-`\n",
        "5. Comparisons: `==`, `!=`, `>`, `<`, `>=`, `<=`, `is`, `in`\n",
        "6. Boolean NOT: `not`\n",
        "7. Boolean AND: `and`\n",
        "8. Boolean OR: `or`\n",
        "\n",
        "Two expressions that are on the same hierarchy level will be executed \"from left to right\".\n",
        "\n",
        "> 💡 There is a number of further Python operations that we will learn about in future chapters, and that reside on different levels of this hierarchy.\n",
        "\n",
        "\n",
        "```\n",
        "🎮  First predict the outcome of the following cells, then test it!\n",
        "```"
      ],
      "metadata": {
        "id": "gmm3GKnNjGOr"
      }
    },
    {
      "cell_type": "code",
      "source": [
        "(False or True) != False"
      ],
      "metadata": {
        "id": "yC-BRj28m_Jk"
      },
      "execution_count": null,
      "outputs": []
    },
    {
      "cell_type": "code",
      "source": [
        "2 ** (20 % 4)"
      ],
      "metadata": {
        "id": "t6-9dY5BmAn4"
      },
      "execution_count": null,
      "outputs": []
    },
    {
      "cell_type": "code",
      "source": [
        "7 // 3 < 5 % 2 + 2"
      ],
      "metadata": {
        "id": "FWMSq6H1mHrG"
      },
      "execution_count": null,
      "outputs": []
    }
  ]
}